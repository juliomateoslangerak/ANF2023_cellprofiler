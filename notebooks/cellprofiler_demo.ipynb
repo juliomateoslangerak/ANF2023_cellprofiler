{
 "cells": [
  {
   "cell_type": "markdown",
   "metadata": {},
   "source": [
    "## CellProfiler-OMERO demo\n",
    "We have setup an example notebook to guide you through the steps to analise images stored in OMERO using CellProfiler\n",
    "\n",
    "Let's start by importing some libraries we are going to need"
   ]
  },
  {
   "cell_type": "code",
   "execution_count": 1,
   "metadata": {
    "ExecuteTime": {
     "end_time": "2023-06-06T14:36:01.828995768Z",
     "start_time": "2023-06-06T14:35:58.360215977Z"
    }
   },
   "outputs": [
    {
     "name": "stderr",
     "output_type": "stream",
     "text": [
      "\n",
      "Bad key text.latex.preview in file /home/julio/.conda/envs/cellprofiler4/lib/python3.8/site-packages/matplotlib/mpl-data/stylelib/_classic_test.mplstyle, line 123 ('text.latex.preview : False')\n",
      "You probably need to get an updated matplotlibrc file from\n",
      "https://github.com/matplotlib/matplotlib/blob/v3.5.3/matplotlibrc.template\n",
      "or from the matplotlib source distribution\n",
      "\n",
      "Bad key mathtext.fallback_to_cm in file /home/julio/.conda/envs/cellprofiler4/lib/python3.8/site-packages/matplotlib/mpl-data/stylelib/_classic_test.mplstyle, line 155 ('mathtext.fallback_to_cm : True  # When True, use symbols from the Computer Modern')\n",
      "You probably need to get an updated matplotlibrc file from\n",
      "https://github.com/matplotlib/matplotlib/blob/v3.5.3/matplotlibrc.template\n",
      "or from the matplotlib source distribution\n",
      "\n",
      "Bad key savefig.jpeg_quality in file /home/julio/.conda/envs/cellprofiler4/lib/python3.8/site-packages/matplotlib/mpl-data/stylelib/_classic_test.mplstyle, line 418 ('savefig.jpeg_quality: 95       # when a jpeg is saved, the default quality parameter.')\n",
      "You probably need to get an updated matplotlibrc file from\n",
      "https://github.com/matplotlib/matplotlib/blob/v3.5.3/matplotlibrc.template\n",
      "or from the matplotlib source distribution\n",
      "\n",
      "Bad key keymap.all_axes in file /home/julio/.conda/envs/cellprofiler4/lib/python3.8/site-packages/matplotlib/mpl-data/stylelib/_classic_test.mplstyle, line 466 ('keymap.all_axes : a                 # enable all axes')\n",
      "You probably need to get an updated matplotlibrc file from\n",
      "https://github.com/matplotlib/matplotlib/blob/v3.5.3/matplotlibrc.template\n",
      "or from the matplotlib source distribution\n",
      "\n",
      "Bad key animation.avconv_path in file /home/julio/.conda/envs/cellprofiler4/lib/python3.8/site-packages/matplotlib/mpl-data/stylelib/_classic_test.mplstyle, line 477 ('animation.avconv_path: avconv     # Path to avconv binary. Without full path')\n",
      "You probably need to get an updated matplotlibrc file from\n",
      "https://github.com/matplotlib/matplotlib/blob/v3.5.3/matplotlibrc.template\n",
      "or from the matplotlib source distribution\n",
      "\n",
      "Bad key animation.avconv_args in file /home/julio/.conda/envs/cellprofiler4/lib/python3.8/site-packages/matplotlib/mpl-data/stylelib/_classic_test.mplstyle, line 479 ('animation.avconv_args:            # Additional arguments to pass to avconv')\n",
      "You probably need to get an updated matplotlibrc file from\n",
      "https://github.com/matplotlib/matplotlib/blob/v3.5.3/matplotlibrc.template\n",
      "or from the matplotlib source distribution\n"
     ]
    }
   ],
   "source": [
    "import numpy as np\n",
    "from ipywidgets import IntProgress\n",
    "from IPython.display import display\n",
    "\n",
    "import warnings\n",
    "warnings.filterwarnings('ignore')\n",
    "\n",
    "from cp_omero_toolbox import *\n",
    "\n",
    "import ezomero\n",
    "\n",
    "import cellprofiler_core.preferences as cp_preferences\n",
    "\n",
    "import pandas as pd\n",
    "import tempfile"
   ]
  },
  {
   "cell_type": "code",
   "execution_count": 2,
   "metadata": {
    "ExecuteTime": {
     "end_time": "2023-06-06T14:37:08.845023035Z",
     "start_time": "2023-06-06T14:37:08.802279409Z"
    }
   },
   "outputs": [],
   "source": [
    "# Make CellProfiler run without a GUI\n",
    "cp_preferences.set_headless()\n",
    "\n",
    "# Tell CellProfiler to get input from and save output in a temp directory\n",
    "output_dir = tempfile.TemporaryDirectory()\n",
    "input_dir = tempfile.TemporaryDirectory()\n",
    "cp_preferences.set_default_output_directory(output_dir.name)\n",
    "cp_preferences.set_default_image_directory(input_dir.name)"
   ]
  },
  {
   "cell_type": "markdown",
   "metadata": {},
   "source": [
    "Let's connect to OMERO. When we connect we get a connection object that we will have to use in every interaction with OMERO."
   ]
  },
  {
   "cell_type": "code",
   "execution_count": 15,
   "metadata": {
    "ExecuteTime": {
     "end_time": "2023-06-06T15:05:07.761993858Z",
     "start_time": "2023-06-06T15:04:53.106334953Z"
    }
   },
   "outputs": [
    {
     "data": {
      "text/plain": "True"
     },
     "execution_count": 15,
     "metadata": {},
     "output_type": "execute_result"
    }
   ],
   "source": [
    "# Creating a connection object\n",
    "host = \"bioimage.france-bioinformatique.fr\"\n",
    "port = 4074\n",
    "conn = ezomero.connect(host=host, port=port)\n",
    "\n",
    "# Connecting\n",
    "conn.connect()\n",
    "# The connection will timeout after a period of inactivity. To avoid that we can tell our new connection to say \"Hi, I'm still here\"\n",
    "conn.c.enableKeepAlive(60)\n",
    "# Let's verify that we are connected\n",
    "conn.isConnected()"
   ]
  },
  {
   "cell_type": "markdown",
   "metadata": {},
   "source": [
    "Time to grasp a Dataset from OMERO and download a CellProfiler pipeline that is attached to it. Go to the browser, select a dataset and copy the ID."
   ]
  },
  {
   "cell_type": "code",
   "execution_count": 16,
   "metadata": {
    "ExecuteTime": {
     "end_time": "2023-06-06T15:05:26.178737146Z",
     "start_time": "2023-06-06T15:05:23.574094512Z"
    }
   },
   "outputs": [
    {
     "name": "stdout",
     "output_type": "stream",
     "text": [
      "1\n",
      "Downloaded /tmp/tmp0vrc31s_/Megane_SpotInNuclei-encours_test_V3.cppipe\n"
     ]
    }
   ],
   "source": [
    "dataset_id = int(input(\"Dataset id: \"))\n"
   ]
  },
  {
   "cell_type": "markdown",
   "metadata": {},
   "source": [
    "We create a new pipeline with that file, and we remove the first 4 modules. The first 4 modules are in charge of preparing the image data when they are loaded from disk. We don't need them here because we are using OMERO.\n"
   ]
  },
  {
   "cell_type": "code",
   "execution_count": null,
   "outputs": [],
   "source": [
    "measurements_dfs = run_cp_pipeline(cp_pipeline_path=cp_pipeline_path,\n",
    "                                   conn=conn,\n",
    "                                   dataset_id=dataset_id,\n",
    "                                   objects_to_image_table=\"Spots\",\n",
    "                                   objects_to_mask=\"Nuclei\",\n",
    "                                   objects_to_point=\"Spots\",\n",
    "                                   output_dir=output_dir)"
   ],
   "metadata": {
    "collapsed": false
   }
  },
  {
   "cell_type": "markdown",
   "metadata": {},
   "source": [
    "We can now start feeding images into the pipeline"
   ]
  },
  {
   "cell_type": "code",
   "execution_count": 17,
   "metadata": {
    "ExecuteTime": {
     "end_time": "2023-06-06T15:05:37.066169446Z",
     "start_time": "2023-06-06T15:05:36.951178390Z"
    }
   },
   "outputs": [
    {
     "name": "stdout",
     "output_type": "stream",
     "text": [
      "48\n",
      "[[12.0, 25.0, 25.0, 24.0, 19.0], [238.0, 429.0, 521.0, 365.0, 603.0], [270.0, 694.0, 906.0, 738.0, 1204.0], [0.0, 0.0, 0.0, 0.0, 0.010000000000005116], [0.0, 0.010000000000005116, 0.0, 0.010000000000019327, 0.009999999999990905], [0.46999999999999886, 1.5899999999999892, 1.3900000000000006, 0.47999999999998977, 0.5000000000000142], [0.45999999999999375, 0.700000000000017, 0.7599999999999909, 0.4700000000000131, 0.4899999999999807], [0.04000000000000625, 0.03999999999999204, 0.03999999999999204, 0.03999999999999204, 0.05000000000001137], [3.4200000000000017, 3.519999999999996, 3.489999999999995, 3.5600000000000023, 3.5799999999999983], [2.170000000000016, 2.219999999999999, 2.2600000000000193, 2.239999999999995, 2.3000000000000114], [0.37999999999998124, 0.4099999999999966, 0.3999999999999915, 0.4099999999999966, 0.45999999999999375], [0.23000000000000398, 0.23000000000000398, 0.2400000000000091, 0.23000000000000398, 0.2599999999999909], [0.060000000000002274, 0.07000000000000739, 0.06999999999999318, 0.060000000000002274, 0.06999999999999318], [0.020000000000010232, 0.009999999999990905, 0.020000000000010232, 0.009999999999990905, 0.010000000000005116], [0.009999999999990905, 0.009999999999990905, 0.009999999999990905, 0.020000000000010232, 0.009999999999990905], [0.010000000000005116, 0.0, 0.0, 0.009999999999990905, 0.010000000000005116], [0.010000000000005116, 0.009999999999990905, 0.009999999999990905, 0.0, 0.010000000000005116], [1, 1, 1, 1, 1], [1, 1, 1, 1, 1], [1, 1, 1, 1, 1], [1, 1, 1, 1, 1], [1, 1, 1, 1, 1], [0, 0, 0, 0, 0], [0, 0, 0, 0, 0], [0, 0, 0, 0, 0], [0, 0, 0, 0, 0], [0, 0, 0, 0, 0], [0, 0, 0, 0, 0], [0, 0, 0, 0, 0], [0, 0, 0, 0, 0], [0, 0, 0, 0, 0], [0, 0, 0, 0, 0], [0, 0, 0, 0, 0], [0, 0, 0, 0, 0], [0, 0, 0, 0, 0], [0, 0, 0, 0, 0], [0.0007388398409758674, 0.024353804271779213, 0.022108927697181664, 0.004905766313759631, 0.002631228059854816], [0.013431146211233248, 0.021756697668935263, 0.02029533147988535, 0.00986193996204964, 0.00888425814523804], [0.0008747954561840743, 0.02759889606386423, 0.025415781885385513, 0.005793582065962255, 0.0031668715528212488], [0.019014470279216766, 0.030413435772061348, 0.028259769082069397, 0.013732284307479858, 0.012426089495420456], [0.0019289041856742337, 0.01647019831012379, 0.015096522147170485, 0.003913893614208642, 0.00261117267418395], [0.0009661136091826926, 0.003033633296843615, 0.0031965775422780674, 0.0017911896484326935, 0.0015954926734539842], [-13.29572032736823, -12.317653279606477, -12.298451675732007, -12.67756226137136, -13.119578587337774], [-13.0132782110212, -12.850284706400487, -12.819402462214544, -13.061395570783782, -12.991631141843147], [0.5845811735721327, 2.4086951117816717, 1.9147015186713183, 1.0008336494738614, 0.8370524156945507], [0.05356520509424012, 0.11768981262919453, 0.14460082406354147, 0.13082587163058434, 0.11564431335603054], [55, 56, 57, 58, 59], [1, 1, 1, 1, 1]]\n"
     ]
    }
   ],
   "source": [
    "cols = measurements_dfs[\"Image\"].columns\n",
    "vals = [measurements_dfs[\"Image\"][c].values.tolist() for c in cols]\n",
    "\n",
    "print(len(vals))\n",
    "print(vals)\n",
    "\n"
   ]
  },
  {
   "cell_type": "code",
   "execution_count": 10,
   "metadata": {
    "ExecuteTime": {
     "end_time": "2023-06-06T14:51:59.331560387Z",
     "start_time": "2023-06-06T14:51:59.070885218Z"
    }
   },
   "outputs": [],
   "source": [
    "# remove the output directory\n",
    "output_dir.cleanup()\n",
    "\n",
    "# and close the connection to the OMERO server\n",
    "conn.close()"
   ]
  },
  {
   "cell_type": "code",
   "execution_count": null,
   "metadata": {},
   "outputs": [],
   "source": []
  }
 ],
 "metadata": {
  "kernelspec": {
   "display_name": "Python 3 (ipykernel)",
   "language": "python",
   "name": "python3"
  },
  "language_info": {
   "codemirror_mode": {
    "name": "ipython",
    "version": 3
   },
   "file_extension": ".py",
   "mimetype": "text/x-python",
   "name": "python",
   "nbconvert_exporter": "python",
   "pygments_lexer": "ipython3",
   "version": "3.8.16"
  }
 },
 "nbformat": 4,
 "nbformat_minor": 1
}
