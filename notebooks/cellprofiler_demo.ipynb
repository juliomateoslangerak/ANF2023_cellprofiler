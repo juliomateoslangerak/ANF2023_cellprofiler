{
 "cells": [
  {
   "cell_type": "markdown",
   "metadata": {},
   "source": [
    "## CellProfiler-OMERO demo\n",
    "We have setup an example notebook to guide you through the steps to analise images stored in OMERO using CellProfiler\n",
    "\n",
    "Let's start by importing some libraries we are going to need"
   ]
  },
  {
   "cell_type": "code",
   "metadata": {
    "ExecuteTime": {
     "end_time": "2024-11-29T12:21:50.319354Z",
     "start_time": "2024-11-29T12:21:47.703199Z"
    }
   },
   "source": [
    "import warnings\n",
    "\n",
    "from networkx.algorithms.bipartite.projection import project\n",
    "\n",
    "from notebooks.cp_omero_toolbox import run_dataset_cp_pipeline, run_project_cp_pipeline\n",
    "\n",
    "warnings.filterwarnings('ignore')\n",
    "\n",
    "import ezomero\n",
    "\n",
    "# Make CellProfiler run without a GUI\n",
    "import cellprofiler_core.preferences as cp_preferences\n",
    "cp_preferences.set_headless()\n",
    "\n",
    "from cp_omero_toolbox import *\n",
    "\n",
    "import tempfile"
   ],
   "outputs": [
    {
     "name": "stderr",
     "output_type": "stream",
     "text": [
      "\n",
      "Bad key text.latex.preview in file /home/julio/.conda/envs/cellprofiler4/lib/python3.8/site-packages/matplotlib/mpl-data/stylelib/_classic_test.mplstyle, line 123 ('text.latex.preview : False')\n",
      "You probably need to get an updated matplotlibrc file from\n",
      "https://github.com/matplotlib/matplotlib/blob/v3.5.3/matplotlibrc.template\n",
      "or from the matplotlib source distribution\n",
      "\n",
      "Bad key mathtext.fallback_to_cm in file /home/julio/.conda/envs/cellprofiler4/lib/python3.8/site-packages/matplotlib/mpl-data/stylelib/_classic_test.mplstyle, line 155 ('mathtext.fallback_to_cm : True  # When True, use symbols from the Computer Modern')\n",
      "You probably need to get an updated matplotlibrc file from\n",
      "https://github.com/matplotlib/matplotlib/blob/v3.5.3/matplotlibrc.template\n",
      "or from the matplotlib source distribution\n",
      "\n",
      "Bad key savefig.jpeg_quality in file /home/julio/.conda/envs/cellprofiler4/lib/python3.8/site-packages/matplotlib/mpl-data/stylelib/_classic_test.mplstyle, line 418 ('savefig.jpeg_quality: 95       # when a jpeg is saved, the default quality parameter.')\n",
      "You probably need to get an updated matplotlibrc file from\n",
      "https://github.com/matplotlib/matplotlib/blob/v3.5.3/matplotlibrc.template\n",
      "or from the matplotlib source distribution\n",
      "\n",
      "Bad key keymap.all_axes in file /home/julio/.conda/envs/cellprofiler4/lib/python3.8/site-packages/matplotlib/mpl-data/stylelib/_classic_test.mplstyle, line 466 ('keymap.all_axes : a                 # enable all axes')\n",
      "You probably need to get an updated matplotlibrc file from\n",
      "https://github.com/matplotlib/matplotlib/blob/v3.5.3/matplotlibrc.template\n",
      "or from the matplotlib source distribution\n",
      "\n",
      "Bad key animation.avconv_path in file /home/julio/.conda/envs/cellprofiler4/lib/python3.8/site-packages/matplotlib/mpl-data/stylelib/_classic_test.mplstyle, line 477 ('animation.avconv_path: avconv     # Path to avconv binary. Without full path')\n",
      "You probably need to get an updated matplotlibrc file from\n",
      "https://github.com/matplotlib/matplotlib/blob/v3.5.3/matplotlibrc.template\n",
      "or from the matplotlib source distribution\n",
      "\n",
      "Bad key animation.avconv_args in file /home/julio/.conda/envs/cellprofiler4/lib/python3.8/site-packages/matplotlib/mpl-data/stylelib/_classic_test.mplstyle, line 479 ('animation.avconv_args:            # Additional arguments to pass to avconv')\n",
      "You probably need to get an updated matplotlibrc file from\n",
      "https://github.com/matplotlib/matplotlib/blob/v3.5.3/matplotlibrc.template\n",
      "or from the matplotlib source distribution\n"
     ]
    }
   ],
   "execution_count": 1
  },
  {
   "cell_type": "code",
   "metadata": {
    "ExecuteTime": {
     "end_time": "2024-11-29T12:21:51.046594Z",
     "start_time": "2024-11-29T12:21:51.036089Z"
    }
   },
   "source": [
    "# Tell CellProfiler to get input from and save output in a temp directory\n",
    "output_dir = tempfile.TemporaryDirectory()\n",
    "input_dir = tempfile.TemporaryDirectory()\n",
    "cp_preferences.set_default_output_directory(output_dir.name)\n",
    "cp_preferences.set_default_image_directory(input_dir.name)"
   ],
   "outputs": [],
   "execution_count": 2
  },
  {
   "cell_type": "markdown",
   "metadata": {},
   "source": [
    "Let's connect to OMERO. When we connect we get a connection object that we will have to use in every interaction with OMERO."
   ]
  },
  {
   "cell_type": "code",
   "metadata": {
    "ExecuteTime": {
     "end_time": "2024-11-29T12:22:11.221917Z",
     "start_time": "2024-11-29T12:21:52.517897Z"
    }
   },
   "source": [
    "# Creating a connection object\n",
    "host = \"omero.mri.cnrs.fr\"\n",
    "port = 4064\n",
    "conn = ezomero.connect(host=host, port=port)\n",
    "\n",
    "# Connecting\n",
    "conn.connect()\n",
    "# The connection will timeout after a period of inactivity. To avoid that we can tell our new connection to say \"Hi, I'm still here\" every 60 seconds\n",
    "conn.c.enableKeepAlive(60)\n",
    "# Let's verify that we are connected\n",
    "conn.isConnected()"
   ],
   "outputs": [
    {
     "data": {
      "text/plain": [
       "True"
      ]
     },
     "execution_count": 3,
     "metadata": {},
     "output_type": "execute_result"
    }
   ],
   "execution_count": 3
  },
  {
   "cell_type": "markdown",
   "metadata": {},
   "source": [
    "Time to grasp a Dataset from OMERO and download a CellProfiler pipeline that is attached to it. Go to the browser, select a dataset and copy the ID."
   ]
  },
  {
   "cell_type": "code",
   "metadata": {
    "ExecuteTime": {
     "end_time": "2024-11-29T12:22:19.770432Z",
     "start_time": "2024-11-29T12:22:15.099485Z"
    }
   },
   "source": "project_id = int(input(\"Project id: \"))",
   "outputs": [],
   "execution_count": 4
  },
  {
   "cell_type": "markdown",
   "metadata": {},
   "source": [
    "We can now run a function that will do all the necessary steps\n",
    "- Download the pipeline that is attached to the specified dataset.\n",
    "- Modify the pipeline to run headless (without a GUI)\n",
    "- Run the analysis pipeline on every image in the dataset\n",
    "- Upload the results to OMERO\n",
    "  - Tables (measurements)\n",
    "  - ROIs (masks and points)\n",
    "- Gather the results and return them as a dictionary in case you want to do something with them"
   ]
  },
  {
   "cell_type": "code",
   "metadata": {
    "collapsed": false,
    "ExecuteTime": {
     "end_time": "2024-11-29T13:28:47.789382Z",
     "start_time": "2024-11-29T12:22:29.342946Z"
    }
   },
   "source": [
    "measurements_dfs = run_project_cp_pipeline(\n",
    "    conn=conn,\n",
    "    project_id=project_id,\n",
    "    objects_to_image_table=\"Nuclei\",\n",
    "    objects_to_mask=[\"Nuclei\"],\n",
    "    link_to_project=True,\n",
    "    link_to_dataset=False,\n",
    "    populate_key_value_pairs=True,\n",
    "    # objects_to_point=[\"spots\"],\n",
    "    output_dir=output_dir,\n",
    "    input_dir=input_dir\n",
    ")"
   ],
   "outputs": [
    {
     "name": "stderr",
     "output_type": "stream",
     "text": [
      "WARNING:root:Your pipeline version is 426 but you are running CellProfiler version 424. Loading this pipeline may fail or have unpredictable results.\n"
     ]
    },
    {
     "name": "stdout",
     "output_type": "stream",
     "text": [
      "Processing dataset D4 control\n",
      "    - image Controle D4-01-ApoTome RAW Convert-01.czi\n",
      "    - image Controle D4-02-ApoTome RAW Convert-02.czi\n",
      "    - image Controle D4-03-ApoTome RAW Convert-03.czi\n",
      "    - image Controle D4-04-ApoTome RAW Convert-04.czi\n",
      "    - image Controle D4-05-ApoTome RAW Convert-05.czi\n",
      "    - image Controle D4-06-ApoTome RAW Convert-06.czi\n",
      "    - image Controle D4-08-ApoTome RAW Convert-08.czi\n",
      "    - image Controle D4-09-ApoTome RAW Convert-09.czi\n",
      "    - image Controle D4-07-ApoTome RAW Convert-07.czi\n"
     ]
    },
    {
     "name": "stderr",
     "output_type": "stream",
     "text": [
      "WARNING:root:Your pipeline version is 426 but you are running CellProfiler version 424. Loading this pipeline may fail or have unpredictable results.\n"
     ]
    },
    {
     "name": "stdout",
     "output_type": "stream",
     "text": [
      "Processing dataset DMSO D4\n",
      "    - image DMSO D4-01-ApoTome RAW Convert-01.czi\n",
      "    - image DMSO D4-01-ApoTome RAW Convert-02.czi\n",
      "    - image DMSO D4-02-ApoTome RAW Convert-02.czi\n",
      "    - image DMSO D4-02-ApoTome RAW Convert-03.czi\n",
      "    - image DMSO D4-03-ApoTome RAW Convert-03.czi\n",
      "    - image DMSO D4-03-ApoTome RAW Convert-04.czi\n",
      "    - image DMSO D4-04-ApoTome RAW Convert-04.czi\n",
      "    - image DMSO D4-04-ApoTome RAW Convert-05.czi\n",
      "    - image DMSO D4-05-ApoTome RAW Convert-05.czi\n",
      "    - image DMSO D4-05-ApoTome RAW Convert-06.czi\n",
      "    - image DMSO D4-06-ApoTome RAW Convert-06.czi\n",
      "    - image DMSO D4-06-ApoTome RAW Convert-07.czi\n",
      "    - image DMSO D4-07-ApoTome RAW Convert-07.czi\n",
      "    - image DMSO D4-07-ApoTome RAW Convert-08.czi\n",
      "    - image DMSO D4-08-ApoTome RAW Convert-08.czi\n",
      "    - image DMSO D4-08-ApoTome RAW Convert-09.czi\n"
     ]
    },
    {
     "name": "stderr",
     "output_type": "stream",
     "text": [
      "WARNING:root:Your pipeline version is 426 but you are running CellProfiler version 424. Loading this pipeline may fail or have unpredictable results.\n"
     ]
    },
    {
     "name": "stdout",
     "output_type": "stream",
     "text": [
      "Processing dataset D4 10uM\n",
      "    - image D10 uM-07-ApoTome RAW Convert-16.czi\n",
      "    - image D10 uM-10-ApoTome RAW Convert-19.czi\n",
      "    - image D10 uM-08-ApoTome RAW Convert-17.czi\n",
      "    - image D10 uM-09-ApoTome RAW Convert-18.czi\n",
      "    - image D10 uM-01-ApoTome RAW Convert-10.czi\n",
      "    - image D10 uM-02-ApoTome RAW Convert-11.czi\n",
      "    - image D10 uM-03-ApoTome RAW Convert-12.czi\n",
      "    - image D10 uM-04-ApoTome RAW Convert-13.czi\n",
      "    - image D10 uM-05-ApoTome RAW Convert-14.czi\n",
      "    - image D10 uM-06-ApoTome RAW Convert-15.czi\n"
     ]
    },
    {
     "name": "stderr",
     "output_type": "stream",
     "text": [
      "WARNING:root:Your pipeline version is 426 but you are running CellProfiler version 424. Loading this pipeline may fail or have unpredictable results.\n"
     ]
    },
    {
     "name": "stdout",
     "output_type": "stream",
     "text": [
      "Processing dataset D7 controle\n",
      "    - image D7 controle-01-ApoTome RAW Convert-01.czi\n",
      "    - image D7 controle-02-ApoTome RAW Convert-02.czi\n",
      "    - image D7 controle-03-ApoTome RAW Convert-03.czi\n",
      "    - image D7 controle-04-ApoTome RAW Convert-04.czi\n",
      "    - image D7 controle-05-ApoTome RAW Convert-05.czi\n",
      "    - image D7 controle-06-ApoTome RAW Convert-06.czi\n",
      "    - image D7 controle-07-ApoTome RAW Convert-07.czi\n",
      "    - image D7 controle-08-ApoTome RAW Convert-08.czi\n",
      "    - image D7 controle-09-ApoTome RAW Convert-09.czi\n"
     ]
    },
    {
     "name": "stderr",
     "output_type": "stream",
     "text": [
      "WARNING:root:Your pipeline version is 426 but you are running CellProfiler version 424. Loading this pipeline may fail or have unpredictable results.\n"
     ]
    },
    {
     "name": "stdout",
     "output_type": "stream",
     "text": [
      "Processing dataset D7 DMSO diazinon\n",
      "    - image D7 DMSO-05-ApoTome RAW Convert-05.czi\n",
      "    - image D7 DMSO-07-ApoTome RAW Convert-07.czi\n",
      "    - image D7 DMSO-01-ApoTome RAW Convert-01.czi\n",
      "    - image D7 DMSO-02-ApoTome RAW Convert-02.czi\n",
      "    - image D7 DMSO-06-ApoTome RAW Convert-06.czi\n",
      "    - image D7 DMSO-08-ApoTome RAW Convert-08.czi\n",
      "    - image D7 DMSO-03-ApoTome RAW Convert-03.czi\n",
      "    - image D7 DMSO-04-ApoTome RAW Convert-04.czi\n"
     ]
    },
    {
     "name": "stderr",
     "output_type": "stream",
     "text": [
      "WARNING:root:Your pipeline version is 426 but you are running CellProfiler version 424. Loading this pipeline may fail or have unpredictable results.\n"
     ]
    },
    {
     "name": "stdout",
     "output_type": "stream",
     "text": [
      "Processing dataset D10 Diazinon 70uM\n",
      "    - image D10_70uM-01-ApoTome RAW Convert-01.czi\n",
      "    - image D10_70uM-02-ApoTome RAW Convert-02.czi\n",
      "    - image D10_70uM-03-ApoTome RAW Convert-03.czi\n",
      "    - image D10_70uM-04-ApoTome RAW Convert-04.czi\n",
      "    - image D10_70uM-05-ApoTome RAW Convert-05.czi\n",
      "    - image D10_70uM-06-ApoTome RAW Convert-06.czi\n",
      "    - image D10_70uM-07-ApoTome RAW Convert-07.czi\n",
      "    - image D10_70uM-08-ApoTome RAW Convert-08.czi\n",
      "    - image D10_70uM-09-ApoTome RAW Convert-09.czi\n",
      "    - image D10_70uM-10-ApoTome RAW Convert-10.czi\n",
      "    - image D10_70uM-11-ApoTome RAW Convert-11.czi\n",
      "    - image D10_70uM-12-ApoTome RAW Convert-12.czi\n",
      "    - image D10_70uM-13-ApoTome RAW Convert-13.czi\n",
      "    - image D10_70uM-14-ApoTome RAW Convert-14.czi\n",
      "    - image D10_70uM-15-ApoTome RAW Convert-15.czi\n",
      "    - image D10_70uM-16-ApoTome RAW Convert-16.czi\n",
      "    - image D10_70uM-17-ApoTome RAW Convert-17.czi\n",
      "    - image D10 70uM Dbis-01-ApoTome RAW Convert-01.czi\n",
      "    - image D10 70uM Dbis-02-ApoTome RAW Convert-02.czi\n",
      "    - image D10 70uM Dbis-03-ApoTome RAW Convert-03.czi\n",
      "    - image D10 70uM Dbis-04-ApoTome RAW Convert-04.czi\n",
      "    - image D10 70uM Dbis-05-ApoTome RAW Convert-05.czi\n",
      "    - image D10 70uM Dbis-06-ApoTome RAW Convert-06.czi\n",
      "    - image D10 70uM Dbis-07-ApoTome RAW Convert-07.czi\n",
      "    - image D10 70uM Dbis-08-ApoTome RAW Convert-08.czi\n"
     ]
    },
    {
     "name": "stderr",
     "output_type": "stream",
     "text": [
      "WARNING:root:Your pipeline version is 426 but you are running CellProfiler version 424. Loading this pipeline may fail or have unpredictable results.\n"
     ]
    },
    {
     "name": "stdout",
     "output_type": "stream",
     "text": [
      "Processing dataset D7 70uM\n",
      "    - image D7_70uM-01-ApoTome RAW Convert-01.czi\n",
      "    - image D7_70uM-02-ApoTome RAW Convert-02.czi\n",
      "    - image D7_70uM-03-ApoTome RAW Convert-03.czi\n",
      "    - image D7_70uM-04-ApoTome RAW Convert-04.czi\n",
      "    - image D7_70uM-05-ApoTome RAW Convert-05.czi\n",
      "    - image D7_70uM-06-ApoTome RAW Convert-06.czi\n",
      "    - image D7_70uM-07-ApoTome RAW Convert-07.czi\n",
      "    - image D7_70uM-08-ApoTome RAW Convert-08.czi\n",
      "    - image D7_70uM-09-ApoTome RAW Convert-09.czi\n"
     ]
    },
    {
     "name": "stderr",
     "output_type": "stream",
     "text": [
      "WARNING:root:Your pipeline version is 426 but you are running CellProfiler version 424. Loading this pipeline may fail or have unpredictable results.\n"
     ]
    },
    {
     "name": "stdout",
     "output_type": "stream",
     "text": [
      "Processing dataset D4 70uM\n",
      "    - image D4_70uM-01-ApoTome RAW Convert-01.czi\n",
      "    - image D4_70uM-02-ApoTome RAW Convert-02.czi\n",
      "    - image D4_70uM-05-ApoTome RAW Convert-05.czi\n",
      "    - image D4_70uM-06-ApoTome RAW Convert-06.czi\n",
      "    - image D4_70uM-07-ApoTome RAW Convert-07.czi\n",
      "    - image D4_70uM-08-ApoTome RAW Convert-08.czi\n",
      "    - image D4_70uM-09-ApoTome RAW Convert-09.czi\n",
      "    - image D4_70uM-03-ApoTome RAW Convert-03.czi\n",
      "    - image D4_70uM-04-ApoTome RAW Convert-04.czi\n"
     ]
    },
    {
     "name": "stderr",
     "output_type": "stream",
     "text": [
      "WARNING:root:Your pipeline version is 426 but you are running CellProfiler version 424. Loading this pipeline may fail or have unpredictable results.\n"
     ]
    },
    {
     "name": "stdout",
     "output_type": "stream",
     "text": [
      "Processing dataset D7 10uM diazinon\n",
      "    - image D7 10uM -01-ApoTome RAW Convert-01.czi\n",
      "    - image D7 10uM -02-ApoTome RAW Convert-02.czi\n",
      "    - image D7 10uM -03-ApoTome RAW Convert-03.czi\n",
      "    - image D7 10uM -04-ApoTome RAW Convert-04.czi\n",
      "    - image D7 10uM -05-ApoTome RAW Convert-05.czi\n",
      "    - image D7 10uM -06-ApoTome RAW Convert-06.czi\n",
      "    - image D7 10uM -07-ApoTome RAW Convert-07.czi\n",
      "    - image D7 10uM -08-ApoTome RAW Convert-08.czi\n",
      "    - image D7 10uM -09-ApoTome RAW Convert-09.czi\n",
      "    - image D7 10uM -10-ApoTome RAW Convert-10.czi\n"
     ]
    },
    {
     "name": "stderr",
     "output_type": "stream",
     "text": [
      "WARNING:root:Your pipeline version is 426 but you are running CellProfiler version 424. Loading this pipeline may fail or have unpredictable results.\n"
     ]
    },
    {
     "name": "stdout",
     "output_type": "stream",
     "text": [
      "Processing dataset D7 40uM diazinon\n",
      "    - image D7 40uM-01-ApoTome RAW Convert-01.czi\n",
      "    - image D7 40uM-02-ApoTome RAW Convert-02.czi\n",
      "    - image D7 40uM-03-ApoTome RAW Convert-03.czi\n",
      "    - image D7 40uM-04-ApoTome RAW Convert-04.czi\n",
      "    - image D7 40uM-05-ApoTome RAW Convert-05.czi\n",
      "    - image D7 40uM-06-ApoTome RAW Convert-06.czi\n",
      "    - image D7 40uM-07-ApoTome RAW Convert-07.czi\n",
      "    - image D7 40uM-08-ApoTome RAW Convert-08.czi\n",
      "    - image D7 40uM-09-ApoTome RAW Convert-09.czi\n"
     ]
    },
    {
     "name": "stderr",
     "output_type": "stream",
     "text": [
      "WARNING:root:Your pipeline version is 426 but you are running CellProfiler version 424. Loading this pipeline may fail or have unpredictable results.\n"
     ]
    },
    {
     "name": "stdout",
     "output_type": "stream",
     "text": [
      "Processing dataset D4 40uM diaz\n",
      "    - image D4 40uM-06-ApoTome RAW Convert-06.czi\n",
      "    - image D4 40uM-07-ApoTome RAW Convert-07.czi\n",
      "    - image D4 40uM-08-ApoTome RAW Convert-08.czi\n",
      "    - image D4 40uM-09-ApoTome RAW Convert-09.czi\n",
      "    - image D4 40uM-11-ApoTome RAW Convert-11.czi\n",
      "    - image D4 40uM-01-ApoTome RAW Convert-01.czi\n",
      "    - image D4 40uM-03-ApoTome RAW Convert-03.czi\n",
      "    - image D4 40uM-04-ApoTome RAW Convert-04.czi\n",
      "    - image D4 40uM-10-ApoTome RAW Convert-10.czi\n",
      "    - image D4 40uM-12-ApoTome RAW Convert-12.czi\n",
      "    - image D4 40uM-02-ApoTome RAW Convert-02.czi\n",
      "    - image D4 40uM-05-ApoTome RAW Convert-05.czi\n"
     ]
    },
    {
     "name": "stderr",
     "output_type": "stream",
     "text": [
      "WARNING:root:Your pipeline version is 426 but you are running CellProfiler version 424. Loading this pipeline may fail or have unpredictable results.\n"
     ]
    },
    {
     "name": "stdout",
     "output_type": "stream",
     "text": [
      "Processing dataset D10 controle\n",
      "    - image D10 controle-02-ApoTome RAW Convert-02.czi\n",
      "    - image D10 controle-04-ApoTome RAW Convert-04.czi\n",
      "    - image D10 controle-08-ApoTome RAW Convert-08.czi\n",
      "    - image D10 controle-01-ApoTome RAW Convert-01.czi\n",
      "    - image D10 controle-03-ApoTome RAW Convert-03.czi\n",
      "    - image D10 controle-05-ApoTome RAW Convert-05.czi\n",
      "    - image D10 controle-06-ApoTome RAW Convert-06.czi\n",
      "    - image D10 controle-07-ApoTome RAW Convert-07.czi\n",
      "    - image D10 controle-09-ApoTome RAW Convert-09.czi\n",
      "    - image D10 controle-10-ApoTome RAW Convert-10.czi\n"
     ]
    },
    {
     "name": "stderr",
     "output_type": "stream",
     "text": [
      "WARNING:root:Your pipeline version is 426 but you are running CellProfiler version 424. Loading this pipeline may fail or have unpredictable results.\n"
     ]
    },
    {
     "name": "stdout",
     "output_type": "stream",
     "text": [
      "Processing dataset D10 DMSO\n",
      "    - image D10 DMSO-01-ApoTome RAW Convert-01.czi\n",
      "    - image D10 DMSO-02-ApoTome RAW Convert-02.czi\n",
      "    - image D10 DMSO-03-ApoTome RAW Convert-03.czi\n",
      "    - image D10 DMSO-04-ApoTome RAW Convert-04.czi\n",
      "    - image D10 DMSO-05-ApoTome RAW Convert-05.czi\n",
      "    - image D10 DMSO-06-ApoTome RAW Convert-06.czi\n",
      "    - image D10 DMSO-07-ApoTome RAW Convert-07.czi\n",
      "    - image D10 DMSO-08-ApoTome RAW Convert-08.czi\n",
      "    - image D10 DMSO-09-ApoTome RAW Convert-09.czi\n"
     ]
    },
    {
     "name": "stderr",
     "output_type": "stream",
     "text": [
      "WARNING:root:Your pipeline version is 426 but you are running CellProfiler version 424. Loading this pipeline may fail or have unpredictable results.\n"
     ]
    },
    {
     "name": "stdout",
     "output_type": "stream",
     "text": [
      "Processing dataset D10 40uM diaz\n",
      "    - image D10 40uM diaz-01-ApoTome RAW Convert-01.czi\n",
      "    - image D10 40uM diaz-05-ApoTome RAW Convert-05.czi\n",
      "    - image D10 40uM diaz-09-ApoTome RAW Convert-09.czi\n",
      "    - image D10 40uM diaz-06-ApoTome RAW Convert-06.czi\n",
      "    - image D10 40uM diaz-08-ApoTome RAW Convert-08.czi\n",
      "    - image D10 40uM diaz-07-ApoTome RAW Convert-07.czi\n",
      "    - image D10 40uM diaz-02-ApoTome RAW Convert-02.czi\n",
      "    - image D10 40uM diaz-03-ApoTome RAW Convert-03.czi\n",
      "    - image D10 40uM diaz-04-ApoTome RAW Convert-04.czi\n"
     ]
    },
    {
     "name": "stderr",
     "output_type": "stream",
     "text": [
      "WARNING:root:Your pipeline version is 426 but you are running CellProfiler version 424. Loading this pipeline may fail or have unpredictable results.\n"
     ]
    },
    {
     "name": "stdout",
     "output_type": "stream",
     "text": [
      "Processing dataset D10 10uM diazinon\n",
      "    - image D10 10uM diaz-01-ApoTome RAW Convert-01.czi\n",
      "    - image D10 10uM diaz-02-ApoTome RAW Convert-02.czi\n",
      "    - image D10 10uM diaz-03-ApoTome RAW Convert-03.czi\n",
      "    - image D10 10uM diaz-04-ApoTome RAW Convert-04.czi\n",
      "    - image D10 10uM diaz-05-ApoTome RAW Convert-05.czi\n",
      "    - image D10 10uM diaz-06-ApoTome RAW Convert-06.czi\n",
      "    - image D10 10uM diaz-07-ApoTome RAW Convert-07.czi\n",
      "    - image D10 10uM diaz-08-ApoTome RAW Convert-08.czi\n",
      "    - image D10 10uM diaz-09-ApoTome RAW Convert-09.czi\n"
     ]
    },
    {
     "ename": "TypeError",
     "evalue": "object of type 'float' has no len()",
     "output_type": "error",
     "traceback": [
      "\u001B[0;31m---------------------------------------------------------------------------\u001B[0m",
      "\u001B[0;31mTypeError\u001B[0m                                 Traceback (most recent call last)",
      "Cell \u001B[0;32mIn[5], line 1\u001B[0m\n\u001B[0;32m----> 1\u001B[0m measurements_dfs \u001B[38;5;241m=\u001B[39m \u001B[43mrun_project_cp_pipeline\u001B[49m\u001B[43m(\u001B[49m\n\u001B[1;32m      2\u001B[0m \u001B[43m    \u001B[49m\u001B[43mconn\u001B[49m\u001B[38;5;241;43m=\u001B[39;49m\u001B[43mconn\u001B[49m\u001B[43m,\u001B[49m\n\u001B[1;32m      3\u001B[0m \u001B[43m    \u001B[49m\u001B[43mproject_id\u001B[49m\u001B[38;5;241;43m=\u001B[39;49m\u001B[43mproject_id\u001B[49m\u001B[43m,\u001B[49m\n\u001B[1;32m      4\u001B[0m \u001B[43m    \u001B[49m\u001B[43mobjects_to_image_table\u001B[49m\u001B[38;5;241;43m=\u001B[39;49m\u001B[38;5;124;43m\"\u001B[39;49m\u001B[38;5;124;43mNuclei\u001B[39;49m\u001B[38;5;124;43m\"\u001B[39;49m\u001B[43m,\u001B[49m\n\u001B[1;32m      5\u001B[0m \u001B[43m    \u001B[49m\u001B[43mobjects_to_mask\u001B[49m\u001B[38;5;241;43m=\u001B[39;49m\u001B[43m[\u001B[49m\u001B[38;5;124;43m\"\u001B[39;49m\u001B[38;5;124;43mNuclei\u001B[39;49m\u001B[38;5;124;43m\"\u001B[39;49m\u001B[43m]\u001B[49m\u001B[43m,\u001B[49m\n\u001B[1;32m      6\u001B[0m \u001B[43m    \u001B[49m\u001B[43mlink_to_project\u001B[49m\u001B[38;5;241;43m=\u001B[39;49m\u001B[38;5;28;43;01mTrue\u001B[39;49;00m\u001B[43m,\u001B[49m\n\u001B[1;32m      7\u001B[0m \u001B[43m    \u001B[49m\u001B[43mlink_to_dataset\u001B[49m\u001B[38;5;241;43m=\u001B[39;49m\u001B[38;5;28;43;01mFalse\u001B[39;49;00m\u001B[43m,\u001B[49m\n\u001B[1;32m      8\u001B[0m \u001B[43m    \u001B[49m\u001B[43mpopulate_key_value_pairs\u001B[49m\u001B[38;5;241;43m=\u001B[39;49m\u001B[38;5;28;43;01mTrue\u001B[39;49;00m\u001B[43m,\u001B[49m\n\u001B[1;32m      9\u001B[0m \u001B[43m    \u001B[49m\u001B[38;5;66;43;03m# objects_to_point=[\"spots\"],\u001B[39;49;00m\n\u001B[1;32m     10\u001B[0m \u001B[43m    \u001B[49m\u001B[43moutput_dir\u001B[49m\u001B[38;5;241;43m=\u001B[39;49m\u001B[43moutput_dir\u001B[49m\u001B[43m,\u001B[49m\n\u001B[1;32m     11\u001B[0m \u001B[43m    \u001B[49m\u001B[43minput_dir\u001B[49m\u001B[38;5;241;43m=\u001B[39;49m\u001B[43minput_dir\u001B[49m\n\u001B[1;32m     12\u001B[0m \u001B[43m)\u001B[49m\n",
      "File \u001B[0;32m~/PycharmProjects/ANF2023_cellprofiler/notebooks/cp_omero_toolbox.py:100\u001B[0m, in \u001B[0;36mrun_project_cp_pipeline\u001B[0;34m(conn, project_id, objects_to_image_table, objects_to_mask, objects_to_point, link_to_project, link_to_dataset, populate_key_value_pairs, output_dir, input_dir)\u001B[0m\n\u001B[1;32m     98\u001B[0m \u001B[38;5;28;01mif\u001B[39;00m link_to_project:\n\u001B[1;32m     99\u001B[0m     project \u001B[38;5;241m=\u001B[39m conn\u001B[38;5;241m.\u001B[39mgetObject(\u001B[38;5;124m\"\u001B[39m\u001B[38;5;124mProject\u001B[39m\u001B[38;5;124m\"\u001B[39m, project_id)\n\u001B[0;32m--> 100\u001B[0m     project_table \u001B[38;5;241m=\u001B[39m \u001B[43mcreate_annotation_table\u001B[49m\u001B[43m(\u001B[49m\n\u001B[1;32m    101\u001B[0m \u001B[43m        \u001B[49m\u001B[43mconn\u001B[49m\u001B[43m,\u001B[49m\u001B[43m \u001B[49m\u001B[38;5;124;43m\"\u001B[39;49m\u001B[38;5;124;43mproject_table\u001B[39;49m\u001B[38;5;124;43m\"\u001B[39;49m\u001B[43m,\u001B[49m\n\u001B[1;32m    102\u001B[0m \u001B[43m        \u001B[49m\u001B[43mcolumn_names\u001B[49m\u001B[38;5;241;43m=\u001B[39;49m\u001B[43mproject_df\u001B[49m\u001B[38;5;241;43m.\u001B[39;49m\u001B[43mcolumns\u001B[49m\u001B[38;5;241;43m.\u001B[39;49m\u001B[43mtolist\u001B[49m\u001B[43m(\u001B[49m\u001B[43m)\u001B[49m\u001B[43m,\u001B[49m\n\u001B[1;32m    103\u001B[0m \u001B[43m        \u001B[49m\u001B[43mcolumn_descriptions\u001B[49m\u001B[38;5;241;43m=\u001B[39;49m\u001B[43mproject_df\u001B[49m\u001B[38;5;241;43m.\u001B[39;49m\u001B[43mcolumns\u001B[49m\u001B[38;5;241;43m.\u001B[39;49m\u001B[43mtolist\u001B[49m\u001B[43m(\u001B[49m\u001B[43m)\u001B[49m\u001B[43m,\u001B[49m\n\u001B[1;32m    104\u001B[0m \u001B[43m        \u001B[49m\u001B[43mvalues\u001B[49m\u001B[38;5;241;43m=\u001B[39;49m\u001B[43m[\u001B[49m\u001B[43mproject_df\u001B[49m\u001B[43m[\u001B[49m\u001B[43mc\u001B[49m\u001B[43m]\u001B[49m\u001B[38;5;241;43m.\u001B[39;49m\u001B[43mvalues\u001B[49m\u001B[38;5;241;43m.\u001B[39;49m\u001B[43mtolist\u001B[49m\u001B[43m(\u001B[49m\u001B[43m)\u001B[49m\u001B[43m \u001B[49m\u001B[38;5;28;43;01mfor\u001B[39;49;00m\u001B[43m \u001B[49m\u001B[43mc\u001B[49m\u001B[43m \u001B[49m\u001B[38;5;129;43;01min\u001B[39;49;00m\n\u001B[1;32m    105\u001B[0m \u001B[43m                \u001B[49m\u001B[43mproject_df\u001B[49m\u001B[38;5;241;43m.\u001B[39;49m\u001B[43mcolumns\u001B[49m\u001B[43m]\u001B[49m\u001B[43m,\u001B[49m\n\u001B[1;32m    106\u001B[0m \u001B[43m        \u001B[49m\u001B[43mtypes\u001B[49m\u001B[38;5;241;43m=\u001B[39;49m\u001B[38;5;28;43;01mNone\u001B[39;49;00m\u001B[43m,\u001B[49m\n\u001B[1;32m    107\u001B[0m \u001B[43m        \u001B[49m\u001B[43mnamespace\u001B[49m\u001B[38;5;241;43m=\u001B[39;49m\u001B[38;5;124;43m\"\u001B[39;49m\u001B[38;5;124;43mCellProfiler_v4.2.5\u001B[39;49m\u001B[38;5;124;43m\"\u001B[39;49m\u001B[43m,\u001B[49m\n\u001B[1;32m    108\u001B[0m \u001B[43m        \u001B[49m\u001B[43mtable_description\u001B[49m\u001B[38;5;241;43m=\u001B[39;49m\u001B[38;5;124;43m\"\u001B[39;49m\u001B[38;5;124;43mproject_table\u001B[39;49m\u001B[38;5;124;43m\"\u001B[39;49m\n\u001B[1;32m    109\u001B[0m \u001B[43m   \u001B[49m\u001B[43m)\u001B[49m\n\u001B[1;32m    110\u001B[0m     link_annotation(project, project_table)\n",
      "File \u001B[0;32m~/PycharmProjects/ANF2023_cellprofiler/notebooks/cp_omero_toolbox.py:451\u001B[0m, in \u001B[0;36mcreate_annotation_table\u001B[0;34m(connection, table_name, column_names, column_descriptions, values, types, namespace, table_description)\u001B[0m\n\u001B[1;32m    447\u001B[0m     \u001B[38;5;28;01mraise\u001B[39;00m \u001B[38;5;167;01mValueError\u001B[39;00m(\u001B[38;5;124m'\u001B[39m\u001B[38;5;124mThe columns have different lengths\u001B[39m\u001B[38;5;124m'\u001B[39m)\n\u001B[1;32m    449\u001B[0m table_name \u001B[38;5;241m=\u001B[39m \u001B[38;5;124mf\u001B[39m\u001B[38;5;124m'\u001B[39m\u001B[38;5;132;01m{\u001B[39;00mtable_name\u001B[38;5;132;01m}\u001B[39;00m\u001B[38;5;124m_\u001B[39m\u001B[38;5;132;01m{\u001B[39;00m\u001B[38;5;124m\"\u001B[39m\u001B[38;5;124m\"\u001B[39m\u001B[38;5;241m.\u001B[39mjoin([choice(ascii_letters) \u001B[38;5;28;01mfor\u001B[39;00m _ \u001B[38;5;129;01min\u001B[39;00m \u001B[38;5;28mrange\u001B[39m(\u001B[38;5;241m32\u001B[39m)])\u001B[38;5;132;01m}\u001B[39;00m\u001B[38;5;124m.h5\u001B[39m\u001B[38;5;124m'\u001B[39m\n\u001B[0;32m--> 451\u001B[0m columns \u001B[38;5;241m=\u001B[39m \u001B[43m_create_table\u001B[49m\u001B[43m(\u001B[49m\u001B[43mcolumn_names\u001B[49m\u001B[38;5;241;43m=\u001B[39;49m\u001B[43mcolumn_names\u001B[49m\u001B[43m,\u001B[49m\n\u001B[1;32m    452\u001B[0m \u001B[43m                        \u001B[49m\u001B[43mcolumns_descriptions\u001B[49m\u001B[38;5;241;43m=\u001B[39;49m\u001B[43mcolumn_descriptions\u001B[49m\u001B[43m,\u001B[49m\n\u001B[1;32m    453\u001B[0m \u001B[43m                        \u001B[49m\u001B[43mvalues\u001B[49m\u001B[38;5;241;43m=\u001B[39;49m\u001B[43mvalues\u001B[49m\u001B[43m,\u001B[49m\n\u001B[1;32m    454\u001B[0m \u001B[43m                        \u001B[49m\u001B[43mtypes\u001B[49m\u001B[38;5;241;43m=\u001B[39;49m\u001B[43mtypes\u001B[49m\u001B[43m)\u001B[49m\n\u001B[1;32m    455\u001B[0m resources \u001B[38;5;241m=\u001B[39m connection\u001B[38;5;241m.\u001B[39mc\u001B[38;5;241m.\u001B[39msf\u001B[38;5;241m.\u001B[39msharedResources()\n\u001B[1;32m    456\u001B[0m repository_id \u001B[38;5;241m=\u001B[39m resources\u001B[38;5;241m.\u001B[39mrepositories()\u001B[38;5;241m.\u001B[39mdescriptions[\u001B[38;5;241m0\u001B[39m]\u001B[38;5;241m.\u001B[39mgetId()\u001B[38;5;241m.\u001B[39mgetValue()\n",
      "File \u001B[0;32m~/PycharmProjects/ANF2023_cellprofiler/notebooks/cp_omero_toolbox.py:380\u001B[0m, in \u001B[0;36m_create_table\u001B[0;34m(column_names, columns_descriptions, values, types)\u001B[0m\n\u001B[1;32m    376\u001B[0m \u001B[38;5;66;03m# Verify that all elements in values are the same type\u001B[39;00m\n\u001B[1;32m    377\u001B[0m \u001B[38;5;66;03m# if not all(isinstance(x, v_type) for x in v):\u001B[39;00m\n\u001B[1;32m    378\u001B[0m \u001B[38;5;66;03m#     raise TypeError(f'Not all elements in column {cn} are of the same type')\u001B[39;00m\n\u001B[1;32m    379\u001B[0m \u001B[38;5;28;01mif\u001B[39;00m v_type \u001B[38;5;241m==\u001B[39m \u001B[38;5;28mstr\u001B[39m:\n\u001B[0;32m--> 380\u001B[0m     size \u001B[38;5;241m=\u001B[39m \u001B[38;5;28mlen\u001B[39m(\u001B[38;5;28;43mmax\u001B[39;49m\u001B[43m(\u001B[49m\u001B[43mv\u001B[49m\u001B[43m,\u001B[49m\u001B[43m \u001B[49m\u001B[43mkey\u001B[49m\u001B[38;5;241;43m=\u001B[39;49m\u001B[38;5;28;43mlen\u001B[39;49m\u001B[43m)\u001B[49m) \u001B[38;5;241m*\u001B[39m \u001B[38;5;241m2\u001B[39m  \u001B[38;5;66;03m# We assume here that the max size is double of what we really have...\u001B[39;00m\n\u001B[1;32m    381\u001B[0m     args \u001B[38;5;241m=\u001B[39m {\u001B[38;5;124m'\u001B[39m\u001B[38;5;124mname\u001B[39m\u001B[38;5;124m'\u001B[39m: cn, \u001B[38;5;124m'\u001B[39m\u001B[38;5;124mdescription\u001B[39m\u001B[38;5;124m'\u001B[39m: cd, \u001B[38;5;124m'\u001B[39m\u001B[38;5;124msize\u001B[39m\u001B[38;5;124m'\u001B[39m: size, \u001B[38;5;124m'\u001B[39m\u001B[38;5;124mvalues\u001B[39m\u001B[38;5;124m'\u001B[39m: v}\n\u001B[1;32m    382\u001B[0m     columns\u001B[38;5;241m.\u001B[39mappend(_create_column(data_type\u001B[38;5;241m=\u001B[39m\u001B[38;5;124m'\u001B[39m\u001B[38;5;124mstring\u001B[39m\u001B[38;5;124m'\u001B[39m, kwargs\u001B[38;5;241m=\u001B[39margs))\n",
      "\u001B[0;31mTypeError\u001B[0m: object of type 'float' has no len()"
     ]
    }
   ],
   "execution_count": 5
  },
  {
   "cell_type": "markdown",
   "metadata": {},
   "source": [
    "After teh analysis is done. We can have a look at the results in OMERO.\n",
    "\n",
    "And we can also have a look at the results in the notebook"
   ]
  },
  {
   "cell_type": "code",
   "metadata": {
    "ExecuteTime": {
     "end_time": "2024-11-29T09:57:17.115822Z",
     "start_time": "2024-11-29T09:57:17.104692Z"
    }
   },
   "source": [
    "cols = measurements_dfs[\"Image\"].columns\n",
    "vals = [measurements_dfs[\"Image\"][c].values.tolist() for c in cols]\n",
    "\n",
    "print(len(vals))\n",
    "print(vals)\n",
    "\n"
   ],
   "outputs": [
    {
     "name": "stdout",
     "output_type": "stream",
     "text": [
      "33\n",
      "[[10.0, 12.0, 7.0, 14.0, 18.0, 36.0, 32.0, 23.0, 55.0], [0.019999999999999574, 0.0, 0.00999999999999801, 0.0, 0.010000000000005116, 0.010000000000005116, 0.009999999999990905, 0.0, 0.009999999999990905], [0.02999999999999936, 0.010000000000001563, 0.010000000000005116, 0.00999999999999801, 0.0, 0.0, 0.010000000000005116, 0.010000000000005116, 0.0], [2.210000000000001, 2.1999999999999957, 1.5300000000000047, 1.4699999999999989, 1.8200000000000074, 1.509999999999991, 1.5300000000000011, 1.4099999999999966, 1.509999999999991], [2.2699999999999996, 2.1700000000000017, 1.529999999999994, 1.4799999999999969, 1.8399999999999963, 1.5799999999999983, 1.6299999999999955, 1.509999999999991, 1.5600000000000023], [0.08999999999999986, 0.08000000000000185, 0.04000000000000625, 0.03999999999999915, 0.07000000000000028, 0.04000000000000625, 0.03999999999999204, 0.04000000000000625, 0.03999999999999204], [6.579999999999998, 5.869999999999997, 5.399999999999999, 5.530000000000001, 6.119999999999997, 5.75, 5.8500000000000085, 5.599999999999994, 6.490000000000009], [1.0300000000000011, 0.9400000000000013, 0.8500000000000014, 1.0300000000000011, 1.0700000000000003, 1.2199999999999989, 1.0900000000000034, 1.1100000000000136, 1.0300000000000011], [0.08999999999999986, 0.09999999999999787, 0.06999999999999318, 0.0799999999999983, 0.10000000000000142, 0.1699999999999875, 0.14999999999999147, 0.10999999999998522, 0.20999999999999375], [0.010000000000001563, 0.010000000000001563, 0.00999999999999801, 0.009999999999990905, 0.00999999999999801, 0.010000000000019327, 0.020000000000010232, 0.020000000000010232, 0.010000000000005116], [0.010000000000001563, 0.010000000000001563, 0.00999999999999801, 0.020000000000003126, 0.010000000000005116, 0.010000000000005116, 0.009999999999990905, 0.010000000000005116, 0.01999999999999602], [1, 1, 1, 1, 1, 1, 1, 1, 1], [1, 1, 1, 1, 1, 1, 1, 1, 1], [1, 1, 1, 1, 1, 1, 1, 1, 1], [1, 1, 1, 1, 1, 1, 1, 1, 1], [1, 1, 1, 1, 1, 1, 1, 1, 1], [0, 0, 0, 0, 0, 0, 0, 0, 0], [0, 0, 0, 0, 0, 0, 0, 0, 0], [0, 0, 0, 0, 0, 0, 0, 0, 0], [0, 0, 0, 0, 0, 0, 0, 0, 0], [0, 0, 0, 0, 0, 0, 0, 0, 0], [0, 0, 0, 0, 0, 0, 0, 0, 0], [0, 0, 0, 0, 0, 0, 0, 0, 0], [0, 0, 0, 0, 0, 0, 0, 0, 0], [0, 0, 0, 0, 0, 0, 0, 0, 0], [0, 0, 0, 0, 0, 0, 0, 0, 0], [0.012024754901189701, 0.022619375375400406, 0.019371020215690666, 0.010763317495924542, 0.011943055957377257, 0.02264802619831382, 0.01642655856605928, 0.013018566176574552, 0.02257859089148343], [0.016944196075201035, 0.03182291239500046, 0.027420252561569214, 0.015092635527253151, 0.016648679971694946, 0.03102003037929535, 0.022453434765338898, 0.01798706129193306, 0.030294153839349747], [0.0012381049606368802, 0.001909271920604027, 0.0013796806848717705, 0.001169330507845864, 0.0014183492028988082, 0.004530423882295638, 0.003948622667929218, 0.0022623239786473816, 0.006223593165314448], [-12.89347535541984, -12.380748174344745, -12.686700798466205, -12.833798033392164, -12.866690891401024, -12.633915347174302, -12.740395331797112, -12.869369968511885, -12.563554769101247], [0.3655374459337395, 0.18985583368353431, 0.20490336694335554, 0.37196342886775824, 0.36258789067892394, 0.7607082408816908, 1.0801744647145313, 0.46593958898512255, 0.781708362245233], [1747199, 1747200, 1747201, 1747202, 1747203, 1747204, 1747205, 1747206, 1747207], [25896, 25896, 25896, 25896, 25896, 25896, 25896, 25896, 25896]]\n"
     ]
    }
   ],
   "execution_count": 6
  },
  {
   "metadata": {},
   "cell_type": "markdown",
   "source": "And we should clean up after ourselves"
  },
  {
   "cell_type": "code",
   "source": [
    "# remove the output and input directories\n",
    "output_dir.cleanup()\n",
    "input_dir.cleanup()\n",
    "\n",
    "# and close the connection to the OMERO server\n",
    "conn.close()"
   ],
   "metadata": {
    "collapsed": false,
    "ExecuteTime": {
     "end_time": "2024-11-29T12:21:40.140926Z",
     "start_time": "2024-11-29T12:21:40.081170Z"
    }
   },
   "outputs": [],
   "execution_count": 6
  },
  {
   "cell_type": "code",
   "execution_count": null,
   "metadata": {},
   "outputs": [],
   "source": []
  }
 ],
 "metadata": {
  "kernelspec": {
   "display_name": "Python 3 (ipykernel)",
   "language": "python",
   "name": "python3"
  },
  "language_info": {
   "codemirror_mode": {
    "name": "ipython",
    "version": 3
   },
   "file_extension": ".py",
   "mimetype": "text/x-python",
   "name": "python",
   "nbconvert_exporter": "python",
   "pygments_lexer": "ipython3",
   "version": "3.8.16"
  }
 },
 "nbformat": 4,
 "nbformat_minor": 1
}
