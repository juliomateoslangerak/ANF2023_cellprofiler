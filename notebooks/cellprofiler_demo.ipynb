{
 "cells": [
  {
   "cell_type": "markdown",
   "metadata": {},
   "source": [
    "## CellProfiler-OMERO demo\n",
    "We have setup an example notebook to guide you through the steps to analise images stored in OMERO using CellProfiler\n",
    "\n",
    "Let's start by importing some libraries we are going to need"
   ]
  },
  {
   "cell_type": "code",
   "execution_count": 1,
   "metadata": {
    "ExecuteTime": {
     "end_time": "2023-06-09T11:54:05.451643861Z",
     "start_time": "2023-06-09T11:54:02.854997061Z"
    }
   },
   "outputs": [
    {
     "name": "stderr",
     "output_type": "stream",
     "text": [
      "\n",
      "Bad key text.latex.preview in file /home/julio/.conda/envs/cellprofiler4/lib/python3.8/site-packages/matplotlib/mpl-data/stylelib/_classic_test.mplstyle, line 123 ('text.latex.preview : False')\n",
      "You probably need to get an updated matplotlibrc file from\n",
      "https://github.com/matplotlib/matplotlib/blob/v3.5.3/matplotlibrc.template\n",
      "or from the matplotlib source distribution\n",
      "\n",
      "Bad key mathtext.fallback_to_cm in file /home/julio/.conda/envs/cellprofiler4/lib/python3.8/site-packages/matplotlib/mpl-data/stylelib/_classic_test.mplstyle, line 155 ('mathtext.fallback_to_cm : True  # When True, use symbols from the Computer Modern')\n",
      "You probably need to get an updated matplotlibrc file from\n",
      "https://github.com/matplotlib/matplotlib/blob/v3.5.3/matplotlibrc.template\n",
      "or from the matplotlib source distribution\n",
      "\n",
      "Bad key savefig.jpeg_quality in file /home/julio/.conda/envs/cellprofiler4/lib/python3.8/site-packages/matplotlib/mpl-data/stylelib/_classic_test.mplstyle, line 418 ('savefig.jpeg_quality: 95       # when a jpeg is saved, the default quality parameter.')\n",
      "You probably need to get an updated matplotlibrc file from\n",
      "https://github.com/matplotlib/matplotlib/blob/v3.5.3/matplotlibrc.template\n",
      "or from the matplotlib source distribution\n",
      "\n",
      "Bad key keymap.all_axes in file /home/julio/.conda/envs/cellprofiler4/lib/python3.8/site-packages/matplotlib/mpl-data/stylelib/_classic_test.mplstyle, line 466 ('keymap.all_axes : a                 # enable all axes')\n",
      "You probably need to get an updated matplotlibrc file from\n",
      "https://github.com/matplotlib/matplotlib/blob/v3.5.3/matplotlibrc.template\n",
      "or from the matplotlib source distribution\n",
      "\n",
      "Bad key animation.avconv_path in file /home/julio/.conda/envs/cellprofiler4/lib/python3.8/site-packages/matplotlib/mpl-data/stylelib/_classic_test.mplstyle, line 477 ('animation.avconv_path: avconv     # Path to avconv binary. Without full path')\n",
      "You probably need to get an updated matplotlibrc file from\n",
      "https://github.com/matplotlib/matplotlib/blob/v3.5.3/matplotlibrc.template\n",
      "or from the matplotlib source distribution\n",
      "\n",
      "Bad key animation.avconv_args in file /home/julio/.conda/envs/cellprofiler4/lib/python3.8/site-packages/matplotlib/mpl-data/stylelib/_classic_test.mplstyle, line 479 ('animation.avconv_args:            # Additional arguments to pass to avconv')\n",
      "You probably need to get an updated matplotlibrc file from\n",
      "https://github.com/matplotlib/matplotlib/blob/v3.5.3/matplotlibrc.template\n",
      "or from the matplotlib source distribution\n"
     ]
    }
   ],
   "source": [
    "import warnings\n",
    "warnings.filterwarnings('ignore')\n",
    "\n",
    "import ezomero\n",
    "\n",
    "# Make CellProfiler run without a GUI\n",
    "import cellprofiler_core.preferences as cp_preferences\n",
    "cp_preferences.set_headless()\n",
    "\n",
    "from cp_omero_toolbox import *\n",
    "\n",
    "import tempfile"
   ]
  },
  {
   "cell_type": "code",
   "execution_count": 2,
   "metadata": {
    "ExecuteTime": {
     "end_time": "2023-06-09T11:54:24.997970998Z",
     "start_time": "2023-06-09T11:54:24.995743885Z"
    }
   },
   "outputs": [],
   "source": [
    "# Tell CellProfiler to get input from and save output in a temp directory\n",
    "output_dir = tempfile.TemporaryDirectory()\n",
    "input_dir = tempfile.TemporaryDirectory()\n",
    "cp_preferences.set_default_output_directory(output_dir.name)\n",
    "cp_preferences.set_default_image_directory(input_dir.name)"
   ]
  },
  {
   "cell_type": "markdown",
   "metadata": {},
   "source": [
    "Let's connect to OMERO. When we connect we get a connection object that we will have to use in every interaction with OMERO."
   ]
  },
  {
   "cell_type": "code",
   "execution_count": 3,
   "metadata": {
    "ExecuteTime": {
     "end_time": "2023-06-09T11:54:39.743990787Z",
     "start_time": "2023-06-09T11:54:28.090076440Z"
    }
   },
   "outputs": [
    {
     "data": {
      "text/plain": "True"
     },
     "execution_count": 3,
     "metadata": {},
     "output_type": "execute_result"
    }
   ],
   "source": [
    "# Creating a connection object\n",
    "host = \"bioimage.france-bioinformatique.fr\"\n",
    "port = 4074\n",
    "conn = ezomero.connect(host=host, port=port)\n",
    "\n",
    "# Connecting\n",
    "conn.connect()\n",
    "# The connection will timeout after a period of inactivity. To avoid that we can tell our new connection to say \"Hi, I'm still here\"\n",
    "conn.c.enableKeepAlive(60)\n",
    "# Let's verify that we are connected\n",
    "conn.isConnected()"
   ]
  },
  {
   "cell_type": "markdown",
   "metadata": {},
   "source": [
    "Time to grasp a Dataset from OMERO and download a CellProfiler pipeline that is attached to it. Go to the browser, select a dataset and copy the ID."
   ]
  },
  {
   "cell_type": "code",
   "execution_count": 4,
   "metadata": {
    "ExecuteTime": {
     "end_time": "2023-06-09T11:54:53.524729029Z",
     "start_time": "2023-06-09T11:54:49.078693376Z"
    }
   },
   "outputs": [],
   "source": [
    "dataset_id = int(input(\"Dataset id: \"))\n"
   ]
  },
  {
   "cell_type": "markdown",
   "metadata": {},
   "source": [
    "We create a new pipeline with that file, and we remove the first 4 modules. The first 4 modules are in charge of preparing the image data when they are loaded from disk. We don't need them here because we are using OMERO.\n"
   ]
  },
  {
   "cell_type": "code",
   "execution_count": 5,
   "metadata": {
    "collapsed": false,
    "ExecuteTime": {
     "end_time": "2023-06-09T11:58:49.027835469Z",
     "start_time": "2023-06-09T11:55:07.278031950Z"
    }
   },
   "outputs": [
    {
     "name": "stdout",
     "output_type": "stream",
     "text": [
      "Downloaded /tmp/tmpnkvqyy4y/Megane_SpotInNuclei-encours_test_V3.cppipe\n",
      "Remove module:  Images\n",
      "Remove module:  Metadata\n",
      "Remove module:  NamesAndTypes\n",
      "Remove module:  Groups\n",
      "Pipeline modules:\n",
      "1 CorrectIlluminationCalculate\n",
      "2 CorrectIlluminationCalculate\n",
      "3 CorrectIlluminationApply\n",
      "4 IdentifyPrimaryObjects\n",
      "5 IdentifyPrimaryObjects\n",
      "6 RelateObjects\n",
      "7 MeasureObjectIntensity\n",
      "8 RelateObjects\n",
      "9 ConvertObjectsToImage\n",
      "10 ConvertObjectsToImage\n",
      "11 SaveImages\n",
      "12 SaveImages\n"
     ]
    }
   ],
   "source": [
    "measurements_dfs = run_cp_pipeline(conn=conn,\n",
    "                                   dataset_id=dataset_id,\n",
    "                                   objects_to_image_table=\"spots\",\n",
    "                                   objects_to_mask=[\"nuclei\"],\n",
    "                                   objects_to_point=[\"spots\"],\n",
    "                                   output_dir=output_dir,\n",
    "                                   input_dir=input_dir)"
   ]
  },
  {
   "cell_type": "markdown",
   "metadata": {},
   "source": [
    "We can now start feeding images into the pipeline"
   ]
  },
  {
   "cell_type": "code",
   "execution_count": 6,
   "metadata": {
    "ExecuteTime": {
     "end_time": "2023-06-09T11:59:54.112989470Z",
     "start_time": "2023-06-09T11:59:54.070991795Z"
    }
   },
   "outputs": [
    {
     "name": "stdout",
     "output_type": "stream",
     "text": [
      "48\n",
      "[[25.0, 25.0, 24.0, 19.0, 12.0], [429.0, 521.0, 365.0, 603.0, 238.0], [694.0, 906.0, 738.0, 1204.0, 270.0], [0.019999999999999574, 0.00999999999999801, 0.0, 0.010000000000005116, 0.0], [0.009999999999999787, 0.010000000000001563, 0.00999999999999801, 0.00999999999999801, 0.0], [1.5199999999999996, 1.4299999999999997, 0.4800000000000004, 0.46999999999999886, 0.47000000000000597], [0.7299999999999995, 0.7399999999999984, 0.4599999999999973, 0.4899999999999949, 0.46999999999999886], [0.05000000000000071, 0.03999999999999915, 0.030000000000001137, 0.04000000000000625, 0.03999999999999915], [3.58, 3.5600000000000023, 3.490000000000002, 3.4399999999999977, 3.519999999999996], [2.2200000000000006, 2.2200000000000024, 2.200000000000003, 2.1799999999999997, 2.1899999999999977], [0.3999999999999986, 0.39000000000000057, 0.4099999999999966, 0.4099999999999966, 0.3900000000000077], [0.2400000000000002, 0.23999999999999488, 0.23000000000000398, 0.23000000000000398, 0.36999999999999744], [0.0600000000000005, 0.07000000000000028, 0.05999999999999517, 0.06999999999999318, 0.060000000000002274], [0.02000000000000135, 0.010000000000001563, 0.00999999999999801, 0.010000000000005116, 0.00999999999999801], [0.019999999999999574, 0.019999999999999574, 0.00999999999999801, 0.01999999999999602, 0.00999999999999801], [0.009999999999999787, 0.010000000000001563, 0.00999999999999801, 0.00999999999999801, 0.010000000000005116], [0.0, 0.00999999999999801, 0.0, 0.010000000000005116, 0.00999999999999801], [1, 1, 1, 1, 1], [1, 1, 1, 1, 1], [1, 1, 1, 1, 1], [1, 1, 1, 1, 1], [1, 1, 1, 1, 1], [0, 0, 0, 0, 0], [0, 0, 0, 0, 0], [0, 0, 0, 0, 0], [0, 0, 0, 0, 0], [0, 0, 0, 0, 0], [0, 0, 0, 0, 0], [0, 0, 0, 0, 0], [0, 0, 0, 0, 0], [0, 0, 0, 0, 0], [0, 0, 0, 0, 0], [0, 0, 0, 0, 0], [0, 0, 0, 0, 0], [0, 0, 0, 0, 0], [0, 0, 0, 0, 0], [0.024353804271779213, 0.022108927697181664, 0.004905766313759631, 0.002631228059854816, 0.0007388398409758674], [0.021756697668935263, 0.02029533147988535, 0.00986193996204964, 0.00888425814523804, 0.013431146211233248], [0.02759889606386423, 0.025415781885385513, 0.005793582065962255, 0.0031668715528212488, 0.0008747954561840743], [0.030413435772061348, 0.028259769082069397, 0.013732284307479858, 0.012426089495420456, 0.019014470279216766], [0.01647019831012379, 0.015096522147170485, 0.003913893614208642, 0.00261117267418395, 0.0019289041856742337], [0.003033633296843615, 0.0031965775422780674, 0.0017911896484326935, 0.0015954926734539842, 0.0009661136091826926], [-12.317653279606477, -12.298451675732007, -12.67756226137136, -13.119578587337774, -13.29572032736823], [-12.850284706400487, -12.819402462214544, -13.061395570783782, -12.991631141843147, -13.0132782110212], [2.4086951117816717, 1.9147015186713183, 1.0008336494738614, 0.8370524156945507, 0.5845811735721327], [0.11768981262919453, 0.14460082406354147, 0.13082587163058434, 0.11564431335603054, 0.05356520509424012], [56, 57, 58, 59, 55], [1, 1, 1, 1, 1]]\n"
     ]
    }
   ],
   "source": [
    "cols = measurements_dfs[\"Image\"].columns\n",
    "vals = [measurements_dfs[\"Image\"][c].values.tolist() for c in cols]\n",
    "\n",
    "print(len(vals))\n",
    "print(vals)\n",
    "\n"
   ]
  },
  {
   "cell_type": "code",
   "execution_count": 10,
   "metadata": {
    "ExecuteTime": {
     "end_time": "2023-06-06T14:51:59.331560387Z",
     "start_time": "2023-06-06T14:51:59.070885218Z"
    }
   },
   "outputs": [],
   "source": [
    "# remove the output directory\n",
    "output_dir.cleanup()\n",
    "\n",
    "# and close the connection to the OMERO server\n",
    "conn.close()"
   ]
  },
  {
   "cell_type": "code",
   "execution_count": null,
   "metadata": {},
   "outputs": [],
   "source": []
  }
 ],
 "metadata": {
  "kernelspec": {
   "display_name": "Python 3 (ipykernel)",
   "language": "python",
   "name": "python3"
  },
  "language_info": {
   "codemirror_mode": {
    "name": "ipython",
    "version": 3
   },
   "file_extension": ".py",
   "mimetype": "text/x-python",
   "name": "python",
   "nbconvert_exporter": "python",
   "pygments_lexer": "ipython3",
   "version": "3.8.16"
  }
 },
 "nbformat": 4,
 "nbformat_minor": 1
}
