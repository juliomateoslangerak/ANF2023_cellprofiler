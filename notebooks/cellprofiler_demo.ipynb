{
 "cells": [
  {
   "cell_type": "markdown",
   "metadata": {},
   "source": [
    "## CellProfiler-OMERO demo\n",
    "We have setup an example notebook to guide you through the steps to analise images stored in OMERO using CellProfiler\n",
    "\n",
    "Let's start by importing some libraries we are going to need"
   ]
  },
  {
   "cell_type": "code",
   "metadata": {
    "ExecuteTime": {
     "end_time": "2024-12-04T14:36:05.267404Z",
     "start_time": "2024-12-04T14:36:01.482533Z"
    }
   },
   "source": [
    "import warnings\n",
    "\n",
    "# from networkx.algorithms.bipartite.projection import project\n",
    "\n",
    "from notebooks.cp_omero_toolbox import run_dataset_cp_pipeline, run_project_cp_pipeline\n",
    "\n",
    "warnings.filterwarnings('ignore')\n",
    "\n",
    "import ezomero\n",
    "\n",
    "# Make CellProfiler run without a GUI\n",
    "import cellprofiler_core.preferences as cp_preferences\n",
    "cp_preferences.set_headless()\n",
    "\n",
    "from cp_omero_toolbox import *\n",
    "\n",
    "import tempfile"
   ],
   "outputs": [],
   "execution_count": 1
  },
  {
   "cell_type": "code",
   "metadata": {
    "ExecuteTime": {
     "end_time": "2024-12-04T14:36:05.279739Z",
     "start_time": "2024-12-04T14:36:05.275124Z"
    }
   },
   "source": [
    "# Tell CellProfiler to get input from and save output in a temp directory\n",
    "output_dir = tempfile.TemporaryDirectory()\n",
    "input_dir = tempfile.TemporaryDirectory()\n",
    "cp_preferences.set_default_output_directory(output_dir.name)\n",
    "cp_preferences.set_default_image_directory(input_dir.name)"
   ],
   "outputs": [],
   "execution_count": 2
  },
  {
   "cell_type": "markdown",
   "metadata": {},
   "source": [
    "Let's connect to OMERO. When we connect we get a connection object that we will have to use in every interaction with OMERO."
   ]
  },
  {
   "cell_type": "code",
   "metadata": {
    "ExecuteTime": {
     "end_time": "2024-12-04T14:36:23.234587Z",
     "start_time": "2024-12-04T14:36:06.605223Z"
    }
   },
   "source": [
    "# Creating a connection object\n",
    "host = \"omero.mri.cnrs.fr\"\n",
    "port = 4064\n",
    "conn = ezomero.connect(host=host, port=port,secure=True)\n",
    "\n",
    "# Connecting\n",
    "conn.connect()\n",
    "# The connection will timeout after a period of inactivity. To avoid that we can tell our new connection to say \"Hi, I'm still here\" every 60 seconds\n",
    "conn.c.enableKeepAlive(60)\n",
    "# Let's verify that we are connected\n",
    "conn.isConnected()"
   ],
   "outputs": [
    {
     "data": {
      "text/plain": [
       "True"
      ]
     },
     "execution_count": 3,
     "metadata": {},
     "output_type": "execute_result"
    }
   ],
   "execution_count": 3
  },
  {
   "cell_type": "markdown",
   "metadata": {},
   "source": [
    "Time to grasp a Dataset from OMERO and download a CellProfiler pipeline that is attached to it. Go to the browser, select a dataset and copy the ID."
   ]
  },
  {
   "cell_type": "code",
   "metadata": {
    "ExecuteTime": {
     "end_time": "2024-12-04T14:36:31.539558Z",
     "start_time": "2024-12-04T14:36:27.142898Z"
    }
   },
   "source": "project_id = int(input(\"Project id: \"))",
   "outputs": [],
   "execution_count": 4
  },
  {
   "cell_type": "markdown",
   "metadata": {},
   "source": [
    "We can now run a function that will do all the necessary steps\n",
    "- Download the pipeline that is attached to the specified dataset.\n",
    "- Modify the pipeline to run headless (without a GUI)\n",
    "- Run the analysis pipeline on every image in the dataset\n",
    "- Upload the results to OMERO\n",
    "  - Tables (measurements)\n",
    "  - ROIs (masks and points)\n",
    "- Gather the results and return them as a dictionary in case you want to do something with them"
   ]
  },
  {
   "cell_type": "code",
   "metadata": {
    "collapsed": false,
    "ExecuteTime": {
     "end_time": "2024-12-04T15:09:45.723720Z",
     "start_time": "2024-12-04T14:36:35.518344Z"
    }
   },
   "source": [
    "measurements_dfs = run_project_cp_pipeline(\n",
    "    conn=conn,\n",
    "    project_id=project_id,\n",
    "    objects_to_image_table=\"Nuclei\",\n",
    "    objects_to_mask=[\"Nuclei\"],\n",
    "    link_to_project=True,\n",
    "    link_to_dataset=False,\n",
    "    link_to_image=False,\n",
    "    populate_key_value_pairs=True,\n",
    "    # objects_to_point=[\"spots\"],\n",
    "    output_dir=output_dir,\n",
    "    input_dir=input_dir\n",
    ")"
   ],
   "outputs": [
    {
     "name": "stderr",
     "output_type": "stream",
     "text": [
      "WARNING:root:Your pipeline version is 426 but you are running CellProfiler version 425. Loading this pipeline may fail or have unpredictable results.\n"
     ]
    },
    {
     "name": "stdout",
     "output_type": "stream",
     "text": [
      "Processing dataset D4 control\n",
      "    - image Controle D4-01-ApoTome RAW Convert-01.czi\n",
      "    - image Controle D4-02-ApoTome RAW Convert-02.czi\n",
      "    - image Controle D4-03-ApoTome RAW Convert-03.czi\n",
      "    - image Controle D4-04-ApoTome RAW Convert-04.czi\n",
      "    - image Controle D4-05-ApoTome RAW Convert-05.czi\n",
      "    - image Controle D4-06-ApoTome RAW Convert-06.czi\n",
      "    - image Controle D4-08-ApoTome RAW Convert-08.czi\n",
      "    - image Controle D4-09-ApoTome RAW Convert-09.czi\n",
      "    - image Controle D4-07-ApoTome RAW Convert-07.czi\n"
     ]
    },
    {
     "name": "stderr",
     "output_type": "stream",
     "text": [
      "WARNING:root:Your pipeline version is 426 but you are running CellProfiler version 425. Loading this pipeline may fail or have unpredictable results.\n"
     ]
    },
    {
     "name": "stdout",
     "output_type": "stream",
     "text": [
      "Processing dataset DMSO D4\n",
      "    - image DMSO D4-01-ApoTome RAW Convert-01.czi\n",
      "    - image DMSO D4-01-ApoTome RAW Convert-02.czi\n",
      "    - image DMSO D4-02-ApoTome RAW Convert-02.czi\n",
      "    - image DMSO D4-02-ApoTome RAW Convert-03.czi\n",
      "    - image DMSO D4-03-ApoTome RAW Convert-03.czi\n",
      "    - image DMSO D4-03-ApoTome RAW Convert-04.czi\n",
      "    - image DMSO D4-04-ApoTome RAW Convert-04.czi\n",
      "    - image DMSO D4-04-ApoTome RAW Convert-05.czi\n",
      "    - image DMSO D4-05-ApoTome RAW Convert-05.czi\n",
      "    - image DMSO D4-05-ApoTome RAW Convert-06.czi\n",
      "    - image DMSO D4-06-ApoTome RAW Convert-06.czi\n",
      "    - image DMSO D4-06-ApoTome RAW Convert-07.czi\n",
      "    - image DMSO D4-07-ApoTome RAW Convert-07.czi\n",
      "    - image DMSO D4-07-ApoTome RAW Convert-08.czi\n",
      "    - image DMSO D4-08-ApoTome RAW Convert-08.czi\n",
      "    - image DMSO D4-08-ApoTome RAW Convert-09.czi\n"
     ]
    },
    {
     "name": "stderr",
     "output_type": "stream",
     "text": [
      "WARNING:root:Your pipeline version is 426 but you are running CellProfiler version 425. Loading this pipeline may fail or have unpredictable results.\n"
     ]
    },
    {
     "name": "stdout",
     "output_type": "stream",
     "text": [
      "Processing dataset D4 10uM\n",
      "    - image D10 uM-07-ApoTome RAW Convert-16.czi\n",
      "    - image D10 uM-10-ApoTome RAW Convert-19.czi\n",
      "    - image D10 uM-08-ApoTome RAW Convert-17.czi\n",
      "    - image D10 uM-09-ApoTome RAW Convert-18.czi\n",
      "    - image D10 uM-01-ApoTome RAW Convert-10.czi\n",
      "    - image D10 uM-02-ApoTome RAW Convert-11.czi\n",
      "    - image D10 uM-03-ApoTome RAW Convert-12.czi\n",
      "    - image D10 uM-04-ApoTome RAW Convert-13.czi\n",
      "    - image D10 uM-05-ApoTome RAW Convert-14.czi\n",
      "    - image D10 uM-06-ApoTome RAW Convert-15.czi\n"
     ]
    },
    {
     "name": "stderr",
     "output_type": "stream",
     "text": [
      "WARNING:root:Your pipeline version is 426 but you are running CellProfiler version 425. Loading this pipeline may fail or have unpredictable results.\n"
     ]
    },
    {
     "name": "stdout",
     "output_type": "stream",
     "text": [
      "Processing dataset D7 controle\n",
      "    - image D7 controle-01-ApoTome RAW Convert-01.czi\n",
      "    - image D7 controle-02-ApoTome RAW Convert-02.czi\n",
      "    - image D7 controle-03-ApoTome RAW Convert-03.czi\n",
      "    - image D7 controle-04-ApoTome RAW Convert-04.czi\n",
      "    - image D7 controle-05-ApoTome RAW Convert-05.czi\n",
      "    - image D7 controle-06-ApoTome RAW Convert-06.czi\n",
      "    - image D7 controle-07-ApoTome RAW Convert-07.czi\n",
      "    - image D7 controle-08-ApoTome RAW Convert-08.czi\n",
      "    - image D7 controle-09-ApoTome RAW Convert-09.czi\n"
     ]
    },
    {
     "name": "stderr",
     "output_type": "stream",
     "text": [
      "WARNING:root:Your pipeline version is 426 but you are running CellProfiler version 425. Loading this pipeline may fail or have unpredictable results.\n"
     ]
    },
    {
     "name": "stdout",
     "output_type": "stream",
     "text": [
      "Processing dataset D7 DMSO diazinon\n",
      "    - image D7 DMSO-05-ApoTome RAW Convert-05.czi\n",
      "    - image D7 DMSO-07-ApoTome RAW Convert-07.czi\n",
      "    - image D7 DMSO-01-ApoTome RAW Convert-01.czi\n",
      "    - image D7 DMSO-02-ApoTome RAW Convert-02.czi\n",
      "    - image D7 DMSO-06-ApoTome RAW Convert-06.czi\n",
      "    - image D7 DMSO-08-ApoTome RAW Convert-08.czi\n",
      "    - image D7 DMSO-03-ApoTome RAW Convert-03.czi\n",
      "    - image D7 DMSO-04-ApoTome RAW Convert-04.czi\n"
     ]
    },
    {
     "name": "stderr",
     "output_type": "stream",
     "text": [
      "WARNING:root:Your pipeline version is 426 but you are running CellProfiler version 425. Loading this pipeline may fail or have unpredictable results.\n"
     ]
    },
    {
     "name": "stdout",
     "output_type": "stream",
     "text": [
      "Processing dataset D10 Diazinon 70uM\n",
      "    - image D10_70uM-01-ApoTome RAW Convert-01.czi\n",
      "    - image D10_70uM-02-ApoTome RAW Convert-02.czi\n",
      "    - image D10_70uM-03-ApoTome RAW Convert-03.czi\n",
      "    - image D10_70uM-04-ApoTome RAW Convert-04.czi\n",
      "    - image D10_70uM-05-ApoTome RAW Convert-05.czi\n",
      "    - image D10_70uM-06-ApoTome RAW Convert-06.czi\n",
      "    - image D10_70uM-07-ApoTome RAW Convert-07.czi\n",
      "    - image D10_70uM-08-ApoTome RAW Convert-08.czi\n",
      "    - image D10_70uM-09-ApoTome RAW Convert-09.czi\n",
      "    - image D10_70uM-10-ApoTome RAW Convert-10.czi\n",
      "    - image D10_70uM-11-ApoTome RAW Convert-11.czi\n",
      "    - image D10_70uM-12-ApoTome RAW Convert-12.czi\n",
      "    - image D10_70uM-13-ApoTome RAW Convert-13.czi\n",
      "    - image D10_70uM-14-ApoTome RAW Convert-14.czi\n",
      "    - image D10_70uM-15-ApoTome RAW Convert-15.czi\n",
      "    - image D10_70uM-16-ApoTome RAW Convert-16.czi\n",
      "    - image D10_70uM-17-ApoTome RAW Convert-17.czi\n",
      "    - image D10 70uM Dbis-01-ApoTome RAW Convert-01.czi\n",
      "    - image D10 70uM Dbis-02-ApoTome RAW Convert-02.czi\n",
      "    - image D10 70uM Dbis-03-ApoTome RAW Convert-03.czi\n",
      "    - image D10 70uM Dbis-04-ApoTome RAW Convert-04.czi\n",
      "    - image D10 70uM Dbis-05-ApoTome RAW Convert-05.czi\n",
      "    - image D10 70uM Dbis-06-ApoTome RAW Convert-06.czi\n",
      "    - image D10 70uM Dbis-07-ApoTome RAW Convert-07.czi\n",
      "    - image D10 70uM Dbis-08-ApoTome RAW Convert-08.czi\n"
     ]
    },
    {
     "name": "stderr",
     "output_type": "stream",
     "text": [
      "WARNING:root:Your pipeline version is 426 but you are running CellProfiler version 425. Loading this pipeline may fail or have unpredictable results.\n"
     ]
    },
    {
     "name": "stdout",
     "output_type": "stream",
     "text": [
      "Processing dataset D7 70uM\n",
      "    - image D7_70uM-01-ApoTome RAW Convert-01.czi\n",
      "    - image D7_70uM-02-ApoTome RAW Convert-02.czi\n",
      "    - image D7_70uM-03-ApoTome RAW Convert-03.czi\n",
      "    - image D7_70uM-04-ApoTome RAW Convert-04.czi\n",
      "    - image D7_70uM-05-ApoTome RAW Convert-05.czi\n",
      "    - image D7_70uM-06-ApoTome RAW Convert-06.czi\n",
      "    - image D7_70uM-07-ApoTome RAW Convert-07.czi\n",
      "    - image D7_70uM-08-ApoTome RAW Convert-08.czi\n",
      "    - image D7_70uM-09-ApoTome RAW Convert-09.czi\n"
     ]
    },
    {
     "name": "stderr",
     "output_type": "stream",
     "text": [
      "WARNING:root:Your pipeline version is 426 but you are running CellProfiler version 425. Loading this pipeline may fail or have unpredictable results.\n"
     ]
    },
    {
     "name": "stdout",
     "output_type": "stream",
     "text": [
      "Processing dataset D4 70uM\n",
      "    - image D4_70uM-01-ApoTome RAW Convert-01.czi\n",
      "    - image D4_70uM-02-ApoTome RAW Convert-02.czi\n",
      "    - image D4_70uM-05-ApoTome RAW Convert-05.czi\n",
      "    - image D4_70uM-06-ApoTome RAW Convert-06.czi\n",
      "    - image D4_70uM-07-ApoTome RAW Convert-07.czi\n",
      "    - image D4_70uM-08-ApoTome RAW Convert-08.czi\n",
      "    - image D4_70uM-09-ApoTome RAW Convert-09.czi\n",
      "    - image D4_70uM-03-ApoTome RAW Convert-03.czi\n",
      "    - image D4_70uM-04-ApoTome RAW Convert-04.czi\n"
     ]
    },
    {
     "name": "stderr",
     "output_type": "stream",
     "text": [
      "WARNING:root:Your pipeline version is 426 but you are running CellProfiler version 425. Loading this pipeline may fail or have unpredictable results.\n"
     ]
    },
    {
     "name": "stdout",
     "output_type": "stream",
     "text": [
      "Processing dataset D7 10uM diazinon\n",
      "    - image D7 10uM -01-ApoTome RAW Convert-01.czi\n",
      "    - image D7 10uM -02-ApoTome RAW Convert-02.czi\n",
      "    - image D7 10uM -03-ApoTome RAW Convert-03.czi\n",
      "    - image D7 10uM -04-ApoTome RAW Convert-04.czi\n",
      "    - image D7 10uM -05-ApoTome RAW Convert-05.czi\n",
      "    - image D7 10uM -06-ApoTome RAW Convert-06.czi\n",
      "    - image D7 10uM -07-ApoTome RAW Convert-07.czi\n",
      "    - image D7 10uM -08-ApoTome RAW Convert-08.czi\n",
      "    - image D7 10uM -09-ApoTome RAW Convert-09.czi\n",
      "    - image D7 10uM -10-ApoTome RAW Convert-10.czi\n"
     ]
    },
    {
     "name": "stderr",
     "output_type": "stream",
     "text": [
      "WARNING:root:Your pipeline version is 426 but you are running CellProfiler version 425. Loading this pipeline may fail or have unpredictable results.\n"
     ]
    },
    {
     "name": "stdout",
     "output_type": "stream",
     "text": [
      "Processing dataset D7 40uM diazinon\n",
      "    - image D7 40uM-01-ApoTome RAW Convert-01.czi\n",
      "    - image D7 40uM-02-ApoTome RAW Convert-02.czi\n",
      "    - image D7 40uM-03-ApoTome RAW Convert-03.czi\n",
      "    - image D7 40uM-04-ApoTome RAW Convert-04.czi\n",
      "    - image D7 40uM-05-ApoTome RAW Convert-05.czi\n",
      "    - image D7 40uM-06-ApoTome RAW Convert-06.czi\n",
      "    - image D7 40uM-07-ApoTome RAW Convert-07.czi\n",
      "    - image D7 40uM-08-ApoTome RAW Convert-08.czi\n",
      "    - image D7 40uM-09-ApoTome RAW Convert-09.czi\n"
     ]
    },
    {
     "name": "stderr",
     "output_type": "stream",
     "text": [
      "WARNING:root:Your pipeline version is 426 but you are running CellProfiler version 425. Loading this pipeline may fail or have unpredictable results.\n"
     ]
    },
    {
     "name": "stdout",
     "output_type": "stream",
     "text": [
      "Processing dataset D4 40uM diaz\n",
      "    - image D4 40uM-06-ApoTome RAW Convert-06.czi\n",
      "    - image D4 40uM-07-ApoTome RAW Convert-07.czi\n",
      "    - image D4 40uM-08-ApoTome RAW Convert-08.czi\n",
      "    - image D4 40uM-09-ApoTome RAW Convert-09.czi\n",
      "    - image D4 40uM-11-ApoTome RAW Convert-11.czi\n",
      "    - image D4 40uM-01-ApoTome RAW Convert-01.czi\n",
      "    - image D4 40uM-03-ApoTome RAW Convert-03.czi\n",
      "    - image D4 40uM-04-ApoTome RAW Convert-04.czi\n",
      "    - image D4 40uM-10-ApoTome RAW Convert-10.czi\n",
      "    - image D4 40uM-12-ApoTome RAW Convert-12.czi\n",
      "    - image D4 40uM-02-ApoTome RAW Convert-02.czi\n",
      "    - image D4 40uM-05-ApoTome RAW Convert-05.czi\n"
     ]
    },
    {
     "name": "stderr",
     "output_type": "stream",
     "text": [
      "WARNING:root:Your pipeline version is 426 but you are running CellProfiler version 425. Loading this pipeline may fail or have unpredictable results.\n"
     ]
    },
    {
     "name": "stdout",
     "output_type": "stream",
     "text": [
      "Processing dataset D10 controle\n",
      "    - image D10 controle-02-ApoTome RAW Convert-02.czi\n",
      "    - image D10 controle-04-ApoTome RAW Convert-04.czi\n",
      "    - image D10 controle-08-ApoTome RAW Convert-08.czi\n",
      "    - image D10 controle-01-ApoTome RAW Convert-01.czi\n",
      "    - image D10 controle-03-ApoTome RAW Convert-03.czi\n",
      "    - image D10 controle-05-ApoTome RAW Convert-05.czi\n",
      "    - image D10 controle-06-ApoTome RAW Convert-06.czi\n",
      "    - image D10 controle-07-ApoTome RAW Convert-07.czi\n",
      "    - image D10 controle-09-ApoTome RAW Convert-09.czi\n",
      "    - image D10 controle-10-ApoTome RAW Convert-10.czi\n"
     ]
    },
    {
     "name": "stderr",
     "output_type": "stream",
     "text": [
      "WARNING:root:Your pipeline version is 426 but you are running CellProfiler version 425. Loading this pipeline may fail or have unpredictable results.\n"
     ]
    },
    {
     "name": "stdout",
     "output_type": "stream",
     "text": [
      "Processing dataset D10 DMSO\n",
      "    - image D10 DMSO-01-ApoTome RAW Convert-01.czi\n",
      "    - image D10 DMSO-02-ApoTome RAW Convert-02.czi\n",
      "    - image D10 DMSO-03-ApoTome RAW Convert-03.czi\n",
      "    - image D10 DMSO-04-ApoTome RAW Convert-04.czi\n",
      "    - image D10 DMSO-05-ApoTome RAW Convert-05.czi\n",
      "    - image D10 DMSO-06-ApoTome RAW Convert-06.czi\n",
      "    - image D10 DMSO-07-ApoTome RAW Convert-07.czi\n",
      "    - image D10 DMSO-08-ApoTome RAW Convert-08.czi\n",
      "    - image D10 DMSO-09-ApoTome RAW Convert-09.czi\n"
     ]
    },
    {
     "name": "stderr",
     "output_type": "stream",
     "text": [
      "WARNING:root:Your pipeline version is 426 but you are running CellProfiler version 425. Loading this pipeline may fail or have unpredictable results.\n"
     ]
    },
    {
     "name": "stdout",
     "output_type": "stream",
     "text": [
      "Processing dataset D10 40uM diaz\n",
      "    - image D10 40uM diaz-01-ApoTome RAW Convert-01.czi\n",
      "    - image D10 40uM diaz-05-ApoTome RAW Convert-05.czi\n",
      "    - image D10 40uM diaz-09-ApoTome RAW Convert-09.czi\n",
      "    - image D10 40uM diaz-06-ApoTome RAW Convert-06.czi\n",
      "    - image D10 40uM diaz-08-ApoTome RAW Convert-08.czi\n",
      "    - image D10 40uM diaz-07-ApoTome RAW Convert-07.czi\n",
      "    - image D10 40uM diaz-02-ApoTome RAW Convert-02.czi\n",
      "    - image D10 40uM diaz-03-ApoTome RAW Convert-03.czi\n",
      "    - image D10 40uM diaz-04-ApoTome RAW Convert-04.czi\n"
     ]
    },
    {
     "name": "stderr",
     "output_type": "stream",
     "text": [
      "WARNING:root:Your pipeline version is 426 but you are running CellProfiler version 425. Loading this pipeline may fail or have unpredictable results.\n"
     ]
    },
    {
     "name": "stdout",
     "output_type": "stream",
     "text": [
      "Processing dataset D10 10uM diazinon\n",
      "    - image D10 10uM diaz-01-ApoTome RAW Convert-01.czi\n",
      "    - image D10 10uM diaz-02-ApoTome RAW Convert-02.czi\n",
      "    - image D10 10uM diaz-03-ApoTome RAW Convert-03.czi\n",
      "    - image D10 10uM diaz-04-ApoTome RAW Convert-04.czi\n",
      "    - image D10 10uM diaz-05-ApoTome RAW Convert-05.czi\n",
      "    - image D10 10uM diaz-06-ApoTome RAW Convert-06.czi\n",
      "    - image D10 10uM diaz-07-ApoTome RAW Convert-07.czi\n",
      "    - image D10 10uM diaz-08-ApoTome RAW Convert-08.czi\n",
      "    - image D10 10uM diaz-09-ApoTome RAW Convert-09.czi\n"
     ]
    }
   ],
   "execution_count": 5
  },
  {
   "cell_type": "markdown",
   "metadata": {},
   "source": [
    "After the analysis is done. We can have a look at the results in OMERO.\n",
    "\n",
    "And we can also have a look at the results in the notebook"
   ]
  },
  {
   "cell_type": "code",
   "metadata": {},
   "source": [
    "cols = measurements_dfs[\"Image\"].columns\n",
    "vals = [measurements_dfs[\"Image\"][c].values.tolist() for c in cols]\n",
    "\n",
    "print(len(vals))\n",
    "print(vals)\n",
    "\n"
   ],
   "outputs": [],
   "execution_count": null
  },
  {
   "metadata": {},
   "cell_type": "markdown",
   "source": "And we should clean up after ourselves"
  },
  {
   "cell_type": "code",
   "source": [
    "# remove the output and input directories\n",
    "output_dir.cleanup()\n",
    "input_dir.cleanup()\n",
    "\n",
    "# and close the connection to the OMERO server\n",
    "conn.close()"
   ],
   "metadata": {
    "collapsed": false,
    "ExecuteTime": {
     "end_time": "2024-12-04T15:11:59.998061Z",
     "start_time": "2024-12-04T15:11:59.952099Z"
    }
   },
   "outputs": [],
   "execution_count": 6
  },
  {
   "cell_type": "code",
   "metadata": {},
   "source": [],
   "outputs": [],
   "execution_count": null
  }
 ],
 "metadata": {
  "kernelspec": {
   "display_name": "Python 3 (ipykernel)",
   "language": "python",
   "name": "python3"
  },
  "language_info": {
   "codemirror_mode": {
    "name": "ipython",
    "version": 3
   },
   "file_extension": ".py",
   "mimetype": "text/x-python",
   "name": "python",
   "nbconvert_exporter": "python",
   "pygments_lexer": "ipython3",
   "version": "3.8.16"
  }
 },
 "nbformat": 4,
 "nbformat_minor": 1
}
