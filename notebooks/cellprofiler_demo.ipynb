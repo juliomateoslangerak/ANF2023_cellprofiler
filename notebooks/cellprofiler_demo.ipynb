{
 "cells": [
  {
   "cell_type": "markdown",
   "metadata": {},
   "source": [
    "## CellProfiler-OMERO demo\n",
    "We have setup an example notebook to guide you through the steps to analise images stored in OMERO using CellProfiler\n",
    "\n",
    "Let's start by importing some libraries we are going to need"
   ]
  },
  {
   "metadata": {},
   "cell_type": "code",
   "outputs": [],
   "execution_count": null,
   "source": [
    "import warnings\n",
    "\n",
    "from cp_omero_toolbox import run_dataset_cp_pipeline, run_project_cp_pipeline\n",
    "from omero.gateway import BlitzGateway\n",
    "\n",
    "warnings.filterwarnings('ignore')\n",
    "\n",
    "import ezomero\n",
    "\n",
    "# Make CellProfiler run without a GUI\n",
    "import cellprofiler_core.preferences as cp_preferences\n",
    "cp_preferences.set_headless()\n",
    "\n",
    "from cp_omero_toolbox import *\n",
    "\n",
    "import tempfile"
   ]
  },
  {
   "metadata": {},
   "cell_type": "code",
   "outputs": [],
   "execution_count": null,
   "source": [
    "# Tell CellProfiler to get input from and save output in a temp directory\n",
    "output_dir = tempfile.TemporaryDirectory()\n",
    "input_dir = tempfile.TemporaryDirectory()\n",
    "cp_preferences.set_default_output_directory(output_dir.name)\n",
    "cp_preferences.set_default_image_directory(input_dir.name)"
   ]
  },
  {
   "cell_type": "markdown",
   "metadata": {},
   "source": [
    "Let's connect to OMERO. When we connect we get a connection object that we will have to use in every interaction with OMERO."
   ]
  },
  {
   "metadata": {},
   "cell_type": "code",
   "outputs": [],
   "execution_count": null,
   "source": [
    "# Creating a connection object\n",
    "host = input(\"Host: \")\n",
    "port = int(input(\"Port (4064): \") or 4064)\n",
    "group = input(\"Group: \")\n",
    "\n",
    "conn = BlitzGateway(host=host, port=port, group=group, secure=True)\n",
    "\n",
    "# Connecting\n",
    "conn.connect()\n",
    "# The connection will timeout after a period of inactivity. To avoid that we can tell our new connection to say \"Hi, I'm still here\" every 60 seconds\n",
    "conn.c.enableKeepAlive(60)\n",
    "# Let's verify that we are connected\n",
    "conn.isConnected()"
   ]
  },
  {
   "metadata": {},
   "cell_type": "markdown",
   "source": [
    "Time to grasp a Dataset from OMERO and download a CellProfiler pipeline that is attached to it. Go to the browser, select a dataset and copy the ID.\n",
    "First define if you want to analyze a dataset or a project"
   ]
  },
  {
   "metadata": {},
   "cell_type": "code",
   "outputs": [],
   "execution_count": null,
   "source": [
    "object_type = input(\"Object type (dataset/project): \")\n",
    "if object_type == \"dataset\":\n",
    "    dataset_id = int(input(\"Dataset id: \"))\n",
    "    project_id = None\n",
    "elif object_type == \"project\":\n",
    "    dataset_id = None\n",
    "    project_id = int(input(\"Project id: \"))\n",
    "else:\n",
    "    raise ValueError(\"Object type must be either 'dataset' or 'project'\")"
   ]
  },
  {
   "metadata": {},
   "cell_type": "markdown",
   "source": [
    "We can now run a function that will do all the necessary steps\n",
    "- Download the pipeline that is attached to the specified dataset.\n",
    "- Modify the pipeline to run headless (without a GUI)\n",
    "- Run the analysis pipeline on every image in the dataset\n",
    "- Upload the results to OMERO\n",
    "  - Tables (measurements)\n",
    "  - ROIs (masks and points)\n",
    "- Gather the results and return them as a dictionary in case you want to do something with them"
   ]
  },
  {
   "metadata": {},
   "cell_type": "code",
   "outputs": [],
   "execution_count": null,
   "source": [
    "if object_type == \"dataset\":\n",
    "    measurements_dfs = run_dataset_cp_pipeline(\n",
    "        conn=conn,\n",
    "        dataset_id=dataset_id,\n",
    "        objects_to_image_table=\"Nuclei\",\n",
    "        objects_to_mask=[\"Nuclei\"],\n",
    "        link_to_project=False,\n",
    "        link_to_dataset=True,\n",
    "        link_to_image=False,\n",
    "        populate_key_value_pairs=True,\n",
    "        objects_to_point=[\"spots\"],\n",
    "        output_dir=output_dir,\n",
    "        input_dir=input_dir\n",
    "    )\n",
    "elif object_type == \"project\":\n",
    "    measurements_dfs = run_project_cp_pipeline(\n",
    "        conn=conn,\n",
    "        project_id=project_id,\n",
    "        objects_to_image_table=\"Nuclei\",\n",
    "        objects_to_mask=[\"Nuclei\"],\n",
    "        link_to_project=True,\n",
    "        link_to_dataset=False,\n",
    "        link_to_image=False,\n",
    "        populate_key_value_pairs=True,\n",
    "        objects_to_point=[\"spots\"],\n",
    "        output_dir=output_dir,\n",
    "        input_dir=input_dir\n",
    "    )"
   ]
  },
  {
   "metadata": {},
   "cell_type": "markdown",
   "source": [
    "After the analysis is done. We can have a look at the results in OMERO.\n",
    "\n",
    "And we can also have a look at the results in the notebook"
   ]
  },
  {
   "metadata": {},
   "cell_type": "code",
   "outputs": [],
   "execution_count": null,
   "source": [
    "cols = measurements_dfs[\"Image\"].columns\n",
    "vals = [measurements_dfs[\"Image\"][c].values.tolist() for c in cols]\n",
    "\n",
    "print(len(vals))\n",
    "print(vals)\n",
    "\n"
   ]
  },
  {
   "metadata": {},
   "cell_type": "markdown",
   "source": "And we should clean up after ourselves"
  },
  {
   "cell_type": "code",
   "source": [
    "# remove the output and input directories\n",
    "output_dir.cleanup()\n",
    "input_dir.cleanup()\n",
    "\n",
    "# and close the connection to the OMERO server\n",
    "conn.close()"
   ],
   "metadata": {
    "collapsed": false,
    "ExecuteTime": {
     "end_time": "2024-12-04T15:11:59.998061Z",
     "start_time": "2024-12-04T15:11:59.952099Z"
    }
   },
   "outputs": [],
   "execution_count": 6
  },
  {
   "cell_type": "code",
   "metadata": {},
   "source": [],
   "outputs": [],
   "execution_count": null
  }
 ],
 "metadata": {
  "kernelspec": {
   "display_name": "Python 3 (ipykernel)",
   "language": "python",
   "name": "python3"
  },
  "language_info": {
   "codemirror_mode": {
    "name": "ipython",
    "version": 3
   },
   "file_extension": ".py",
   "mimetype": "text/x-python",
   "name": "python",
   "nbconvert_exporter": "python",
   "pygments_lexer": "ipython3",
   "version": "3.8.16"
  }
 },
 "nbformat": 4,
 "nbformat_minor": 1
}
