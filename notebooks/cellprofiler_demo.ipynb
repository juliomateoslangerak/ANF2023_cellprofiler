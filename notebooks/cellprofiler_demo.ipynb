{
 "cells": [
  {
   "cell_type": "markdown",
   "metadata": {},
   "source": [
    "## CellProfiler-OMERO demo\n",
    "We have setup an example notebook to guide you through the steps to analise images stored in OMERO using CellProfiler\n",
    "\n",
    "Let's start by importing some libraries we are going to need"
   ]
  },
  {
   "cell_type": "code",
   "execution_count": 4,
   "metadata": {
    "is_executing": true
   },
   "outputs": [],
   "source": [
    "import numpy as np\n",
    "from ipywidgets import IntProgress\n",
    "from IPython.display import display\n",
    "\n",
    "import warnings\n",
    "warnings.filterwarnings('ignore')\n",
    "\n",
    "from omero_toolbox import create_annotation_table, link_annotation\n",
    "\n",
    "import ezomero\n",
    "\n",
    "import cellprofiler_core.preferences as cp_preferences\n",
    "import cellprofiler_core.pipeline as cp_pipeline\n",
    "import cellprofiler_core.measurement as cp_measurement\n",
    "from cellprofiler_core.modules.injectimage import InjectImage\n",
    "\n",
    "import pandas as pd\n",
    "import tempfile"
   ]
  },
  {
   "cell_type": "code",
   "execution_count": 5,
   "metadata": {
    "ExecuteTime": {
     "end_time": "2023-05-17T16:20:40.454694Z",
     "start_time": "2023-05-17T16:20:40.435051Z"
    }
   },
   "outputs": [],
   "source": [
    "# Make CellProfiler run without a GUI\n",
    "cp_preferences.set_headless()\n",
    "\n",
    "# Tell CellProfiler to get input from and save output in a temp directory\n",
    "output_dir = tempfile.TemporaryDirectory()\n",
    "input_dir = tempfile.TemporaryDirectory()\n",
    "cp_preferences.set_default_output_directory(output_dir.name)\n",
    "cp_preferences.set_default_image_directory(input_dir.name)"
   ]
  },
  {
   "cell_type": "code",
   "execution_count": 6,
   "metadata": {
    "ExecuteTime": {
     "end_time": "2023-05-17T16:20:42.418057Z",
     "start_time": "2023-05-17T16:20:42.386611Z"
    }
   },
   "outputs": [],
   "source": [
    "### Functions to put in another module\n",
    "\n",
    "import omero_rois\n",
    "from omero.gateway import ColorHolder\n",
    "from omero.model import MaskI, RoiI\n",
    "from omero.rtypes import rstring, rdouble, rint\n",
    "\n",
    "\n",
    "def create_roi(conn, img, shapes, name):\n",
    "    updateService = conn.getUpdateService()\n",
    "\n",
    "    # create an ROI, link it to Image\n",
    "    roi = RoiI()\n",
    "    # use the omero.model.ImageI that underlies the 'image' wrapper\n",
    "    roi.setImage(img._obj)\n",
    "    roi.setName(rstring(name))\n",
    "    for shape in shapes:\n",
    "        # shape.setTextValue(rstring(name))\n",
    "        roi.addShape(shape)\n",
    "    # Save the ROI (saves any linked shapes too)\n",
    "    return updateService.saveAndReturnObject(roi).id.val\n",
    "\n",
    "\n",
    "def masks_from_labels_image_3d(\n",
    "        labels_3d, rgba=None, c=None, t=None, text=None,\n",
    "        raise_on_no_mask=True):  # sourcery skip: low-code-quality\n",
    "    \"\"\"\n",
    "    Create a mask shape from a binary image (background=0)\n",
    "\n",
    "    :param numpy.array labels_3d: labels 3D array\n",
    "    :param rgba int-4-tuple: Optional (red, green, blue, alpha) colour\n",
    "    :param c: Optional C-index for the mask\n",
    "    :param t: Optional T-index for the mask\n",
    "    :param text: Optional text for the mask\n",
    "    :param raise_on_no_mask: If True (default) throw an exception if no mask\n",
    "           found, otherwise return an empty Mask\n",
    "    :return: An OMERO mask\n",
    "    :raises NoMaskFound: If no labels were found\n",
    "    :raises InvalidBinaryImage: If the maximum labels is greater than 1\n",
    "    \"\"\"\n",
    "    shapes = {}\n",
    "    for i in range(1, labels_3d.max() + 1):\n",
    "        if not np.any(labels_3d == i):\n",
    "            continue\n",
    "\n",
    "        masks = []\n",
    "        bin_img = labels_3d == i\n",
    "        # Find bounding box to minimise size of mask\n",
    "        xmask = bin_img.sum(0).sum(0).nonzero()[0]\n",
    "        ymask = bin_img.sum(0).sum(1).nonzero()[0]\n",
    "        if any(xmask) and any(ymask):\n",
    "            x0 = min(xmask)\n",
    "            w = max(xmask) - x0 + 1\n",
    "            y0 = min(ymask)\n",
    "            h = max(ymask) - y0 + 1\n",
    "            submask = bin_img[:, y0:(y0 + h), x0:(x0 + w)]\n",
    "        else:\n",
    "            if raise_on_no_mask:\n",
    "                raise omero_rois.NoMaskFound()\n",
    "            x0 = 0\n",
    "            w = 0\n",
    "            y0 = 0\n",
    "            h = 0\n",
    "            submask = []\n",
    "\n",
    "        for z, plane in enumerate(submask):\n",
    "            if np.any(plane):\n",
    "                mask = MaskI()\n",
    "                mask.setBytes(np.packbits(np.asarray(plane, dtype=int)))\n",
    "                mask.setWidth(rdouble(w))\n",
    "                mask.setHeight(rdouble(h))\n",
    "                mask.setX(rdouble(x0))\n",
    "                mask.setY(rdouble(y0))\n",
    "                mask.setTheZ(rint(z))\n",
    "\n",
    "                if rgba is not None:\n",
    "                    ch = ColorHolder.fromRGBA(*rgba)\n",
    "                    mask.setFillColor(rint(ch.getInt()))\n",
    "                if c is not None:\n",
    "                    mask.setTheC(rint(c))\n",
    "                if t is not None:\n",
    "                    mask.setTheT(rint(t))\n",
    "                if text is not None:\n",
    "                    mask.setTextValue(rstring(f\"{text}_{i}\"))\n",
    "\n",
    "                masks.append(mask)\n",
    "\n",
    "        shapes[i] = masks\n",
    "\n",
    "    return shapes\n"
   ]
  },
  {
   "cell_type": "markdown",
   "metadata": {},
   "source": [
    "Let's connect to OMERO. When we connect we get a connection object that we will have to use in every interaction with OMERO."
   ]
  },
  {
   "cell_type": "code",
   "execution_count": 7,
   "metadata": {
    "ExecuteTime": {
     "end_time": "2023-05-17T16:21:01.895413Z",
     "start_time": "2023-05-17T16:20:48.627921Z"
    }
   },
   "outputs": [
    {
     "name": "stdout",
     "output_type": "stream",
     "text": [
      "Enter username: jmateos\n",
      "Enter password: ········\n",
      "Enter group name (or leave blank for default group): OMERO_training\n"
     ]
    },
    {
     "data": {
      "text/plain": [
       "True"
      ]
     },
     "execution_count": 7,
     "metadata": {},
     "output_type": "execute_result"
    }
   ],
   "source": [
    "# Creating a connection object\n",
    "host = \"bioimage.france-bioinformatique.fr\"\n",
    "port = 4075\n",
    "conn = ezomero.connect(host=host, port=port)\n",
    "\n",
    "# Connecting\n",
    "conn.connect()\n",
    "# The connection will timeout after a period of inactivity. To avoid that we can tell our new connection to say \"Hi, I'm still here\"\n",
    "conn.c.enableKeepAlive(60)\n",
    "# Let's verify that we are connected\n",
    "conn.isConnected()"
   ]
  },
  {
   "cell_type": "markdown",
   "metadata": {},
   "source": [
    "Time to grasp a Dataset from OMERO and download a CellProfiler pipeline that is attached to it. Go to the browser, select a dataset and copy the ID."
   ]
  },
  {
   "cell_type": "code",
   "execution_count": 11,
   "metadata": {
    "ExecuteTime": {
     "end_time": "2023-05-17T16:21:36.128550Z",
     "start_time": "2023-05-17T16:21:32.346627Z"
    }
   },
   "outputs": [
    {
     "name": "stdout",
     "output_type": "stream",
     "text": [
      "Dataset id: 101\n",
      "101\n",
      "Downloaded /tmp/tmp7mcz67n_/Megane_SpotInNuclei-encours_test_V3.cppipe\n"
     ]
    }
   ],
   "source": [
    "dataset_id = int(input(\"Dataset id: \"))\n",
    "dataset = conn.getObject(\"Dataset\", dataset_id)\n",
    "\n",
    "project = dataset.getParent()\n",
    "print(project.getId())\n",
    "\n",
    "file_ann_ids = ezomero.get_file_annotation_ids(conn, \"Dataset\", dataset_id)\n",
    "for file_ann_id in file_ann_ids:\n",
    "    if conn.getObject(\"FileAnnotation\", file_ann_id).getFile().getName().endswith(\".cppipe\"):\n",
    "        cp_pipeline_path = ezomero.get_file_annotation(conn, file_ann_id, input_dir.name)\n",
    "        print(f\"Downloaded {cp_pipeline_path}\")\n",
    "        break"
   ]
  },
  {
   "cell_type": "markdown",
   "metadata": {},
   "source": [
    "We create a new pipeline with that file and we remove the first 4 modules. The first 4 modules are in charge of preparing the image data when they are loaded from disk. We don't need them here because we are using OMERO."
   ]
  },
  {
   "cell_type": "code",
   "execution_count": 12,
   "metadata": {
    "ExecuteTime": {
     "end_time": "2023-05-17T16:21:42.129953Z",
     "start_time": "2023-05-17T16:21:42.091362Z"
    }
   },
   "outputs": [
    {
     "name": "stdout",
     "output_type": "stream",
     "text": [
      "Remove module:  Images\n",
      "Remove module:  Metadata\n",
      "Remove module:  NamesAndTypes\n",
      "Remove module:  Groups\n",
      "Pipeline modules:\n",
      "1 CorrectIlluminationCalculate\n",
      "2 CorrectIlluminationCalculate\n",
      "3 CorrectIlluminationApply\n",
      "4 IdentifyPrimaryObjects\n",
      "5 IdentifyPrimaryObjects\n",
      "6 RelateObjects\n",
      "7 MeasureObjectIntensity\n",
      "8 RelateObjects\n",
      "9 ConvertObjectsToImage\n",
      "10 ConvertObjectsToImage\n",
      "11 SaveImages\n",
      "12 SaveImages\n"
     ]
    }
   ],
   "source": [
    "pipeline = cp_pipeline.Pipeline()\n",
    "pipeline.load(cp_pipeline_path)\n",
    "\n",
    "for i in range(4):\n",
    "    print('Remove module: ', pipeline.modules()[0].module_name)\n",
    "    pipeline.remove_module(1)\n",
    "\n",
    "# TODO: Enable modules\n",
    "print('Pipeline modules:')\n",
    "for module in pipeline.modules(False):\n",
    "    print(module.module_num, module.module_name)"
   ]
  },
  {
   "cell_type": "markdown",
   "metadata": {},
   "source": [
    "We can now start feeding images into the pipeline"
   ]
  },
  {
   "cell_type": "code",
   "execution_count": 13,
   "metadata": {
    "ExecuteTime": {
     "end_time": "2023-05-17T16:25:27.344674Z",
     "start_time": "2023-05-17T16:21:45.515837Z"
    }
   },
   "outputs": [
    {
     "name": "stdout",
     "output_type": "stream",
     "text": [
      "Progress:\n"
     ]
    },
    {
     "data": {
      "application/vnd.jupyter.widget-view+json": {
       "model_id": "0013f7a246df4fd6a2cd08bf15340f64",
       "version_major": 2,
       "version_minor": 0
      },
      "text/plain": [
       "IntProgress(value=0, max=4)"
      ]
     },
     "metadata": {},
     "output_type": "display_data"
    }
   ],
   "source": [
    "# Lets create some dataframes to store data on the experiment, images and the different objects measured by cellprofiler\n",
    "measurement_dfs = {}\n",
    "for column in pipeline.get_measurement_columns():\n",
    "    if column[0] not in measurement_dfs.keys():\n",
    "        measurement_dfs[column[0]] = pd.DataFrame()\n",
    "\n",
    "# Get the ids of the images we want to analyze\n",
    "image_ids = ezomero.get_image_ids(conn=conn, dataset=dataset_id, across_groups=False)\n",
    "\n",
    "# Prepare a progress bar\n",
    "print(\"Progress:\")\n",
    "progress_bar = IntProgress(min=0, max=len(image_ids)-1)\n",
    "display(progress_bar)\n",
    "\n",
    "# Define which object measurements you want to be stored as a table\n",
    "# objects_to_image_table = None\n",
    "objects_to_image_table = \"nuclei\"\n",
    "\n",
    "# Define which objects to be saved as masks\n",
    "objects_to_mask = {\"nuclei\"}\n",
    "# objects_to_mask = {None}\n",
    "\n",
    "# Define which objects to be saved as ROI points\n",
    "# objects_to_point = {None}\n",
    "# objects_to_point = {\"nuclei\"}\n",
    "objects_to_point = {\"spots\"}\n",
    "\n",
    "# TODO: exclude the possibility to save rois as points and as masks\n",
    "\n",
    "# Lets collect all images in a dataset and feed them one at a time into the pipeline.\n",
    "for count, image_id in enumerate(image_ids):\n",
    "    image, image_pixels = ezomero.get_image(conn, image_id)\n",
    "\n",
    "    pipeline_copy = pipeline.copy()\n",
    "\n",
    "    for c in range(image.getSizeC()):\n",
    "        inject_image_module = InjectImage(f\"ch{c}\", image_pixels[...,c].squeeze())\n",
    "        inject_image_module.set_module_num(1)\n",
    "        pipeline_copy.add_module(inject_image_module)\n",
    "\n",
    "    measurements = pipeline_copy.run()\n",
    "\n",
    "    for object_name, _ in measurement_dfs.items():\n",
    "        if object_name == \"Experiment\": continue  # TODO: put this into desctirption or comment\n",
    "\n",
    "        data = {feature:measurements.get_measurement(object_name,feature) for feature in measurements.get_feature_names(object_name)}\n",
    "\n",
    "        if object_name in objects_to_point:\n",
    "            # TODO: try with regular list\n",
    "            data[\"Roi\"] = np.zeros(shape=(len(data[\"Number_Object_Number\"])), dtype=\"int\")\n",
    "\n",
    "            for i, object_nr in enumerate(data[\"Number_Object_Number\"]):\n",
    "                point = ezomero.rois.Point(data[\"Location_Center_X\"][i],\n",
    "                                           data[\"Location_Center_Y\"][i],\n",
    "                                           data[\"Location_Center_Z\"][i],\n",
    "                                           label=f\"{object_name}_{object_nr}\")\n",
    "                point_id = ezomero.post_roi(conn=conn,\n",
    "                                            image_id=image_id,\n",
    "                                            shapes=[point],\n",
    "                                            name=None,\n",
    "                                            description=None)\n",
    "                data[\"Roi\"][i] = point_id\n",
    "\n",
    "        elif object_name in objects_to_mask:\n",
    "            data[\"Roi\"] = np.zeros(shape=(len(data[\"Number_Object_Number\"])), dtype=\"int\")\n",
    "\n",
    "            labels = np.load(f\"{output_dir.name}/{object_name}.npy\")\n",
    "            if labels.ndim == 2:\n",
    "                labels = np.expand_dims(labels, 0)\n",
    "\n",
    "            masks = masks_from_labels_image_3d(labels,\n",
    "                                               rgba=(0, 255, 0, 100),\n",
    "                                               text=object_name)\n",
    "            for i, mask in masks.items():\n",
    "                roi_id = create_roi(conn=conn,\n",
    "                                    img=image,\n",
    "                                    shapes=mask,\n",
    "                                    name=None)\n",
    "                data[\"Roi\"][i-1] = roi_id\n",
    "\n",
    "        else:\n",
    "            pass\n",
    "\n",
    "        if object_name == objects_to_image_table:\n",
    "            data[\"Image\"] = np.full(shape=(len(data[\"Number_Object_Number\"])), fill_value=image_id)\n",
    "            data[\"Dataset\"] = np.full(shape=(len(data[\"Number_Object_Number\"])), fill_value=dataset_id)\n",
    "\n",
    "\n",
    "            objects_table = create_annotation_table(conn, f\"{object_name}_table\",\n",
    "                                                    column_names=[k for k in data.keys()],\n",
    "                                                    column_descriptions=[\"\" for _ in data.keys()],\n",
    "                                                    values=[v.tolist() for v in data.values()],\n",
    "                                                    types=None,\n",
    "                                                    namespace=\"CellProfiler_v4.2.5\",\n",
    "                                                    table_description=f\"{object_name}_table\"\n",
    "                                                    )\n",
    "            link_annotation(image, objects_table)\n",
    "\n",
    "        if object_name == \"Image\":\n",
    "            data[\"Image\"] = np.full((1,), image_id)\n",
    "            data[\"Dataset\"] = np.full((1,), dataset_id)\n",
    "\n",
    "        measurement_dfs[object_name] = pd.concat([measurement_dfs[object_name], pd.DataFrame.from_dict(data)], ignore_index=True)\n",
    "\n",
    "    progress_bar.value = count\n",
    "\n",
    "images_table = create_annotation_table(conn, \"images_table\",\n",
    "                                        column_names=measurement_dfs[objects_to_image_table].columns.tolist(),\n",
    "                                        column_descriptions=measurement_dfs[objects_to_image_table].columns.tolist(),\n",
    "                                        values=[measurement_dfs[objects_to_image_table][c].values.tolist() for c in measurement_dfs[objects_to_image_table].columns],\n",
    "                                        types=None,\n",
    "                                        namespace=\"CellProfiler_v4.2.5\",\n",
    "                                        table_description=\"images_table\"\n",
    "                                        )\n",
    "link_annotation(project, images_table)\n"
   ]
  },
  {
   "cell_type": "code",
   "execution_count": 27,
   "metadata": {
    "ExecuteTime": {
     "end_time": "2023-05-16T15:01:54.831581Z",
     "start_time": "2023-05-16T15:01:54.789479Z"
    }
   },
   "outputs": [
    {
     "name": "stdout",
     "output_type": "stream",
     "text": [
      "43\n",
      "[[12.0, 43.0, 37.0, 26.0, 20.0], [232.0, 461.0, 624.0, 338.0, 511.0], [259.0, 654.0, 829.0, 623.0, 931.0], [0.010000000000005116, 0.0, 0.009999999999990905, 0.0, 0.010000000000005116], [0.009999999999990905, 0.010000000000005116, 0.0, 0.0, 0.009999999999990905], [0.45000000000000284, 1.5, 1.3799999999999955, 0.47999999999998977, 0.480000000000004], [0.45000000000000284, 0.8599999999999994, 0.75, 0.46000000000000796, 0.47999999999998977], [0.03999999999999204, 0.04000000000000625, 0.03999999999999204, 0.03999999999999204, 0.05000000000001137], [3.3499999999999943, 3.3599999999999994, 3.440000000000012, 3.3900000000000006, 3.289999999999992], [1.8100000000000165, 1.8100000000000023, 1.8199999999999932, 1.8599999999999994, 1.8400000000000034], [0.36999999999999034, 0.39000000000000057, 0.4200000000000017, 0.38999999999998636, 0.3999999999999915], [0.21000000000000796, 0.23000000000000398, 0.21999999999999886, 0.20000000000001705, 0.21999999999999886], [0.01999999999998181, 0.010000000000005116, 0.020000000000010232, 0.009999999999990905, 0.01999999999999602], [0.010000000000019327, 0.010000000000005116, 0.01999999999999602, 0.020000000000010232, 0.010000000000005116], [0.009999999999990905, 0.010000000000005116, 0.009999999999990905, 0.009999999999990905, 0.010000000000005116], [0.020000000000010232, 0.009999999999990905, 0.010000000000005116, 0.010000000000005116, 0.009999999999990905], [1, 1, 1, 1, 1], [1, 1, 1, 1, 1], [1, 1, 1, 1, 1], [1, 1, 1, 1, 1], [1, 1, 1, 1, 1], [0, 0, 0, 0, 0], [0, 0, 0, 0, 0], [0, 0, 0, 0, 0], [0, 0, 0, 0, 0], [0, 0, 0, 0, 0], [0, 0, 0, 0, 0], [0, 0, 0, 0, 0], [0, 0, 0, 0, 0], [0, 0, 0, 0, 0], [0, 0, 0, 0, 0], [0, 0, 0, 0, 0], [0, 0, 0, 0, 0], [0, 0, 0, 0, 0], [0.0008747954561840743, 0.02759889606386423, 0.025415781885385513, 0.005793582065962255, 0.0031668715528212488], [0.019014470279216766, 0.030413435772061348, 0.028259769082069397, 0.013732284307479858, 0.012426089495420456], [0.0008747954561840743, 0.02759889606386423, 0.025415781885385513, 0.005793582065962255, 0.0031668715528212488], [0.019014470279216766, 0.030413435772061348, 0.028259769082069397, 0.013732284307479858, 0.012426089495420456], [-13.32784385789278, -12.455219397934417, -12.494447783444777, -12.9280698866152, -13.280766120401804], [-12.856676838670634, -12.714283086837304, -12.650501449011163, -12.885947411064786, -12.791393679769442], [0.5926715285664699, 1.4093959516985421, 1.0596711203189422, 0.7678278819804945, 0.7579264848061058], [0.054420812446998035, 0.11915235181152006, 0.1513142723832246, 0.13821071946934183, 0.1303332613823187], [20301, 20302, 20303, 20304, 20305]]\n"
     ]
    }
   ],
   "source": [
    "# print(data)\n",
    "cols = measurement_dfs[\"Image\"].columns\n",
    "vals = [measurement_dfs[\"Image\"][c].values.tolist() for c in cols]\n",
    "\n",
    "print(len(vals))\n",
    "print(vals)\n",
    "\n"
   ]
  },
  {
   "cell_type": "code",
   "execution_count": 41,
   "metadata": {
    "ExecuteTime": {
     "end_time": "2023-05-17T16:54:55.594754Z",
     "start_time": "2023-05-17T16:54:55.466086Z"
    }
   },
   "outputs": [],
   "source": [
    "# remove the output directory\n",
    "output_dir.cleanup()\n",
    "\n",
    "# and close the connection to the OMERO server\n",
    "conn.close()"
   ]
  },
  {
   "cell_type": "code",
   "execution_count": null,
   "metadata": {},
   "outputs": [],
   "source": []
  }
 ],
 "metadata": {
  "kernelspec": {
   "display_name": "Python 3 (ipykernel)",
   "language": "python",
   "name": "python3"
  },
  "language_info": {
   "codemirror_mode": {
    "name": "ipython",
    "version": 3
   },
   "file_extension": ".py",
   "mimetype": "text/x-python",
   "name": "python",
   "nbconvert_exporter": "python",
   "pygments_lexer": "ipython3",
   "version": "3.8.16"
  }
 },
 "nbformat": 4,
 "nbformat_minor": 1
}
