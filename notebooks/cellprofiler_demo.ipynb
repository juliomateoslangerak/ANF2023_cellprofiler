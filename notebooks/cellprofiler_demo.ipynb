{
 "cells": [
  {
   "cell_type": "markdown",
   "metadata": {},
   "source": [
    "## CellProfiler-OMERO demo\n",
    "We have setup an example notebook to guide you through the steps to analise images stored in OMERO using CellProfiler\n",
    "\n",
    "Let's start by importing some libraries we are going to need"
   ]
  },
  {
   "cell_type": "code",
   "execution_count": 1,
   "metadata": {
    "ExecuteTime": {
     "start_time": "2023-05-16T14:37:36.261446Z",
     "end_time": "2023-05-16T14:37:38.438997Z"
    }
   },
   "outputs": [
    {
     "name": "stderr",
     "output_type": "stream",
     "text": [
      "\n",
      "Bad key text.latex.preview in file /home/julio/.conda/envs/cellprofiler4/lib/python3.8/site-packages/matplotlib/mpl-data/stylelib/_classic_test.mplstyle, line 123 ('text.latex.preview : False')\n",
      "You probably need to get an updated matplotlibrc file from\n",
      "https://github.com/matplotlib/matplotlib/blob/v3.5.3/matplotlibrc.template\n",
      "or from the matplotlib source distribution\n",
      "\n",
      "Bad key mathtext.fallback_to_cm in file /home/julio/.conda/envs/cellprofiler4/lib/python3.8/site-packages/matplotlib/mpl-data/stylelib/_classic_test.mplstyle, line 155 ('mathtext.fallback_to_cm : True  # When True, use symbols from the Computer Modern')\n",
      "You probably need to get an updated matplotlibrc file from\n",
      "https://github.com/matplotlib/matplotlib/blob/v3.5.3/matplotlibrc.template\n",
      "or from the matplotlib source distribution\n",
      "\n",
      "Bad key savefig.jpeg_quality in file /home/julio/.conda/envs/cellprofiler4/lib/python3.8/site-packages/matplotlib/mpl-data/stylelib/_classic_test.mplstyle, line 418 ('savefig.jpeg_quality: 95       # when a jpeg is saved, the default quality parameter.')\n",
      "You probably need to get an updated matplotlibrc file from\n",
      "https://github.com/matplotlib/matplotlib/blob/v3.5.3/matplotlibrc.template\n",
      "or from the matplotlib source distribution\n",
      "\n",
      "Bad key keymap.all_axes in file /home/julio/.conda/envs/cellprofiler4/lib/python3.8/site-packages/matplotlib/mpl-data/stylelib/_classic_test.mplstyle, line 466 ('keymap.all_axes : a                 # enable all axes')\n",
      "You probably need to get an updated matplotlibrc file from\n",
      "https://github.com/matplotlib/matplotlib/blob/v3.5.3/matplotlibrc.template\n",
      "or from the matplotlib source distribution\n",
      "\n",
      "Bad key animation.avconv_path in file /home/julio/.conda/envs/cellprofiler4/lib/python3.8/site-packages/matplotlib/mpl-data/stylelib/_classic_test.mplstyle, line 477 ('animation.avconv_path: avconv     # Path to avconv binary. Without full path')\n",
      "You probably need to get an updated matplotlibrc file from\n",
      "https://github.com/matplotlib/matplotlib/blob/v3.5.3/matplotlibrc.template\n",
      "or from the matplotlib source distribution\n",
      "\n",
      "Bad key animation.avconv_args in file /home/julio/.conda/envs/cellprofiler4/lib/python3.8/site-packages/matplotlib/mpl-data/stylelib/_classic_test.mplstyle, line 479 ('animation.avconv_args:            # Additional arguments to pass to avconv')\n",
      "You probably need to get an updated matplotlibrc file from\n",
      "https://github.com/matplotlib/matplotlib/blob/v3.5.3/matplotlibrc.template\n",
      "or from the matplotlib source distribution\n",
      "WARNING:root:Could not load runcellpose\n",
      "Traceback (most recent call last):\n",
      "  File \"/home/julio/.conda/envs/cellprofiler4/lib/python3.8/site-packages/cellprofiler_core/utilities/core/modules/__init__.py\", line 71, in add_module\n",
      "    m = __import__(mod, globals(), locals(), [\"__all__\"], 0)\n",
      "  File \"/home/julio/Apps/cellprofiler/plugins/CellProfiler-plugins/runcellpose.py\", line 3, in <module>\n",
      "    from cellpose import models, io, core, utils\n",
      "ModuleNotFoundError: No module named 'cellpose'\n",
      "WARNING:root:Could not load runomnipose\n",
      "Traceback (most recent call last):\n",
      "  File \"/home/julio/.conda/envs/cellprofiler4/lib/python3.8/site-packages/cellprofiler_core/utilities/core/modules/__init__.py\", line 71, in add_module\n",
      "    m = __import__(mod, globals(), locals(), [\"__all__\"], 0)\n",
      "  File \"/home/julio/Apps/cellprofiler/plugins/CellProfiler-plugins/runomnipose.py\", line 3, in <module>\n",
      "    from cellpose_omni import models, io, core, plot\n",
      "ModuleNotFoundError: No module named 'cellpose_omni'\n",
      "WARNING:root:Could not load runstardist\n",
      "Traceback (most recent call last):\n",
      "  File \"/home/julio/.conda/envs/cellprofiler4/lib/python3.8/site-packages/cellprofiler_core/utilities/core/modules/__init__.py\", line 71, in add_module\n",
      "    m = __import__(mod, globals(), locals(), [\"__all__\"], 0)\n",
      "  File \"/home/julio/Apps/cellprofiler/plugins/CellProfiler-plugins/runstardist.py\", line 5, in <module>\n",
      "    from stardist.models import StarDist2D, StarDist3D\n",
      "ModuleNotFoundError: No module named 'stardist'\n",
      "WARNING:root:Could not load loadimagesfromomero\n",
      "Traceback (most recent call last):\n",
      "  File \"/home/julio/.conda/envs/cellprofiler4/lib/python3.8/site-packages/cellprofiler_core/utilities/core/modules/__init__.py\", line 71, in add_module\n",
      "    m = __import__(mod, globals(), locals(), [\"__all__\"], 0)\n",
      "  File \"/home/julio/Apps/cellprofiler/plugins/CellProfiler-plugins/loadimagesfromomero.py\", line 48, in <module>\n",
      "    from cellprofiler_core.modules import default_cpimage_name\n",
      "ImportError: cannot import name 'default_cpimage_name' from partially initialized module 'cellprofiler_core.modules' (most likely due to a circular import) (/home/julio/.conda/envs/cellprofiler4/lib/python3.8/site-packages/cellprofiler_core/modules/__init__.py)\n",
      "WARNING:root:Could not load runimagejscript\n",
      "Traceback (most recent call last):\n",
      "  File \"/home/julio/.conda/envs/cellprofiler4/lib/python3.8/site-packages/cellprofiler_core/utilities/core/modules/__init__.py\", line 71, in add_module\n",
      "    m = __import__(mod, globals(), locals(), [\"__all__\"], 0)\n",
      "  File \"/home/julio/Apps/cellprofiler/plugins/CellProfiler-plugins/runimagejscript.py\", line 25, in <module>\n",
      "    import cpij.bridge as ijbridge, cpij.server as ijserver\n",
      "  File \"/home/julio/Apps/cellprofiler/plugins/CellProfiler-plugins/cpij/bridge.py\", line 3, in <module>\n",
      "    import atexit, cpij.server as ijserver\n",
      "  File \"/home/julio/Apps/cellprofiler/plugins/CellProfiler-plugins/cpij/server.py\", line 9, in <module>\n",
      "    import jpype, imagej, multiprocessing, socket, threading, time\n",
      "ModuleNotFoundError: No module named 'jpype'\n",
      "WARNING:root:could not load these modules: runcellpose,runomnipose,runstardist,loadimagesfromomero,runimagejscript\n"
     ]
    }
   ],
   "source": [
    "import numpy as np\n",
    "from ipywidgets import IntProgress\n",
    "from IPython.display import display\n",
    "\n",
    "import warnings\n",
    "warnings.filterwarnings('ignore')\n",
    "\n",
    "from omero_toolbox import create_annotation_table, link_annotation\n",
    "\n",
    "import ezomero\n",
    "\n",
    "import cellprofiler_core.preferences as cp_preferences\n",
    "import cellprofiler_core.pipeline as cp_pipeline\n",
    "import cellprofiler_core.measurement as cp_measurement\n",
    "from cellprofiler_core.modules.injectimage import InjectImage\n",
    "\n",
    "import pandas as pd\n",
    "import tempfile"
   ]
  },
  {
   "cell_type": "code",
   "execution_count": 2,
   "metadata": {
    "ExecuteTime": {
     "start_time": "2023-05-16T14:37:46.264482Z",
     "end_time": "2023-05-16T14:37:46.272217Z"
    }
   },
   "outputs": [],
   "source": [
    "# Make CellProfiler run without a GUI\n",
    "cp_preferences.set_headless()\n",
    "\n",
    "# Tell CellProfiler to get input from and save output in a temp directory\n",
    "output_dir = tempfile.TemporaryDirectory()\n",
    "input_dir = tempfile.TemporaryDirectory()\n",
    "cp_preferences.set_default_output_directory(output_dir.name)\n",
    "cp_preferences.set_default_image_directory(input_dir.name)"
   ]
  },
  {
   "cell_type": "code",
   "execution_count": 3,
   "outputs": [],
   "source": [
    "import omero_rois\n",
    "from omero.gateway import ColorHolder\n",
    "from omero.model import MaskI, RoiI\n",
    "from omero.rtypes import rstring, rdouble, rint\n",
    "\n",
    "\n",
    "def create_roi(conn, img, shapes, name):\n",
    "    updateService = conn.getUpdateService()\n",
    "\n",
    "    # create an ROI, link it to Image\n",
    "    roi = RoiI()\n",
    "    # use the omero.model.ImageI that underlies the 'image' wrapper\n",
    "    roi.setImage(img._obj)\n",
    "    roi.setName(rstring(name))\n",
    "    for shape in shapes:\n",
    "        # shape.setTextValue(rstring(name))\n",
    "        roi.addShape(shape)\n",
    "    # Save the ROI (saves any linked shapes too)\n",
    "    return updateService.saveAndReturnObject(roi).id.val\n",
    "\n",
    "\n",
    "def masks_from_labels_image_3d(\n",
    "        labels_3d, rgba=None, c=None, t=None, text=None,\n",
    "        raise_on_no_mask=True):  # sourcery skip: low-code-quality\n",
    "    \"\"\"\n",
    "    Create a mask shape from a binary image (background=0)\n",
    "\n",
    "    :param numpy.array labels_3d: labels 3D array\n",
    "    :param rgba int-4-tuple: Optional (red, green, blue, alpha) colour\n",
    "    :param c: Optional C-index for the mask\n",
    "    :param t: Optional T-index for the mask\n",
    "    :param text: Optional text for the mask\n",
    "    :param raise_on_no_mask: If True (default) throw an exception if no mask\n",
    "           found, otherwise return an empty Mask\n",
    "    :return: An OMERO mask\n",
    "    :raises NoMaskFound: If no labels were found\n",
    "    :raises InvalidBinaryImage: If the maximum labels is greater than 1\n",
    "    \"\"\"\n",
    "    shapes = {}\n",
    "    for i in range(1, labels_3d.max() + 1):\n",
    "        if not np.any(labels_3d == i):\n",
    "            continue\n",
    "\n",
    "        masks = []\n",
    "        bin_img = labels_3d == i\n",
    "        # Find bounding box to minimise size of mask\n",
    "        xmask = bin_img.sum(0).sum(0).nonzero()[0]\n",
    "        ymask = bin_img.sum(0).sum(1).nonzero()[0]\n",
    "        if any(xmask) and any(ymask):\n",
    "            x0 = min(xmask)\n",
    "            w = max(xmask) - x0 + 1\n",
    "            y0 = min(ymask)\n",
    "            h = max(ymask) - y0 + 1\n",
    "            submask = bin_img[:, y0:(y0 + h), x0:(x0 + w)]\n",
    "        else:\n",
    "            if raise_on_no_mask:\n",
    "                raise omero_rois.NoMaskFound()\n",
    "            x0 = 0\n",
    "            w = 0\n",
    "            y0 = 0\n",
    "            h = 0\n",
    "            submask = []\n",
    "\n",
    "        for z, plane in enumerate(submask):\n",
    "            if np.any(plane):\n",
    "                mask = MaskI()\n",
    "                mask.setBytes(np.packbits(np.asarray(plane, dtype=int)))\n",
    "                mask.setWidth(rdouble(w))\n",
    "                mask.setHeight(rdouble(h))\n",
    "                mask.setX(rdouble(x0))\n",
    "                mask.setY(rdouble(y0))\n",
    "                mask.setTheZ(rint(z))\n",
    "\n",
    "                if rgba is not None:\n",
    "                    ch = ColorHolder.fromRGBA(*rgba)\n",
    "                    mask.setFillColor(rint(ch.getInt()))\n",
    "                if c is not None:\n",
    "                    mask.setTheC(rint(c))\n",
    "                if t is not None:\n",
    "                    mask.setTheT(rint(t))\n",
    "                if text is not None:\n",
    "                    mask.setTextValue(rstring(f\"{text}_{i}\"))\n",
    "\n",
    "                masks.append(mask)\n",
    "\n",
    "        shapes[i] = masks\n",
    "\n",
    "    return shapes\n"
   ],
   "metadata": {
    "collapsed": false,
    "ExecuteTime": {
     "start_time": "2023-05-16T14:37:47.815656Z",
     "end_time": "2023-05-16T14:37:47.825782Z"
    }
   }
  },
  {
   "cell_type": "markdown",
   "metadata": {},
   "source": [
    "Let's connect to OMERO. When we connect we get a connection object that we will have to use in every interaction with OMERO."
   ]
  },
  {
   "cell_type": "code",
   "execution_count": 4,
   "metadata": {
    "ExecuteTime": {
     "start_time": "2023-05-16T14:37:49.727616Z",
     "end_time": "2023-05-16T14:38:05.054611Z"
    }
   },
   "outputs": [
    {
     "data": {
      "text/plain": "True"
     },
     "execution_count": 4,
     "metadata": {},
     "output_type": "execute_result"
    }
   ],
   "source": [
    "# Creating a connection object\n",
    "host = \"bioimage.france-bioinformatique.fr\"\n",
    "port = 4075\n",
    "conn = ezomero.connect(host=host, port=port)\n",
    "\n",
    "# Connecting\n",
    "conn.connect()\n",
    "# The connection will timeout after a period of inactivity. To avoid that we can tell our new connection to say \"Hi, I'm still here\"\n",
    "conn.c.enableKeepAlive(60)\n",
    "# Let's verify that we are connected\n",
    "conn.isConnected()"
   ]
  },
  {
   "cell_type": "markdown",
   "metadata": {},
   "source": [
    "Time to grasp a Dataset from OMERO and download a CellProfiler pipeline that is attached to it. Go to the browser, select a dataset and copy the ID."
   ]
  },
  {
   "cell_type": "code",
   "execution_count": 29,
   "metadata": {
    "ExecuteTime": {
     "start_time": "2023-05-16T15:09:04.692477Z",
     "end_time": "2023-05-16T15:09:07.653614Z"
    }
   },
   "outputs": [
    {
     "name": "stdout",
     "output_type": "stream",
     "text": [
      "101\n",
      "Downloaded /tmp/tmp8y0ds7tc/Megane_SpotInNuclei-encours_test_noOUT.cppipe\n"
     ]
    }
   ],
   "source": [
    "dataset_id = int(input(\"Dataset id: \"))\n",
    "dataset = conn.getObject(\"Dataset\", dataset_id)\n",
    "\n",
    "project = dataset.getParent()\n",
    "print(project.getId())\n",
    "\n",
    "file_ann_ids = ezomero.get_file_annotation_ids(conn, \"Dataset\", dataset_id)\n",
    "for file_ann_id in file_ann_ids:\n",
    "    if conn.getObject(\"FileAnnotation\", file_ann_id).getFile().getName().endswith(\".cppipe\"):\n",
    "        cp_pipeline_path = ezomero.get_file_annotation(conn, file_ann_id, input_dir.name)\n",
    "        print(f\"Downloaded {cp_pipeline_path}\")\n",
    "        break"
   ]
  },
  {
   "cell_type": "markdown",
   "metadata": {},
   "source": [
    "We create a new pipeline with that file and we remove the first 4 modules. The first 4 modules are in charge of preparing the image data when they are loaded from disk. We don't need them here because we are using OMERO."
   ]
  },
  {
   "cell_type": "code",
   "execution_count": 6,
   "metadata": {
    "ExecuteTime": {
     "start_time": "2023-05-16T14:38:58.432191Z",
     "end_time": "2023-05-16T14:38:58.450270Z"
    }
   },
   "outputs": [
    {
     "name": "stderr",
     "output_type": "stream",
     "text": [
      "WARNING:root:Your pipeline version is 425 but you are running CellProfiler version 424. Loading this pipeline may fail or have unpredictable results.\n"
     ]
    },
    {
     "name": "stdout",
     "output_type": "stream",
     "text": [
      "Remove module:  Images\n",
      "Remove module:  Metadata\n",
      "Remove module:  NamesAndTypes\n",
      "Remove module:  Groups\n",
      "Pipeline modules:\n",
      "1 CorrectIlluminationCalculate\n",
      "2 CorrectIlluminationCalculate\n",
      "3 CorrectIlluminationApply\n",
      "4 IdentifyPrimaryObjects\n",
      "5 IdentifyPrimaryObjects\n",
      "6 RelateObjects\n",
      "7 MeasureObjectIntensity\n",
      "8 ConvertObjectsToImage\n",
      "9 ConvertObjectsToImage\n",
      "10 SaveImages\n",
      "11 SaveImages\n"
     ]
    }
   ],
   "source": [
    "pipeline = cp_pipeline.Pipeline()\n",
    "pipeline.load(cp_pipeline_path)\n",
    "\n",
    "for i in range(4):\n",
    "    print('Remove module: ', pipeline.modules()[0].module_name)\n",
    "    pipeline.remove_module(1)\n",
    "\n",
    "# TODO: Enable modules\n",
    "print('Pipeline modules:')\n",
    "for module in pipeline.modules(False):\n",
    "    print(module.module_num, module.module_name)"
   ]
  },
  {
   "cell_type": "markdown",
   "metadata": {},
   "source": [
    "We can now start feeding images into the pipeline"
   ]
  },
  {
   "cell_type": "code",
   "execution_count": null,
   "metadata": {
    "ExecuteTime": {
     "start_time": "2023-05-16T15:44:15.400103Z",
     "end_time": "2023-05-16T15:48:11.206278Z"
    },
    "pycharm": {
     "is_executing": true
    }
   },
   "outputs": [],
   "source": [
    "# Lets create some dataframes to store data on the experiment, images and the different objects measured by cellprofiler\n",
    "measurement_dfs = {}\n",
    "for column in pipeline.get_measurement_columns():\n",
    "    if column[0] not in measurement_dfs.keys():\n",
    "        measurement_dfs[column[0]] = pd.DataFrame()\n",
    "\n",
    "# Get the ids of the images we want to analyze\n",
    "image_ids = ezomero.get_image_ids(conn=conn, dataset=dataset_id, across_groups=False)\n",
    "\n",
    "# Prepare a progress bar\n",
    "print(\"Progress:\")\n",
    "progress_bar = IntProgress(min=0, max=len(image_ids)-1)\n",
    "display(progress_bar)\n",
    "\n",
    "# Define which object measurements you want to be stored as a table\n",
    "# objects_to_image_table = None\n",
    "objects_to_image_table = \"nuclei\"\n",
    "\n",
    "# Define which objects to be saved as masks\n",
    "objects_to_mask = {\"nuclei\"}\n",
    "# objects_to_mask = {None}\n",
    "\n",
    "# Define which objects to be saved as ROI points\n",
    "# objects_to_point = {None}\n",
    "# objects_to_point = {\"nuclei\"}\n",
    "objects_to_point = {\"spots\"}\n",
    "\n",
    "# TODO: exclude the possibility to save rois as points and as masks\n",
    "\n",
    "# Lets collect all images in a dataset and feed them one at a time into the pipeline.\n",
    "for count, image_id in enumerate(image_ids):\n",
    "    image, image_pixels = ezomero.get_image(conn, image_id)\n",
    "\n",
    "    pipeline_copy = pipeline.copy()\n",
    "\n",
    "    for c in range(image.getSizeC()):\n",
    "        inject_image_module = InjectImage(f\"ch{c}\", image_pixels[...,c].squeeze())\n",
    "        inject_image_module.set_module_num(1)\n",
    "        pipeline_copy.add_module(inject_image_module)\n",
    "\n",
    "    measurements = pipeline_copy.run()\n",
    "\n",
    "    for object_name, _ in measurement_dfs.items():\n",
    "        if object_name == \"Experiment\": continue\n",
    "\n",
    "        data = {f:measurements.get_measurement(object_name,f) for f in measurements.get_feature_names(object_name)}\n",
    "\n",
    "        if object_name in objects_to_point:\n",
    "            data[\"Roi\"] = np.zeros(shape=(len(data[\"Number_Object_Number\"])), dtype=\"int\")\n",
    "\n",
    "            for i, object_nr in enumerate(data[\"Number_Object_Number\"]):\n",
    "                point = ezomero.rois.Point(data[\"Location_Center_X\"][i],\n",
    "                                           data[\"Location_Center_Y\"][i],\n",
    "                                           data[\"Location_Center_Z\"][i],\n",
    "                                           label=f\"{object_name}_{object_nr}\")\n",
    "                point_id = ezomero.post_roi(conn=conn,\n",
    "                                            image_id=image_id,\n",
    "                                            shapes=[point],\n",
    "                                            name=None,\n",
    "                                            description=None)\n",
    "                data[\"Roi\"][i] = point_id\n",
    "\n",
    "        elif object_name in objects_to_mask:\n",
    "            data[\"Roi\"] = np.ndarray(shape=(len(data[\"Number_Object_Number\"])), dtype=\"int\")\n",
    "\n",
    "            labels = np.load(f\"{output_dir.name}/{object_name}.npy\")\n",
    "            if labels.ndim == 2:\n",
    "                labels = np.expand_dims(labels, 0)\n",
    "\n",
    "            masks = masks_from_labels_image_3d(labels,\n",
    "                                               rgba=(0, 255, 0, 100),\n",
    "                                               text=object_name)\n",
    "            for i, mask in masks.items():\n",
    "                roi_id = create_roi(conn=conn,\n",
    "                                    img=image,\n",
    "                                    shapes=mask,\n",
    "                                    name=None)\n",
    "                data[\"Roi\"][i-1] = roi_id\n",
    "\n",
    "        else:\n",
    "            pass\n",
    "\n",
    "        if object_name == objects_to_image_table:\n",
    "            data[\"Image\"] = np.full(shape=(len(data[\"Number_Object_Number\"])), fill_value=image_id)\n",
    "\n",
    "            objects_table = create_annotation_table(conn, f\"{object_name}_table\",\n",
    "                                                    column_names=[k for k in data.keys()],\n",
    "                                                    column_descriptions=[\"\" for _ in data.keys()],\n",
    "                                                    values=[v.tolist() for v in data.values()],\n",
    "                                                    types=None,\n",
    "                                                    namespace=\"CellProfiler_v4.2.5\",\n",
    "                                                    table_description=f\"{object_name}_table\"\n",
    "                                                    )\n",
    "            link_annotation(image, objects_table)\n",
    "\n",
    "        if object_name == \"Image\":\n",
    "            data[\"Image\"] = np.full((1,), image_id)\n",
    "            data[\"Dataset\"] = np.full((1,), dataset_id)\n",
    "\n",
    "        measurement_dfs[object_name] = pd.concat([measurement_dfs[object_name], pd.DataFrame.from_dict(data)], ignore_index=True)\n",
    "\n",
    "    progress_bar.value = count\n",
    "\n",
    "images_table = create_annotation_table(conn, \"images_table\",\n",
    "                                        column_names=measurement_dfs[\"Image\"].columns.tolist(),\n",
    "                                        column_descriptions=measurement_dfs[\"Image\"].columns.tolist(),\n",
    "                                        values=[measurement_dfs[\"Image\"][c].values.tolist() for c in measurement_dfs[\"Image\"].columns],\n",
    "                                        types=None,\n",
    "                                        namespace=\"CellProfiler_v4.2.5\",\n",
    "                                        table_description=\"images_table\"\n",
    "                                        )\n",
    "link_annotation(project, images_table)\n"
   ]
  },
  {
   "cell_type": "code",
   "execution_count": 27,
   "metadata": {
    "ExecuteTime": {
     "start_time": "2023-05-16T15:01:54.789479Z",
     "end_time": "2023-05-16T15:01:54.831581Z"
    }
   },
   "outputs": [
    {
     "name": "stdout",
     "output_type": "stream",
     "text": [
      "43\n",
      "[[12.0, 43.0, 37.0, 26.0, 20.0], [232.0, 461.0, 624.0, 338.0, 511.0], [259.0, 654.0, 829.0, 623.0, 931.0], [0.010000000000005116, 0.0, 0.009999999999990905, 0.0, 0.010000000000005116], [0.009999999999990905, 0.010000000000005116, 0.0, 0.0, 0.009999999999990905], [0.45000000000000284, 1.5, 1.3799999999999955, 0.47999999999998977, 0.480000000000004], [0.45000000000000284, 0.8599999999999994, 0.75, 0.46000000000000796, 0.47999999999998977], [0.03999999999999204, 0.04000000000000625, 0.03999999999999204, 0.03999999999999204, 0.05000000000001137], [3.3499999999999943, 3.3599999999999994, 3.440000000000012, 3.3900000000000006, 3.289999999999992], [1.8100000000000165, 1.8100000000000023, 1.8199999999999932, 1.8599999999999994, 1.8400000000000034], [0.36999999999999034, 0.39000000000000057, 0.4200000000000017, 0.38999999999998636, 0.3999999999999915], [0.21000000000000796, 0.23000000000000398, 0.21999999999999886, 0.20000000000001705, 0.21999999999999886], [0.01999999999998181, 0.010000000000005116, 0.020000000000010232, 0.009999999999990905, 0.01999999999999602], [0.010000000000019327, 0.010000000000005116, 0.01999999999999602, 0.020000000000010232, 0.010000000000005116], [0.009999999999990905, 0.010000000000005116, 0.009999999999990905, 0.009999999999990905, 0.010000000000005116], [0.020000000000010232, 0.009999999999990905, 0.010000000000005116, 0.010000000000005116, 0.009999999999990905], [1, 1, 1, 1, 1], [1, 1, 1, 1, 1], [1, 1, 1, 1, 1], [1, 1, 1, 1, 1], [1, 1, 1, 1, 1], [0, 0, 0, 0, 0], [0, 0, 0, 0, 0], [0, 0, 0, 0, 0], [0, 0, 0, 0, 0], [0, 0, 0, 0, 0], [0, 0, 0, 0, 0], [0, 0, 0, 0, 0], [0, 0, 0, 0, 0], [0, 0, 0, 0, 0], [0, 0, 0, 0, 0], [0, 0, 0, 0, 0], [0, 0, 0, 0, 0], [0, 0, 0, 0, 0], [0.0008747954561840743, 0.02759889606386423, 0.025415781885385513, 0.005793582065962255, 0.0031668715528212488], [0.019014470279216766, 0.030413435772061348, 0.028259769082069397, 0.013732284307479858, 0.012426089495420456], [0.0008747954561840743, 0.02759889606386423, 0.025415781885385513, 0.005793582065962255, 0.0031668715528212488], [0.019014470279216766, 0.030413435772061348, 0.028259769082069397, 0.013732284307479858, 0.012426089495420456], [-13.32784385789278, -12.455219397934417, -12.494447783444777, -12.9280698866152, -13.280766120401804], [-12.856676838670634, -12.714283086837304, -12.650501449011163, -12.885947411064786, -12.791393679769442], [0.5926715285664699, 1.4093959516985421, 1.0596711203189422, 0.7678278819804945, 0.7579264848061058], [0.054420812446998035, 0.11915235181152006, 0.1513142723832246, 0.13821071946934183, 0.1303332613823187], [20301, 20302, 20303, 20304, 20305]]\n"
     ]
    }
   ],
   "source": [
    "# print(data)\n",
    "cols = measurement_dfs[\"Image\"].columns\n",
    "vals = [measurement_dfs[\"Image\"][c].values.tolist() for c in cols]\n",
    "\n",
    "print(len(vals))\n",
    "print(vals)\n",
    "\n"
   ]
  },
  {
   "cell_type": "code",
   "execution_count": 68,
   "metadata": {
    "ExecuteTime": {
     "start_time": "2023-05-16T14:37:00.184679Z",
     "end_time": "2023-05-16T14:37:01.618066Z"
    }
   },
   "outputs": [],
   "source": [
    "# remove the output directory\n",
    "output_dir.cleanup()\n",
    "\n",
    "# and close the connection to the OMERO server\n",
    "conn.close()"
   ]
  },
  {
   "cell_type": "code",
   "execution_count": null,
   "metadata": {},
   "outputs": [],
   "source": []
  }
 ],
 "metadata": {
  "kernelspec": {
   "display_name": "Python 3 (ipykernel)",
   "language": "python",
   "name": "python3"
  },
  "language_info": {
   "codemirror_mode": {
    "name": "ipython",
    "version": 3
   },
   "file_extension": ".py",
   "mimetype": "text/x-python",
   "name": "python",
   "nbconvert_exporter": "python",
   "pygments_lexer": "ipython3",
   "version": "3.8.16"
  }
 },
 "nbformat": 4,
 "nbformat_minor": 1
}
