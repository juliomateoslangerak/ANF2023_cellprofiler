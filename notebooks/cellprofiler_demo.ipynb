{
 "cells": [
  {
   "cell_type": "markdown",
   "metadata": {},
   "source": [
    "## CellProfiler-OMERO demo\n",
    "We have setup an example notebook to guide you through the steps to analise images stored in OMERO using CellProfiler\n",
    "\n",
    "Let's start by importing some libraries we are going to need"
   ],
   "outputs": []
  },
  {
   "cell_type": "code",
   "execution_count": null,
   "metadata": {},
   "outputs": [],
   "source": [
    "import warnings\n",
    "warnings.filterwarnings('ignore')\n",
    "\n",
    "import ezomero\n",
    "\n",
    "# Make CellProfiler run without a GUI\n",
    "import cellprofiler_core.preferences as cp_preferences\n",
    "cp_preferences.set_headless()\n",
    "\n",
    "from cp_omero_toolbox import *\n",
    "\n",
    "import tempfile"
   ]
  },
  {
   "cell_type": "code",
   "execution_count": null,
   "metadata": {},
   "outputs": [],
   "source": [
    "# Tell CellProfiler to get input from and save output in a temp directory\n",
    "output_dir = tempfile.TemporaryDirectory()\n",
    "input_dir = tempfile.TemporaryDirectory()\n",
    "cp_preferences.set_default_output_directory(output_dir.name)\n",
    "cp_preferences.set_default_image_directory(input_dir.name)"
   ]
  },
  {
   "cell_type": "markdown",
   "metadata": {},
   "source": [
    "Let's connect to OMERO. When we connect we get a connection object that we will have to use in every interaction with OMERO."
   ]
  },
  {
   "cell_type": "code",
   "execution_count": null,
   "metadata": {},
   "outputs": [],
   "source": [
    "# Creating a connection object\n",
    "host = \"bioimage.france-bioinformatique.fr\"\n",
    "port = 4074\n",
    "conn = ezomero.connect(host=host, port=port)\n",
    "\n",
    "# Connecting\n",
    "conn.connect()\n",
    "# The connection will timeout after a period of inactivity. To avoid that we can tell our new connection to say \"Hi, I'm still here\"\n",
    "conn.c.enableKeepAlive(60)\n",
    "# Let's verify that we are connected\n",
    "conn.isConnected()"
   ]
  },
  {
   "cell_type": "markdown",
   "metadata": {},
   "source": [
    "Time to grasp a Dataset from OMERO and download a CellProfiler pipeline that is attached to it. Go to the browser, select a dataset and copy the ID."
   ]
  },
  {
   "cell_type": "code",
   "execution_count": null,
   "metadata": {},
   "outputs": [],
   "source": [
    "dataset_id = int(input(\"Dataset id: \"))\n"
   ]
  },
  {
   "cell_type": "markdown",
   "metadata": {},
   "source": [
    "We create a new pipeline with that file, and we remove the first 4 modules. The first 4 modules are in charge of preparing the image data when they are loaded from disk. We don't need them here because we are using OMERO.\n"
   ]
  },
  {
   "cell_type": "code",
   "execution_count": null,
   "metadata": {
    "collapsed": false
   },
   "outputs": [],
   "source": [
    "measurements_dfs = run_cp_pipeline(conn=conn,\n",
    "                                   dataset_id=dataset_id,\n",
    "                                   objects_to_image_table=\"spots\",\n",
    "                                   objects_to_mask=[\"nuclei\"],\n",
    "                                   objects_to_point=[\"spots\"],\n",
    "                                   output_dir=output_dir,\n",
    "                                   input_dir=input_dir)"
   ]
  },
  {
   "cell_type": "markdown",
   "metadata": {},
   "source": [
    "We can now start feeding images into the pipeline"
   ]
  },
  {
   "cell_type": "code",
   "execution_count": null,
   "metadata": {},
   "outputs": [],
   "source": [
    "cols = measurements_dfs[\"Image\"].columns\n",
    "vals = [measurements_dfs[\"Image\"][c].values.tolist() for c in cols]\n",
    "\n",
    "print(len(vals))\n",
    "print(vals)\n",
    "\n"
   ]
  },
  {
   "cell_type": "code",
   "execution_count": null,
   "metadata": {},
   "outputs": [],
   "source": [
    "# remove the output directory\n",
    "output_dir.cleanup()\n",
    "\n",
    "# and close the connection to the OMERO server\n",
    "conn.close()"
   ]
  },
  {
   "cell_type": "code",
   "execution_count": null,
   "metadata": {},
   "outputs": [],
   "source": []
  }
 ],
 "metadata": {
  "kernelspec": {
   "display_name": "Python 3 (ipykernel)",
   "language": "python",
   "name": "python3"
  },
  "language_info": {
   "codemirror_mode": {
    "name": "ipython",
    "version": 3
   },
   "file_extension": ".py",
   "mimetype": "text/x-python",
   "name": "python",
   "nbconvert_exporter": "python",
   "pygments_lexer": "ipython3",
   "version": "3.8.16"
  }
 },
 "nbformat": 4,
 "nbformat_minor": 1
}
