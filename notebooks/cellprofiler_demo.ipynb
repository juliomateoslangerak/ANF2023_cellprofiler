{
 "cells": [
  {
   "cell_type": "markdown",
   "metadata": {},
   "source": [
    "## CellProfiler-OMERO demo\n",
    "We have setup an example notebook to guide you through the steps to analise images stored in OMERO using CellProfiler\n",
    "\n",
    "Let's start by importing some libraries we are going to need"
   ]
  },
  {
   "cell_type": "code",
   "execution_count": 1,
   "metadata": {
    "ExecuteTime": {
     "end_time": "2023-05-11T11:34:05.230432648Z",
     "start_time": "2023-05-11T11:34:05.145531480Z"
    }
   },
   "outputs": [
    {
     "name": "stderr",
     "output_type": "stream",
     "text": [
      "Gtk-Message: 13:36:02.770: Failed to load module \"canberra-gtk-module\"\n",
      "Gtk-Message: 13:36:02.770: Failed to load module \"pk-gtk-module\"\n"
     ]
    }
   ],
   "source": [
    "from ipywidgets import IntProgress\n",
    "from IPython.display import display\n",
    "\n",
    "import warnings\n",
    "warnings.filterwarnings('ignore')\n",
    "\n",
    "import ezomero\n",
    "\n",
    "import cellprofiler_core.preferences as cp_preferences\n",
    "import cellprofiler_core.pipeline as cp_pipeline\n",
    "import cellprofiler_core.measurement as cp_measurement\n",
    "from cellprofiler_core.modules.injectimage import InjectImage\n",
    "\n",
    "import pandas as pd\n",
    "import tempfile"
   ]
  },
  {
   "cell_type": "code",
   "execution_count": 2,
   "metadata": {
    "ExecuteTime": {
     "end_time": "2023-05-11T11:34:06.665788652Z",
     "start_time": "2023-05-11T11:34:06.634214673Z"
    }
   },
   "outputs": [],
   "source": [
    "# Make CellProfiler run without a GUI\n",
    "cp_preferences.set_headless()\n",
    "\n",
    "# Tell CellProfiler to get input from and save output in a temp directory\n",
    "output_dir = tempfile.TemporaryDirectory()\n",
    "input_dir = tempfile.TemporaryDirectory()\n",
    "cp_preferences.set_default_output_directory(output_dir.name)\n",
    "cp_preferences.set_default_image_directory(input_dir.name)"
   ]
  },
  {
   "cell_type": "markdown",
   "metadata": {},
   "source": [
    "Let's connect to OMERO. When we connect we get a connection object that we will have to use in every interaction with OMERO."
   ]
  },
  {
   "cell_type": "code",
   "execution_count": 3,
   "metadata": {
    "ExecuteTime": {
     "end_time": "2023-05-11T11:34:24.559129938Z",
     "start_time": "2023-05-11T11:34:09.369463127Z"
    }
   },
   "outputs": [
    {
     "name": "stdout",
     "output_type": "stream",
     "text": [
      "Enter username: mateos\n",
      "Enter password: ········\n",
      "Enter group name (or leave blank for default group): OMERO_training\n"
     ]
    },
    {
     "data": {
      "text/plain": [
       "True"
      ]
     },
     "execution_count": 3,
     "metadata": {},
     "output_type": "execute_result"
    }
   ],
   "source": [
    "# Creating a connection object\n",
    "host = \"omero.mri.cnrs.fr\"\n",
    "port = 4064\n",
    "conn = ezomero.connect(host=host, port=port)\n",
    "\n",
    "# Connecting\n",
    "conn.connect()\n",
    "# The connection will timeout after a period of inactivity. To avoid that we can tell our new connection to say \"Hi, I'm still here\"\n",
    "conn.c.enableKeepAlive(60)\n",
    "# Let's verify that we are connected\n",
    "conn.isConnected()"
   ]
  },
  {
   "cell_type": "markdown",
   "metadata": {},
   "source": [
    "Time to grasp a Dataset from OMERO and download a CellProfiler pipeline that is attached to it. Go to the browser, select a dataset and copy the ID."
   ]
  },
  {
   "cell_type": "code",
   "execution_count": 4,
   "metadata": {
    "ExecuteTime": {
     "end_time": "2023-05-11T11:34:34.279889594Z",
     "start_time": "2023-05-11T11:34:28.753229266Z"
    }
   },
   "outputs": [
    {
     "name": "stdout",
     "output_type": "stream",
     "text": [
      "Dataset id: 15660\n",
      "Downloaded /tmp/tmpz95i8tkc/Megane_SpotInNuclei-encours_test_noOUT.cppipe\n"
     ]
    }
   ],
   "source": [
    "dataset_id = int(input(\"Dataset id: \"))\n",
    "dataset = conn.getObject(\"Dataset\", dataset_id)\n",
    "\n",
    "file_ann_ids = ezomero.get_file_annotation_ids(conn, \"Dataset\", dataset_id)\n",
    "for file_ann_id in file_ann_ids:\n",
    "    if conn.getObject(\"FileAnnotation\", file_ann_id).getFile().getName().endswith(\".cppipe\"):\n",
    "        cp_pipeline_path = ezomero.get_file_annotation(conn, file_ann_id, input_dir.name)\n",
    "        print(f\"Downloaded {cp_pipeline_path}\")\n",
    "        break"
   ]
  },
  {
   "cell_type": "markdown",
   "metadata": {},
   "source": [
    "We create a new pipeline with that file and we remove the first 4 modules. The first 4 modules are in charge of preparing the image data when they are loaded from disk. We don't need them here because we are using OMERO."
   ]
  },
  {
   "cell_type": "code",
   "execution_count": 5,
   "metadata": {
    "ExecuteTime": {
     "end_time": "2023-05-11T11:34:38.322962392Z",
     "start_time": "2023-05-11T11:34:38.282914197Z"
    }
   },
   "outputs": [
    {
     "name": "stdout",
     "output_type": "stream",
     "text": [
      "Remove module:  Images\n",
      "Remove module:  Metadata\n",
      "Remove module:  NamesAndTypes\n",
      "Remove module:  Groups\n",
      "Pipeline modules:\n",
      "1 IdentifyPrimaryObjects\n",
      "2 IdentifyPrimaryObjects\n",
      "3 RelateObjects\n",
      "4 MaskObjects\n",
      "5 MeasureObjectIntensity\n"
     ]
    }
   ],
   "source": [
    "pipeline = cp_pipeline.Pipeline()\n",
    "pipeline.load(cp_pipeline_path)\n",
    "\n",
    "for i in range(4):\n",
    "    print('Remove module: ', pipeline.modules()[0].module_name)\n",
    "    pipeline.remove_module(1)\n",
    "\n",
    "# TODO: Enable modules\n",
    "print('Pipeline modules:')\n",
    "for module in pipeline.modules(False):\n",
    "    print(module.module_num, module.module_name)"
   ]
  },
  {
   "cell_type": "markdown",
   "metadata": {},
   "source": [
    "We can now start feeding images into the pipeline"
   ]
  },
  {
   "cell_type": "code",
   "execution_count": 9,
   "metadata": {
    "ExecuteTime": {
     "end_time": "2023-05-11T11:35:02.090360635Z",
     "start_time": "2023-05-11T11:35:01.781616047Z"
    }
   },
   "outputs": [
    {
     "name": "stdout",
     "output_type": "stream",
     "text": [
      "Progress:\n"
     ]
    },
    {
     "data": {
      "application/vnd.jupyter.widget-view+json": {
       "model_id": "775c6788d8b94909ac0af174037d356d",
       "version_major": 2,
       "version_minor": 0
      },
      "text/plain": [
       "IntProgress(value=0, max=4)"
      ]
     },
     "metadata": {},
     "output_type": "display_data"
    }
   ],
   "source": [
    "# Lets create some dataframes to store data on the experiment, images and the different objects measured by cellprofiler\n",
    "measurement_dfs = {}\n",
    "for column in pipeline.get_measurement_columns():\n",
    "    if column[0] not in measurement_dfs.keys():\n",
    "        measurement_dfs[column[0]] = pd.DataFrame()\n",
    "\n",
    "# Get the ids of the images we want to analyze\n",
    "image_ids = ezomero.get_image_ids(conn=conn, dataset=dataset_id, across_groups=False)\n",
    "\n",
    "# Prepare a progress bar\n",
    "print(\"Progress:\")\n",
    "progress_bar = IntProgress(min=0, max=len(image_ids)-1)\n",
    "display(progress_bar)\n",
    "\n",
    "# Lets collect all images in a dataset and feed them one at a time into the pipeline.\n",
    "for count, image_id in enumerate(image_ids):\n",
    "    image, image_pixels = ezomero.get_image(conn, image_id)\n",
    "\n",
    "    pipeline_copy = pipeline.copy()\n",
    "\n",
    "    for c in range(image.getSizeC()):\n",
    "        inject_image_module = InjectImage(f\"ch{c}\", image_pixels[...,c].squeeze())\n",
    "        inject_image_module.set_module_num(1)\n",
    "        pipeline_copy.add_module(inject_image_module)\n",
    "\n",
    "    measurements = pipeline_copy.run()\n",
    "\n",
    "    for object_name, _ in measurement_dfs.items():\n",
    "        if object_name == \"Experiment\": continue\n",
    "        if object_name == \"Image\": continue\n",
    "        data = {f:measurements.get_measurement(object_name,f) for f in measurements.get_feature_names(object_name)}\n",
    "        pd.DataFrame.from_dict(data).head()\n",
    "        measurement_dfs[object_name] = pd.concat([measurement_dfs[object_name], pd.DataFrame.from_dict(data)], ignore_index=True)\n",
    "\n",
    "    progress_bar.value = count\n",
    "\n"
   ]
  },
  {
   "cell_type": "code",
   "execution_count": 10,
   "metadata": {
    "ExecuteTime": {
     "end_time": "2023-05-11T12:58:13.018774067Z",
     "start_time": "2023-05-11T12:58:13.017642240Z"
    }
   },
   "outputs": [
    {
     "name": "stdout",
     "output_type": "stream",
     "text": [
      "Experiment\n",
      "Empty DataFrame\n",
      "Columns: []\n",
      "Index: []\n",
      "Image\n",
      "Empty DataFrame\n",
      "Columns: []\n",
      "Index: []\n",
      "Nuclei\n",
      "   Children_Spot_Count  Location_Center_X  Location_Center_Y   \n",
      "0                    8        1708.305485         129.838988  \\\n",
      "1                   12        1323.383832         161.267437   \n",
      "2                    8        1572.371668         172.805566   \n",
      "3                   86         613.909757         205.582901   \n",
      "4                   13        1653.183031         304.096250   \n",
      "\n",
      "   Location_Center_Z  Number_Object_Number  \n",
      "0                  0                     1  \n",
      "1                  0                     2  \n",
      "2                  0                     3  \n",
      "3                  0                     4  \n",
      "4                  0                     5  \n",
      "Spot\n",
      "   Children_SpotInNuclei_Count  Location_Center_X  Location_Center_Y   \n",
      "0                            0        1631.166667           3.333333  \\\n",
      "1                            0         398.500000           4.500000   \n",
      "2                            0        1752.272727           4.136364   \n",
      "3                            0         643.508772           5.508772   \n",
      "4                            0        1636.544304           5.518987   \n",
      "\n",
      "   Location_Center_Z  Number_Object_Number  Parent_Nuclei  \n",
      "0                  0                     1              0  \n",
      "1                  0                     2              0  \n",
      "2                  0                     3              0  \n",
      "3                  0                     4              0  \n",
      "4                  0                     5              0  \n",
      "SpotInNuclei\n",
      "   Children_MaskedNuclei_Count  Intensity_IntegratedIntensityEdge_ch1   \n",
      "0                            1                               0.345892  \\\n",
      "1                            1                               0.329290   \n",
      "2                            1                               0.268879   \n",
      "3                            1                               0.291035   \n",
      "4                            1                               0.265736   \n",
      "\n",
      "   Intensity_IntegratedIntensity_ch1  Intensity_LowerQuartileIntensity_ch1   \n",
      "0                           1.257191                              0.014900  \\\n",
      "1                           1.000931                              0.015949   \n",
      "2                           0.659190                              0.016026   \n",
      "3                           1.087053                              0.016220   \n",
      "4                           1.773541                              0.014214   \n",
      "\n",
      "   Intensity_MADIntensity_ch1  Intensity_MassDisplacement_ch1   \n",
      "0                    0.009537                        0.119314  \\\n",
      "1                    0.005997                        0.220382   \n",
      "2                    0.006287                        0.117485   \n",
      "3                    0.010780                        0.062341   \n",
      "4                    0.013352                        0.071313   \n",
      "\n",
      "   Intensity_MaxIntensityEdge_ch1  Intensity_MaxIntensity_ch1   \n",
      "0                        0.032746                    0.056107  \\\n",
      "1                        0.030411                    0.035019   \n",
      "2                        0.033448                    0.035355   \n",
      "3                        0.029389                    0.061631   \n",
      "4                        0.020706                    0.093828   \n",
      "\n",
      "   Intensity_MeanIntensityEdge_ch1  Intensity_MeanIntensity_ch1  ...   \n",
      "0                         0.016471                     0.026749  ...  \\\n",
      "1                         0.017331                     0.022243  ...   \n",
      "2                         0.017925                     0.022731  ...   \n",
      "3                         0.016169                     0.027873  ...   \n",
      "4                         0.012654                     0.032843  ...   \n",
      "\n",
      "   Location_CenterMassIntensity_Y_ch1  Location_CenterMassIntensity_Z_ch1   \n",
      "0                           69.818497                                 0.0  \\\n",
      "1                           71.847658                                 0.0   \n",
      "2                           82.892546                                 0.0   \n",
      "3                           86.592546                                 0.0   \n",
      "4                          102.515921                                 0.0   \n",
      "\n",
      "   Location_Center_X  Location_Center_Y  Location_Center_Z   \n",
      "0        1741.255319          69.702128                  0  \\\n",
      "1        1735.422222          71.888889                  0   \n",
      "2        1650.103448          82.827586                  0   \n",
      "3        1646.743590          86.589744                  0   \n",
      "4        1755.907407         102.481481                  0   \n",
      "\n",
      "   Location_MaxIntensity_X_ch1  Location_MaxIntensity_Y_ch1   \n",
      "0                       1742.0                         70.0  \\\n",
      "1                       1736.0                         72.0   \n",
      "2                       1650.0                         84.0   \n",
      "3                       1647.0                         87.0   \n",
      "4                       1756.0                        103.0   \n",
      "\n",
      "   Location_MaxIntensity_Z_ch1  Number_Object_Number  Parent_Spot  \n",
      "0                          0.0                     1           92  \n",
      "1                          0.0                     2           93  \n",
      "2                          0.0                     3           95  \n",
      "3                          0.0                     4           96  \n",
      "4                          0.0                     5          101  \n",
      "\n",
      "[5 rows x 27 columns]\n",
      "MaskedNuclei\n",
      "   Intensity_IntegratedIntensityEdge_ch1  Intensity_IntegratedIntensity_ch1   \n",
      "0                               0.090059                           0.090059  \\\n",
      "1                               0.330587                           0.879042   \n",
      "2                               0.163775                           0.212421   \n",
      "3                               0.149813                           0.149813   \n",
      "4                               0.265736                           1.773541   \n",
      "\n",
      "   Intensity_LowerQuartileIntensity_ch1  Intensity_MADIntensity_ch1   \n",
      "0                              0.015015                    0.004250  \\\n",
      "1                              0.015988                    0.006638   \n",
      "2                              0.012802                    0.007095   \n",
      "3                              0.011398                    0.006302   \n",
      "4                              0.014214                    0.013352   \n",
      "\n",
      "   Intensity_MassDisplacement_ch1  Intensity_MaxIntensityEdge_ch1   \n",
      "0                        0.207957                        0.023407  \\\n",
      "1                        0.258703                        0.033768   \n",
      "2                        0.121434                        0.031403   \n",
      "3                        0.183718                        0.037736   \n",
      "4                        0.071313                        0.020706   \n",
      "\n",
      "   Intensity_MaxIntensity_ch1  Intensity_MeanIntensityEdge_ch1   \n",
      "0                    0.023407                         0.018012  \\\n",
      "1                    0.035019                         0.018366   \n",
      "2                    0.031403                         0.018197   \n",
      "3                    0.037736                         0.018727   \n",
      "4                    0.093828                         0.012654   \n",
      "\n",
      "   Intensity_MeanIntensity_ch1  Intensity_MedianIntensity_ch1  ...   \n",
      "0                     0.018012                       0.019287  ...  \\\n",
      "1                     0.022540                       0.022362  ...   \n",
      "2                     0.019311                       0.020462  ...   \n",
      "3                     0.018727                       0.017624  ...   \n",
      "4                     0.032843                       0.024903  ...   \n",
      "\n",
      "   Location_CenterMassIntensity_X_ch1  Location_CenterMassIntensity_Y_ch1   \n",
      "0                         1740.228736                           72.482040  \\\n",
      "1                         1735.484915                           72.212037   \n",
      "2                         1651.424395                           84.263199   \n",
      "3                         1648.328275                           88.434712   \n",
      "4                         1755.969853                          102.515921   \n",
      "\n",
      "   Location_CenterMassIntensity_Z_ch1  Location_Center_X  Location_Center_Y   \n",
      "0                                 0.0        1740.400000          72.600000  \\\n",
      "1                                 0.0        1735.256410          72.333333   \n",
      "2                                 0.0        1651.545455          84.272727   \n",
      "3                                 0.0        1648.500000          88.500000   \n",
      "4                                 0.0        1755.907407         102.481481   \n",
      "\n",
      "   Location_MaxIntensity_X_ch1  Location_MaxIntensity_Y_ch1   \n",
      "0                       1740.0                         72.0  \\\n",
      "1                       1736.0                         72.0   \n",
      "2                       1651.0                         84.0   \n",
      "3                       1648.0                         88.0   \n",
      "4                       1756.0                        103.0   \n",
      "\n",
      "   Location_MaxIntensity_Z_ch1  Number_Object_Number  Parent_SpotInNuclei  \n",
      "0                          0.0                     1                    1  \n",
      "1                          0.0                     2                    2  \n",
      "2                          0.0                     3                    3  \n",
      "3                          0.0                     4                    4  \n",
      "4                          0.0                     5                    5  \n",
      "\n",
      "[5 rows x 25 columns]\n"
     ]
    }
   ],
   "source": [
    "for k, v in measurement_dfs.items():\n",
    "    print(k)\n",
    "    # v.describe()\n",
    "    print(v.head())\n",
    "\n"
   ]
  },
  {
   "cell_type": "code",
   "execution_count": 11,
   "metadata": {
    "ExecuteTime": {
     "end_time": "2023-05-11T12:58:14.571383071Z",
     "start_time": "2023-05-11T12:58:14.356975664Z"
    }
   },
   "outputs": [],
   "source": [
    "# remove the output directory\n",
    "output_dir.cleanup()\n",
    "\n",
    "# and close the connection to the OMERO server\n",
    "conn.close()"
   ]
  },
  {
   "cell_type": "code",
   "execution_count": null,
   "metadata": {},
   "outputs": [],
   "source": []
  }
 ],
 "metadata": {
  "kernelspec": {
   "display_name": "Python 3 (ipykernel)",
   "language": "python",
   "name": "python3"
  },
  "language_info": {
   "codemirror_mode": {
    "name": "ipython",
    "version": 3
   },
   "file_extension": ".py",
   "mimetype": "text/x-python",
   "name": "python",
   "nbconvert_exporter": "python",
   "pygments_lexer": "ipython3",
   "version": "3.8.12"
  }
 },
 "nbformat": 4,
 "nbformat_minor": 1
}
