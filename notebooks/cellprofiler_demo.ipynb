{
 "cells": [
  {
   "cell_type": "markdown",
   "metadata": {},
   "source": [
    "## CellProfiler-OMERO demo\n",
    "We have setup an example notebook to guide you through the steps to analise images stored in OMERO using CellProfiler\n",
    "\n",
    "Let's start by importing some libraries we are going to need"
   ]
  },
  {
   "cell_type": "code",
   "execution_count": 1,
   "metadata": {
    "ExecuteTime": {
     "start_time": "2023-05-15T13:47:06.257030Z",
     "end_time": "2023-05-15T13:47:08.515724Z"
    }
   },
   "outputs": [
    {
     "name": "stderr",
     "output_type": "stream",
     "text": [
      "\n",
      "Bad key text.latex.preview in file /home/julio/.conda/envs/cellprofiler4/lib/python3.8/site-packages/matplotlib/mpl-data/stylelib/_classic_test.mplstyle, line 123 ('text.latex.preview : False')\n",
      "You probably need to get an updated matplotlibrc file from\n",
      "https://github.com/matplotlib/matplotlib/blob/v3.5.3/matplotlibrc.template\n",
      "or from the matplotlib source distribution\n",
      "\n",
      "Bad key mathtext.fallback_to_cm in file /home/julio/.conda/envs/cellprofiler4/lib/python3.8/site-packages/matplotlib/mpl-data/stylelib/_classic_test.mplstyle, line 155 ('mathtext.fallback_to_cm : True  # When True, use symbols from the Computer Modern')\n",
      "You probably need to get an updated matplotlibrc file from\n",
      "https://github.com/matplotlib/matplotlib/blob/v3.5.3/matplotlibrc.template\n",
      "or from the matplotlib source distribution\n",
      "\n",
      "Bad key savefig.jpeg_quality in file /home/julio/.conda/envs/cellprofiler4/lib/python3.8/site-packages/matplotlib/mpl-data/stylelib/_classic_test.mplstyle, line 418 ('savefig.jpeg_quality: 95       # when a jpeg is saved, the default quality parameter.')\n",
      "You probably need to get an updated matplotlibrc file from\n",
      "https://github.com/matplotlib/matplotlib/blob/v3.5.3/matplotlibrc.template\n",
      "or from the matplotlib source distribution\n",
      "\n",
      "Bad key keymap.all_axes in file /home/julio/.conda/envs/cellprofiler4/lib/python3.8/site-packages/matplotlib/mpl-data/stylelib/_classic_test.mplstyle, line 466 ('keymap.all_axes : a                 # enable all axes')\n",
      "You probably need to get an updated matplotlibrc file from\n",
      "https://github.com/matplotlib/matplotlib/blob/v3.5.3/matplotlibrc.template\n",
      "or from the matplotlib source distribution\n",
      "\n",
      "Bad key animation.avconv_path in file /home/julio/.conda/envs/cellprofiler4/lib/python3.8/site-packages/matplotlib/mpl-data/stylelib/_classic_test.mplstyle, line 477 ('animation.avconv_path: avconv     # Path to avconv binary. Without full path')\n",
      "You probably need to get an updated matplotlibrc file from\n",
      "https://github.com/matplotlib/matplotlib/blob/v3.5.3/matplotlibrc.template\n",
      "or from the matplotlib source distribution\n",
      "\n",
      "Bad key animation.avconv_args in file /home/julio/.conda/envs/cellprofiler4/lib/python3.8/site-packages/matplotlib/mpl-data/stylelib/_classic_test.mplstyle, line 479 ('animation.avconv_args:            # Additional arguments to pass to avconv')\n",
      "You probably need to get an updated matplotlibrc file from\n",
      "https://github.com/matplotlib/matplotlib/blob/v3.5.3/matplotlibrc.template\n",
      "or from the matplotlib source distribution\n",
      "WARNING:root:Could not load runcellpose\n",
      "Traceback (most recent call last):\n",
      "  File \"/home/julio/.conda/envs/cellprofiler4/lib/python3.8/site-packages/cellprofiler_core/utilities/core/modules/__init__.py\", line 71, in add_module\n",
      "    m = __import__(mod, globals(), locals(), [\"__all__\"], 0)\n",
      "  File \"/home/julio/Apps/cellprofiler/plugins/CellProfiler-plugins/runcellpose.py\", line 3, in <module>\n",
      "    from cellpose import models, io, core, utils\n",
      "ModuleNotFoundError: No module named 'cellpose'\n",
      "WARNING:root:Could not load runomnipose\n",
      "Traceback (most recent call last):\n",
      "  File \"/home/julio/.conda/envs/cellprofiler4/lib/python3.8/site-packages/cellprofiler_core/utilities/core/modules/__init__.py\", line 71, in add_module\n",
      "    m = __import__(mod, globals(), locals(), [\"__all__\"], 0)\n",
      "  File \"/home/julio/Apps/cellprofiler/plugins/CellProfiler-plugins/runomnipose.py\", line 3, in <module>\n",
      "    from cellpose_omni import models, io, core, plot\n",
      "ModuleNotFoundError: No module named 'cellpose_omni'\n",
      "WARNING:root:Could not load runstardist\n",
      "Traceback (most recent call last):\n",
      "  File \"/home/julio/.conda/envs/cellprofiler4/lib/python3.8/site-packages/cellprofiler_core/utilities/core/modules/__init__.py\", line 71, in add_module\n",
      "    m = __import__(mod, globals(), locals(), [\"__all__\"], 0)\n",
      "  File \"/home/julio/Apps/cellprofiler/plugins/CellProfiler-plugins/runstardist.py\", line 5, in <module>\n",
      "    from stardist.models import StarDist2D, StarDist3D\n",
      "ModuleNotFoundError: No module named 'stardist'\n",
      "WARNING:root:Could not load loadimagesfromomero\n",
      "Traceback (most recent call last):\n",
      "  File \"/home/julio/.conda/envs/cellprofiler4/lib/python3.8/site-packages/cellprofiler_core/utilities/core/modules/__init__.py\", line 71, in add_module\n",
      "    m = __import__(mod, globals(), locals(), [\"__all__\"], 0)\n",
      "  File \"/home/julio/Apps/cellprofiler/plugins/CellProfiler-plugins/loadimagesfromomero.py\", line 48, in <module>\n",
      "    from cellprofiler_core.modules import default_cpimage_name\n",
      "ImportError: cannot import name 'default_cpimage_name' from partially initialized module 'cellprofiler_core.modules' (most likely due to a circular import) (/home/julio/.conda/envs/cellprofiler4/lib/python3.8/site-packages/cellprofiler_core/modules/__init__.py)\n",
      "WARNING:root:Could not load runimagejscript\n",
      "Traceback (most recent call last):\n",
      "  File \"/home/julio/.conda/envs/cellprofiler4/lib/python3.8/site-packages/cellprofiler_core/utilities/core/modules/__init__.py\", line 71, in add_module\n",
      "    m = __import__(mod, globals(), locals(), [\"__all__\"], 0)\n",
      "  File \"/home/julio/Apps/cellprofiler/plugins/CellProfiler-plugins/runimagejscript.py\", line 25, in <module>\n",
      "    import cpij.bridge as ijbridge, cpij.server as ijserver\n",
      "  File \"/home/julio/Apps/cellprofiler/plugins/CellProfiler-plugins/cpij/bridge.py\", line 3, in <module>\n",
      "    import atexit, cpij.server as ijserver\n",
      "  File \"/home/julio/Apps/cellprofiler/plugins/CellProfiler-plugins/cpij/server.py\", line 9, in <module>\n",
      "    import jpype, imagej, multiprocessing, socket, threading, time\n",
      "ModuleNotFoundError: No module named 'jpype'\n",
      "WARNING:root:could not load these modules: runcellpose,runomnipose,runstardist,loadimagesfromomero,runimagejscript\n"
     ]
    }
   ],
   "source": [
    "import numpy as np\n",
    "from ipywidgets import IntProgress\n",
    "from IPython.display import display\n",
    "\n",
    "import warnings\n",
    "warnings.filterwarnings('ignore')\n",
    "\n",
    "import ezomero\n",
    "\n",
    "import cellprofiler_core.preferences as cp_preferences\n",
    "import cellprofiler_core.pipeline as cp_pipeline\n",
    "import cellprofiler_core.measurement as cp_measurement\n",
    "from cellprofiler_core.modules.injectimage import InjectImage\n",
    "\n",
    "import pandas as pd\n",
    "import tempfile"
   ]
  },
  {
   "cell_type": "code",
   "execution_count": 2,
   "metadata": {
    "ExecuteTime": {
     "start_time": "2023-05-15T13:47:39.706276Z",
     "end_time": "2023-05-15T13:47:39.747264Z"
    }
   },
   "outputs": [],
   "source": [
    "# Make CellProfiler run without a GUI\n",
    "cp_preferences.set_headless()\n",
    "\n",
    "# Tell CellProfiler to get input from and save output in a temp directory\n",
    "output_dir = tempfile.TemporaryDirectory()\n",
    "input_dir = tempfile.TemporaryDirectory()\n",
    "cp_preferences.set_default_output_directory(output_dir.name)\n",
    "cp_preferences.set_default_image_directory(input_dir.name)"
   ]
  },
  {
   "cell_type": "code",
   "execution_count": 14,
   "outputs": [],
   "source": [
    "import omero_rois\n",
    "from omero.gateway import ColorHolder\n",
    "from omero.model import MaskI, RoiI\n",
    "from omero.rtypes import rstring, rdouble, rint\n",
    "\n",
    "\n",
    "def create_roi(conn, img, shapes, name):\n",
    "    updateService = conn.getUpdateService()\n",
    "\n",
    "    # create an ROI, link it to Image\n",
    "    roi = RoiI()\n",
    "    # use the omero.model.ImageI that underlies the 'image' wrapper\n",
    "    roi.setImage(img._obj)\n",
    "    roi.setName(rstring(name))\n",
    "    for shape in shapes:\n",
    "        # shape.setTextValue(rstring(name))\n",
    "        roi.addShape(shape)\n",
    "    # Save the ROI (saves any linked shapes too)\n",
    "    return updateService.saveAndReturnObject(roi).id.val\n",
    "\n",
    "\n",
    "def masks_from_labels_image_3d(\n",
    "        labels_3d, rgba=None, c=None, t=None, text=None,\n",
    "        raise_on_no_mask=True):  # sourcery skip: low-code-quality\n",
    "    \"\"\"\n",
    "    Create a mask shape from a binary image (background=0)\n",
    "\n",
    "    :param numpy.array labels_3d: labels 3D array\n",
    "    :param rgba int-4-tuple: Optional (red, green, blue, alpha) colour\n",
    "    :param c: Optional C-index for the mask\n",
    "    :param t: Optional T-index for the mask\n",
    "    :param text: Optional text for the mask\n",
    "    :param raise_on_no_mask: If True (default) throw an exception if no mask\n",
    "           found, otherwise return an empty Mask\n",
    "    :return: An OMERO mask\n",
    "    :raises NoMaskFound: If no labels were found\n",
    "    :raises InvalidBinaryImage: If the maximum labels is greater than 1\n",
    "    \"\"\"\n",
    "    shapes = {}\n",
    "    for i in range(1, labels_3d.max() + 1):\n",
    "        if not np.any(labels_3d == i):\n",
    "            continue\n",
    "\n",
    "        masks = []\n",
    "        bin_img = labels_3d == i\n",
    "        # Find bounding box to minimise size of mask\n",
    "        xmask = bin_img.sum(0).sum(0).nonzero()[0]\n",
    "        ymask = bin_img.sum(0).sum(1).nonzero()[0]\n",
    "        if any(xmask) and any(ymask):\n",
    "            x0 = min(xmask)\n",
    "            w = max(xmask) - x0 + 1\n",
    "            y0 = min(ymask)\n",
    "            h = max(ymask) - y0 + 1\n",
    "            submask = bin_img[:, y0:(y0 + h), x0:(x0 + w)]\n",
    "        else:\n",
    "            if raise_on_no_mask:\n",
    "                raise omero_rois.NoMaskFound()\n",
    "            x0 = 0\n",
    "            w = 0\n",
    "            y0 = 0\n",
    "            h = 0\n",
    "            submask = []\n",
    "\n",
    "        for z, plane in enumerate(submask):\n",
    "            if np.any(plane):\n",
    "                mask = MaskI()\n",
    "                mask.setBytes(np.packbits(np.asarray(plane, dtype=int)))\n",
    "                mask.setWidth(rdouble(w))\n",
    "                mask.setHeight(rdouble(h))\n",
    "                mask.setX(rdouble(x0))\n",
    "                mask.setY(rdouble(y0))\n",
    "                mask.setTheZ(rint(z))\n",
    "\n",
    "                if rgba is not None:\n",
    "                    ch = ColorHolder.fromRGBA(*rgba)\n",
    "                    mask.setFillColor(rint(ch.getInt()))\n",
    "                if c is not None:\n",
    "                    mask.setTheC(rint(c))\n",
    "                if t is not None:\n",
    "                    mask.setTheT(rint(t))\n",
    "                if text is not None:\n",
    "                    mask.setTextValue(rstring(text))\n",
    "\n",
    "                masks.append(mask)\n",
    "\n",
    "        shapes[i] = masks\n",
    "\n",
    "    return shapes\n"
   ],
   "metadata": {
    "collapsed": false,
    "ExecuteTime": {
     "start_time": "2023-05-15T16:04:39.107161Z",
     "end_time": "2023-05-15T16:04:39.148180Z"
    }
   }
  },
  {
   "cell_type": "markdown",
   "metadata": {},
   "source": [
    "Let's connect to OMERO. When we connect we get a connection object that we will have to use in every interaction with OMERO."
   ]
  },
  {
   "cell_type": "code",
   "execution_count": 3,
   "metadata": {
    "ExecuteTime": {
     "start_time": "2023-05-15T13:47:41.345655Z",
     "end_time": "2023-05-15T13:47:55.128657Z"
    }
   },
   "outputs": [
    {
     "data": {
      "text/plain": "True"
     },
     "execution_count": 3,
     "metadata": {},
     "output_type": "execute_result"
    }
   ],
   "source": [
    "# Creating a connection object\n",
    "host = \"omero.mri.cnrs.fr\"\n",
    "port = 4064\n",
    "conn = ezomero.connect(host=host, port=port)\n",
    "\n",
    "# Connecting\n",
    "conn.connect()\n",
    "# The connection will timeout after a period of inactivity. To avoid that we can tell our new connection to say \"Hi, I'm still here\"\n",
    "conn.c.enableKeepAlive(60)\n",
    "# Let's verify that we are connected\n",
    "conn.isConnected()"
   ]
  },
  {
   "cell_type": "markdown",
   "metadata": {},
   "source": [
    "Time to grasp a Dataset from OMERO and download a CellProfiler pipeline that is attached to it. Go to the browser, select a dataset and copy the ID."
   ]
  },
  {
   "cell_type": "code",
   "execution_count": 4,
   "metadata": {
    "ExecuteTime": {
     "start_time": "2023-05-15T13:47:59.918961Z",
     "end_time": "2023-05-15T13:48:03.980885Z"
    }
   },
   "outputs": [
    {
     "name": "stdout",
     "output_type": "stream",
     "text": [
      "Downloaded /tmp/tmpmiytnkef/Megane_SpotInNuclei-encours_test_noOUT.cppipe\n"
     ]
    }
   ],
   "source": [
    "dataset_id = int(input(\"Dataset id: \"))\n",
    "dataset = conn.getObject(\"Dataset\", dataset_id)\n",
    "\n",
    "file_ann_ids = ezomero.get_file_annotation_ids(conn, \"Dataset\", dataset_id)\n",
    "for file_ann_id in file_ann_ids:\n",
    "    if conn.getObject(\"FileAnnotation\", file_ann_id).getFile().getName().endswith(\".cppipe\"):\n",
    "        cp_pipeline_path = ezomero.get_file_annotation(conn, file_ann_id, input_dir.name)\n",
    "        print(f\"Downloaded {cp_pipeline_path}\")\n",
    "        break"
   ]
  },
  {
   "cell_type": "markdown",
   "metadata": {},
   "source": [
    "We create a new pipeline with that file and we remove the first 4 modules. The first 4 modules are in charge of preparing the image data when they are loaded from disk. We don't need them here because we are using OMERO."
   ]
  },
  {
   "cell_type": "code",
   "execution_count": 5,
   "metadata": {
    "ExecuteTime": {
     "start_time": "2023-05-15T13:48:10.766405Z",
     "end_time": "2023-05-15T13:48:10.807922Z"
    }
   },
   "outputs": [
    {
     "name": "stderr",
     "output_type": "stream",
     "text": [
      "WARNING:root:Your pipeline version is 425 but you are running CellProfiler version 424. Loading this pipeline may fail or have unpredictable results.\n"
     ]
    },
    {
     "name": "stdout",
     "output_type": "stream",
     "text": [
      "Remove module:  Images\n",
      "Remove module:  Metadata\n",
      "Remove module:  NamesAndTypes\n",
      "Remove module:  Groups\n",
      "Pipeline modules:\n",
      "1 CorrectIlluminationCalculate\n",
      "2 CorrectIlluminationCalculate\n",
      "3 CorrectIlluminationApply\n",
      "4 IdentifyPrimaryObjects\n",
      "5 IdentifyPrimaryObjects\n",
      "6 RelateObjects\n",
      "7 MeasureObjectIntensity\n",
      "8 ConvertObjectsToImage\n",
      "9 ConvertObjectsToImage\n",
      "10 SaveImages\n",
      "11 SaveImages\n"
     ]
    }
   ],
   "source": [
    "pipeline = cp_pipeline.Pipeline()\n",
    "pipeline.load(cp_pipeline_path)\n",
    "\n",
    "for i in range(4):\n",
    "    print('Remove module: ', pipeline.modules()[0].module_name)\n",
    "    pipeline.remove_module(1)\n",
    "\n",
    "# TODO: Enable modules\n",
    "print('Pipeline modules:')\n",
    "for module in pipeline.modules(False):\n",
    "    print(module.module_num, module.module_name)"
   ]
  },
  {
   "cell_type": "markdown",
   "metadata": {},
   "source": [
    "We can now start feeding images into the pipeline"
   ]
  },
  {
   "cell_type": "code",
   "execution_count": 18,
   "metadata": {
    "ExecuteTime": {
     "start_time": "2023-05-15T16:04:56.400096Z",
     "end_time": "2023-05-15T16:05:49.781849Z"
    }
   },
   "outputs": [
    {
     "name": "stdout",
     "output_type": "stream",
     "text": [
      "Progress:\n"
     ]
    },
    {
     "data": {
      "text/plain": "IntProgress(value=0, max=4)",
      "application/vnd.jupyter.widget-view+json": {
       "version_major": 2,
       "version_minor": 0,
       "model_id": "b734dcd7ee0f4962a2e280277a5c826c"
      }
     },
     "metadata": {},
     "output_type": "display_data"
    },
    {
     "name": "stdout",
     "output_type": "stream",
     "text": [
      "(2048, 2048)\n"
     ]
    },
    {
     "ename": "AxisError",
     "evalue": "axis 1 is out of bounds for array of dimension 1",
     "output_type": "error",
     "traceback": [
      "\u001B[0;31m---------------------------------------------------------------------------\u001B[0m",
      "\u001B[0;31mAxisError\u001B[0m                                 Traceback (most recent call last)",
      "Cell \u001B[0;32mIn[18], line 65\u001B[0m\n\u001B[1;32m     63\u001B[0m labels \u001B[38;5;241m=\u001B[39m np\u001B[38;5;241m.\u001B[39mload(\u001B[38;5;124mf\u001B[39m\u001B[38;5;124m\"\u001B[39m\u001B[38;5;132;01m{\u001B[39;00moutput_dir\u001B[38;5;241m.\u001B[39mname\u001B[38;5;132;01m}\u001B[39;00m\u001B[38;5;124m/\u001B[39m\u001B[38;5;132;01m{\u001B[39;00mobject_name\u001B[38;5;132;01m}\u001B[39;00m\u001B[38;5;124m.npy\u001B[39m\u001B[38;5;124m\"\u001B[39m)\n\u001B[1;32m     64\u001B[0m \u001B[38;5;28mprint\u001B[39m(labels\u001B[38;5;241m.\u001B[39mshape)\n\u001B[0;32m---> 65\u001B[0m masks \u001B[38;5;241m=\u001B[39m \u001B[43mmasks_from_labels_image_3d\u001B[49m\u001B[43m(\u001B[49m\u001B[43mlabels\u001B[49m\u001B[43m)\u001B[49m\n\u001B[1;32m     66\u001B[0m roi_id \u001B[38;5;241m=\u001B[39m create_roi(conn\u001B[38;5;241m=\u001B[39mconn,\n\u001B[1;32m     67\u001B[0m                     img\u001B[38;5;241m=\u001B[39mimage,\n\u001B[1;32m     68\u001B[0m                     shapes\u001B[38;5;241m=\u001B[39mmasks,\n\u001B[1;32m     69\u001B[0m                     name\u001B[38;5;241m=\u001B[39m\u001B[38;5;124mf\u001B[39m\u001B[38;5;124m\"\u001B[39m\u001B[38;5;132;01m{\u001B[39;00mobject_name\u001B[38;5;132;01m}\u001B[39;00m\u001B[38;5;124m_\u001B[39m\u001B[38;5;132;01m{\u001B[39;00mdata[\u001B[38;5;124m'\u001B[39m\u001B[38;5;124mNumber_Object_Number\u001B[39m\u001B[38;5;124m'\u001B[39m][i]\u001B[38;5;132;01m}\u001B[39;00m\u001B[38;5;124m\"\u001B[39m)\n\u001B[1;32m     70\u001B[0m data[\u001B[38;5;124m\"\u001B[39m\u001B[38;5;124mROI\u001B[39m\u001B[38;5;124m\"\u001B[39m][i] \u001B[38;5;241m=\u001B[39m roi_id\n",
      "Cell \u001B[0;32mIn[14], line 48\u001B[0m, in \u001B[0;36mmasks_from_labels_image_3d\u001B[0;34m(labels_3d, rgba, c, t, text, raise_on_no_mask)\u001B[0m\n\u001B[1;32m     46\u001B[0m \u001B[38;5;66;03m# Find bounding box to minimise size of mask\u001B[39;00m\n\u001B[1;32m     47\u001B[0m xmask \u001B[38;5;241m=\u001B[39m bin_img\u001B[38;5;241m.\u001B[39msum(\u001B[38;5;241m0\u001B[39m)\u001B[38;5;241m.\u001B[39msum(\u001B[38;5;241m0\u001B[39m)\u001B[38;5;241m.\u001B[39mnonzero()[\u001B[38;5;241m0\u001B[39m]\n\u001B[0;32m---> 48\u001B[0m ymask \u001B[38;5;241m=\u001B[39m \u001B[43mbin_img\u001B[49m\u001B[38;5;241;43m.\u001B[39;49m\u001B[43msum\u001B[49m\u001B[43m(\u001B[49m\u001B[38;5;241;43m0\u001B[39;49m\u001B[43m)\u001B[49m\u001B[38;5;241;43m.\u001B[39;49m\u001B[43msum\u001B[49m\u001B[43m(\u001B[49m\u001B[38;5;241;43m1\u001B[39;49m\u001B[43m)\u001B[49m\u001B[38;5;241m.\u001B[39mnonzero()[\u001B[38;5;241m0\u001B[39m]\n\u001B[1;32m     49\u001B[0m \u001B[38;5;28;01mif\u001B[39;00m \u001B[38;5;28many\u001B[39m(xmask) \u001B[38;5;129;01mand\u001B[39;00m \u001B[38;5;28many\u001B[39m(ymask):\n\u001B[1;32m     50\u001B[0m     x0 \u001B[38;5;241m=\u001B[39m \u001B[38;5;28mmin\u001B[39m(xmask)\n",
      "File \u001B[0;32m~/.conda/envs/cellprofiler4/lib/python3.8/site-packages/numpy/core/_methods.py:49\u001B[0m, in \u001B[0;36m_sum\u001B[0;34m(a, axis, dtype, out, keepdims, initial, where)\u001B[0m\n\u001B[1;32m     47\u001B[0m \u001B[38;5;28;01mdef\u001B[39;00m \u001B[38;5;21m_sum\u001B[39m(a, axis\u001B[38;5;241m=\u001B[39m\u001B[38;5;28;01mNone\u001B[39;00m, dtype\u001B[38;5;241m=\u001B[39m\u001B[38;5;28;01mNone\u001B[39;00m, out\u001B[38;5;241m=\u001B[39m\u001B[38;5;28;01mNone\u001B[39;00m, keepdims\u001B[38;5;241m=\u001B[39m\u001B[38;5;28;01mFalse\u001B[39;00m,\n\u001B[1;32m     48\u001B[0m          initial\u001B[38;5;241m=\u001B[39m_NoValue, where\u001B[38;5;241m=\u001B[39m\u001B[38;5;28;01mTrue\u001B[39;00m):\n\u001B[0;32m---> 49\u001B[0m     \u001B[38;5;28;01mreturn\u001B[39;00m \u001B[43mumr_sum\u001B[49m\u001B[43m(\u001B[49m\u001B[43ma\u001B[49m\u001B[43m,\u001B[49m\u001B[43m \u001B[49m\u001B[43maxis\u001B[49m\u001B[43m,\u001B[49m\u001B[43m \u001B[49m\u001B[43mdtype\u001B[49m\u001B[43m,\u001B[49m\u001B[43m \u001B[49m\u001B[43mout\u001B[49m\u001B[43m,\u001B[49m\u001B[43m \u001B[49m\u001B[43mkeepdims\u001B[49m\u001B[43m,\u001B[49m\u001B[43m \u001B[49m\u001B[43minitial\u001B[49m\u001B[43m,\u001B[49m\u001B[43m \u001B[49m\u001B[43mwhere\u001B[49m\u001B[43m)\u001B[49m\n",
      "\u001B[0;31mAxisError\u001B[0m: axis 1 is out of bounds for array of dimension 1"
     ]
    }
   ],
   "source": [
    "# Lets create some dataframes to store data on the experiment, images and the different objects measured by cellprofiler\n",
    "measurement_dfs = {}\n",
    "for column in pipeline.get_measurement_columns():\n",
    "    if column[0] not in measurement_dfs.keys():\n",
    "        measurement_dfs[column[0]] = pd.DataFrame()\n",
    "\n",
    "# Get the ids of the images we want to analyze\n",
    "image_ids = ezomero.get_image_ids(conn=conn, dataset=dataset_id, across_groups=False)\n",
    "\n",
    "# Prepare a progress bar\n",
    "print(\"Progress:\")\n",
    "progress_bar = IntProgress(min=0, max=len(image_ids)-1)\n",
    "display(progress_bar)\n",
    "\n",
    "# Define which object measurements you want to be stored as a table\n",
    "objects_to_table = {\"nuclei\"}\n",
    "\n",
    "# Define which objects to be saved as masks\n",
    "objects_to_mask = {\"nuclei\"}\n",
    "\n",
    "# Define which objects to be saved as ROI points\n",
    "objects_to_point = {}\n",
    "# objects_to_point = {\"nuclei\"}\n",
    "# objects_to_point = {\"spots\"}\n",
    "\n",
    "# TODO: exclude the possibility to save rois as points and as masks\n",
    "\n",
    "# Lets collect all images in a dataset and feed them one at a time into the pipeline.\n",
    "for count, image_id in enumerate(image_ids):\n",
    "    image, image_pixels = ezomero.get_image(conn, image_id)\n",
    "\n",
    "    pipeline_copy = pipeline.copy()\n",
    "\n",
    "    for c in range(image.getSizeC()):\n",
    "        inject_image_module = InjectImage(f\"ch{c}\", image_pixels[...,c].squeeze())\n",
    "        inject_image_module.set_module_num(1)\n",
    "        pipeline_copy.add_module(inject_image_module)\n",
    "\n",
    "    measurements = pipeline_copy.run()\n",
    "\n",
    "    for object_name, _ in measurement_dfs.items():\n",
    "        if object_name == \"Experiment\": continue\n",
    "        if object_name == \"Image\": continue\n",
    "\n",
    "        data = {f:measurements.get_measurement(object_name,f) for f in measurements.get_feature_names(object_name)}\n",
    "        if object_name in objects_to_point:\n",
    "            data[\"ROI\"] = np.ndarray(shape=(len(data[\"Number_Object_Number\"])), dtype=\"int\")\n",
    "            for i in range(len(data[\"Number_Object_Number\"])):\n",
    "                point = ezomero.rois.Point(data[\"Location_Center_X\"][i],\n",
    "                                           data[\"Location_Center_Y\"][i],\n",
    "                                           data[\"Location_Center_Z\"][i],\n",
    "                                           label=f\"{object_name}_{data['Number_Object_Number'][i]}\")\n",
    "                point_id = ezomero.post_roi(conn=conn,\n",
    "                                            image_id=image_id,\n",
    "                                            shapes=[point],\n",
    "                                            name=f\"{object_name}_{data['Number_Object_Number'][i]}\",\n",
    "                                            description=None)\n",
    "                data[\"ROI\"][i] = point_id\n",
    "\n",
    "        elif object_name in objects_to_mask:\n",
    "            data[\"ROI\"] = np.ndarray(shape=(len(data[\"Number_Object_Number\"])), dtype=\"int\")\n",
    "\n",
    "            labels = np.load(f\"{output_dir.name}/{object_name}.npy\")\n",
    "            print(labels.shape)\n",
    "            masks = masks_from_labels_image_3d(labels)\n",
    "            roi_id = create_roi(conn=conn,\n",
    "                                img=image,\n",
    "                                shapes=masks,\n",
    "                                name=f\"{object_name}_{data['Number_Object_Number'][i]}\")\n",
    "            data[\"ROI\"][i] = roi_id\n",
    "\n",
    "\n",
    "\n",
    "        measurement_dfs[object_name] = pd.concat([measurement_dfs[object_name], pd.DataFrame.from_dict(data)], ignore_index=True)\n",
    "\n",
    "    progress_bar.value = count\n",
    "\n"
   ]
  },
  {
   "cell_type": "code",
   "execution_count": 16,
   "metadata": {
    "ExecuteTime": {
     "start_time": "2023-05-15T16:05:25.947907Z",
     "end_time": "2023-05-15T16:05:26.055011Z"
    }
   },
   "outputs": [
    {
     "name": "stdout",
     "output_type": "stream",
     "text": [
      "Experiment\n",
      "Empty DataFrame\n",
      "Columns: []\n",
      "Index: []\n",
      "Image\n",
      "Empty DataFrame\n",
      "Columns: []\n",
      "Index: []\n",
      "nuclei\n",
      "Empty DataFrame\n",
      "Columns: []\n",
      "Index: []\n",
      "spots_unmasked\n",
      "Empty DataFrame\n",
      "Columns: []\n",
      "Index: []\n",
      "spots\n",
      "Empty DataFrame\n",
      "Columns: []\n",
      "Index: []\n"
     ]
    }
   ],
   "source": [
    "for k, v in measurement_dfs.items():\n",
    "    print(k)\n",
    "    # v.describe()\n",
    "    print(v.head())\n",
    "\n"
   ]
  },
  {
   "cell_type": "code",
   "execution_count": null,
   "metadata": {
    "ExecuteTime": {
     "start_time": "2023-05-15T13:45:52.238435Z",
     "end_time": "2023-05-15T13:45:52.260069Z"
    }
   },
   "outputs": [],
   "source": [
    "# remove the output directory\n",
    "output_dir.cleanup()\n",
    "\n",
    "# and close the connection to the OMERO server\n",
    "conn.close()"
   ]
  },
  {
   "cell_type": "code",
   "execution_count": null,
   "metadata": {},
   "outputs": [],
   "source": []
  }
 ],
 "metadata": {
  "kernelspec": {
   "display_name": "Python 3 (ipykernel)",
   "language": "python",
   "name": "python3"
  },
  "language_info": {
   "codemirror_mode": {
    "name": "ipython",
    "version": 3
   },
   "file_extension": ".py",
   "mimetype": "text/x-python",
   "name": "python",
   "nbconvert_exporter": "python",
   "pygments_lexer": "ipython3",
   "version": "3.8.16"
  }
 },
 "nbformat": 4,
 "nbformat_minor": 1
}
